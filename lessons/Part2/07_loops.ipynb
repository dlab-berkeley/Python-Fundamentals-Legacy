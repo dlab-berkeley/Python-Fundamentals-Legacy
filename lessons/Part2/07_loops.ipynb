{
 "cells": [
  {
   "cell_type": "markdown",
   "metadata": {},
   "source": [
    "# Loops\n",
    "\n",
    "**Learning Objectives**:\n",
    "- Understand the syntax of loops.\n",
    "- Use loops to iterate through multple operations.\n",
    "- Aggregate values using the accumulator pattern.\n",
    "* * * * *"
   ]
  },
  {
   "cell_type": "markdown",
   "metadata": {},
   "source": [
    "Let's say we have three tire pressure measurements: `40.9`, `35.2`, and `28.4`. We want to round each measurement to a whole number. How would we do this using the tools available to us?\n",
    "\n",
    "Here's one way:"
   ]
  },
  {
   "cell_type": "code",
   "execution_count": null,
   "metadata": {},
   "outputs": [],
   "source": [
    "tire1 = 40.9\n",
    "tire2 = 35.2\n",
    "tire3 = 28.4\n",
    "\n",
    "print(round(tire1))\n",
    "print(round(tire2))\n",
    "print(round(tire3))"
   ]
  },
  {
   "cell_type": "code",
   "execution_count": null,
   "metadata": {},
   "outputs": [],
   "source": [
    "# We could also use a list\n",
    "tires = [40.9, 35.2, 28.4]\n",
    "print(round(tires[0]), round(tires[1]), round(tires[2]))"
   ]
  },
  {
   "cell_type": "markdown",
   "metadata": {},
   "source": [
    "Let's say that we have 1000 tire pressures in a list. Are we going to have to round each one by hand?\n",
    "\n",
    "Our current approach is not particularly scalable. It's also not very flexible. For example, what if you want to round every tire pressure to two decimal places?"
   ]
  },
  {
   "cell_type": "markdown",
   "metadata": {},
   "source": [
    "## Loops Facilitate Repeated Computation\n",
    "\n",
    "The strength of using computers is their speed. We can leverage this by facilitating repeated computation with **loops**. In programming, there are generally two kinds of loops: for loops and while loops. \n",
    "\n",
    "A **for loop** tells Python to execute some statements once *for* each value in a list, a character string, or some other set of values. Specifically, we structure our computation as: \"**for** each thing in this group, **do** these operations\".\n",
    "\n",
    "In the above example, we would think of the for loop as: \"for each tire pressure, round it to $N$ decimal places\".\n",
    "\n",
    "The other major type of loop is a [while](https://www.geeksforgeeks.org/python-while-loop/) loop. We don't use these loops frequently in this type of programming, but we may encounter them.\n",
    "\n",
    "Let's take a look at the syntax of a for loop using the above example:"
   ]
  },
  {
   "cell_type": "code",
   "execution_count": null,
   "metadata": {},
   "outputs": [],
   "source": [
    "# We use the \"for\" and \"in\" keywords\n",
    "# The block of the for loop is indicated by a colon\n",
    "for pressure in [40.9, 35.2, 28.4]:\n",
    "    # Indentation is very important! It's how Python knows that this is inside the for loop\n",
    "    print(round(pressure))\n",
    "\n",
    "print('the loop has ended')"
   ]
  },
  {
   "cell_type": "code",
   "execution_count": null,
   "metadata": {},
   "outputs": [],
   "source": [
    "# We can also substitute a variable containing a list\n",
    "for pressure in tires:\n",
    "    print(round(pressure))\n",
    "\n",
    "print('the loop has ended')"
   ]
  },
  {
   "cell_type": "markdown",
   "metadata": {},
   "source": [
    "One nice thing about Python is that its syntax is amenable to interpreting things in plain language. In the above example, it's easy to read it as: \"for each pressure in tires, print out the rounded pressure\".\n",
    "\n",
    "(This requires that you use good names for your variables, though!)."
   ]
  },
  {
   "cell_type": "markdown",
   "metadata": {},
   "source": [
    "## Loop Syntax\n",
    "\n",
    "Let's break down the syntax of the for loop more closely.\n",
    "\n",
    "*   The colon at the end of the first line signals the start of a *block* of statements.\n",
    "*   The indented line(s) following the colon indicate the lines to run as a part of the loop (also known as the body).\n",
    "*   Unindented lines following the loop will execute **after** all iterations of the for loop are complete.\n",
    "*   `for loop_variable in collection:` The loop variable is what gets plugged into the calculations in the body of the loop, and the collection is the group of values being looped through.\n",
    "*   As with all variables, loop variables are:\n",
    "    *   Created on demand.\n",
    "    *   Meaningless: their names can be anything at all.\n",
    "    *   Placeholders for the loop."
   ]
  },
  {
   "cell_type": "code",
   "execution_count": null,
   "metadata": {},
   "outputs": [],
   "source": [
    "for pressure in [40.9,35.2,28.4]:\n",
    "    p = round(pressure)\n",
    "    print('original:', pressure, 'rounded:', p)\n",
    "print('the loop has ended')\n",
    "\n",
    "#alternatively, you can use a variable for the collection:\n",
    "for pressure in tires:\n",
    "    p=round(pressure)\n",
    "    print('original:',pressure,'rounded:',p)\n",
    "print('the loop has ended')\n"
   ]
  },
  {
   "cell_type": "markdown",
   "metadata": {},
   "source": [
    "## Challenge 1: Fixing Loop Syntax\n",
    "\n",
    "The following block of code contains several errors that are preventing it from running properly. What are the errors? How would you fix them?"
   ]
  },
  {
   "cell_type": "code",
   "execution_count": null,
   "metadata": {},
   "outputs": [],
   "source": [
    "for kitten in [2, 3, 5]\n",
    "print(k)\n"
   ]
  },
  {
   "cell_type": "markdown",
   "metadata": {},
   "source": [
    "## Loops with Strings, Series, and `range`\n",
    "\n",
    "Loops can loop over any iterable data type. An **iterable** is any data type that can be iterated over, like a sequence. A rule of thumb is that anything that can be indexed (e.g. accessed with `values[i]`) is an iterable.\n",
    "\n",
    "For example, a string is iterable, so it is possible to loop through a string!\n",
    "\n",
    "Let's take a look at an example:"
   ]
  },
  {
   "cell_type": "code",
   "execution_count": null,
   "metadata": {},
   "outputs": [],
   "source": [
    "example_string = 'yosemite'\n",
    "\n",
    "for char in example_string:\n",
    "    print(char.upper())"
   ]
  },
  {
   "cell_type": "markdown",
   "metadata": {},
   "source": [
    "There is also a built-in function called `range` which produces a sequence of numbers. This is *not* a list: the numbers are produced on demand to make looping over large ranges more efficient. \n",
    "\n",
    "A few use cases:\n",
    "\n",
    "* `range(N)` produces the integers from $0$ to $N-1$ (remember the zero indexing!).\n",
    "* `range(a, b)` produces the integers from $a$ to $b-1$.\n",
    "* `range(a, b, x)` produces the integers from $a$ to $b-1$, with a spacing of $x$ between the outputs.\n",
    "\n",
    "The `range` function is one of the most common ways of iterating through a sequence, since it's so easy to generate values."
   ]
  },
  {
   "cell_type": "code",
   "execution_count": null,
   "metadata": {},
   "outputs": [],
   "source": [
    "for idx in range(5):\n",
    "    print(idx)\n",
    "    \n",
    "print('The loop has ended.')"
   ]
  },
  {
   "cell_type": "code",
   "execution_count": null,
   "metadata": {},
   "outputs": [],
   "source": [
    "for idx in range(4, 10):\n",
    "    print(idx)\n",
    "    \n",
    "print('The loop has ended.')"
   ]
  },
  {
   "cell_type": "code",
   "execution_count": null,
   "metadata": {},
   "outputs": [],
   "source": [
    "for idx in range(4, 22, 3):\n",
    "    print(idx)\n",
    "    \n",
    "print('The loop has ended.')"
   ]
  },
  {
   "cell_type": "markdown",
   "metadata": {},
   "source": [
    "## Challenge 2: Looping Through a Series\n",
    "\n",
    "Remember looking at `pandas` Series? These are also iterables, so we can loop through them!\n",
    "\n",
    "For the data frame below, let's convert each elevation from feet to meters. Use the conversion: 1 ft = .304 m.\n",
    "\n",
    "Proceed as follows:\n",
    "\n",
    "1. Extract the column `elevation` as a Series.\n",
    "2. Loop through the series.\n",
    "3. Convert each value to meters.\n",
    "4. Print the result. \n",
    "\n",
    "**Bonus**: Use `range` to iterate through the series and achieve the same result. Can you think of any other ways to loop through the DataFrame?"
   ]
  },
  {
   "cell_type": "code",
   "execution_count": null,
   "metadata": {},
   "outputs": [],
   "source": [
    "import pandas as pd\n",
    "\n",
    "mountains_df = pd.DataFrame(\n",
    "    {'mountain': ['Mt. Whitney',\n",
    "                  'Mt. Williamson',\n",
    "                  'White Mountain Peak',\n",
    "                  'North Palisade',\n",
    "                  'Mt. Shasta',\n",
    "                  'Mt. Humphreys'],\n",
    "     'range': ['Sierra Nevada',\n",
    "               'Sierra Nevada',\n",
    "               'White Mountains',\n",
    "               'Sierra Nevada',\n",
    "               'Cascade Range',\n",
    "               'Sierra Nevada'],\n",
    "     'elevation': [14505, 14379, 14252, 14248, 14179, 13992]}\n",
    ")\n",
    "\n",
    "mountain_df"
   ]
  },
  {
   "cell_type": "code",
   "execution_count": null,
   "metadata": {},
   "outputs": [],
   "source": [
    "# YOUR CODE HERE\n"
   ]
  },
  {
   "cell_type": "markdown",
   "metadata": {},
   "source": [
    "**Note**: We will discuss looping and DataFrames in Part 3, including when and how to use loops most effectively."
   ]
  },
  {
   "cell_type": "markdown",
   "metadata": {},
   "source": [
    "## Aggregating Values with Loops\n",
    "\n",
    "A common strategy in programs is to:\n",
    "1.  Initialize an *accumulator* variable to zero, the empty string, or the empty list.\n",
    "2.  Update the variable with values from a collection through a for loop.\n",
    "    \n",
    "The result of this is a single list, number, or string with a summary value for the entire collection being looped over.\n",
    "\n",
    "For example, we can make a new list with all of the tire pressures rounded:"
   ]
  },
  {
   "cell_type": "code",
   "execution_count": null,
   "metadata": {},
   "outputs": [],
   "source": [
    "rounded_pressures = []\n",
    "\n",
    "for pressure in tires: \n",
    "    rounded = round(pressure)\n",
    "    rounded_pressures.append(rounded)\n",
    "\n",
    "print('Rounded tire pressures:', rounded_pressures)"
   ]
  },
  {
   "cell_type": "markdown",
   "metadata": {},
   "source": [
    "## Challenge 3: Aggregation Practice\n",
    "\n",
    "Below are a few examples showing the different types of quantities you might aggregate using a for loop. These loops are partially filled out - finish them and test that they work!"
   ]
  },
  {
   "cell_type": "markdown",
   "metadata": {},
   "source": [
    "1. Find the total length of the strings in the given list. Store this quantity in a variable called `total`."
   ]
  },
  {
   "cell_type": "code",
   "execution_count": null,
   "metadata": {},
   "outputs": [],
   "source": [
    "total = 0\n",
    "words = [\"red\", \"green\", \"blue\"]\n",
    "\n",
    "for word in words:\n",
    "    ____ = ____ + len(word)\n",
    "\n",
    "print(total)"
   ]
  },
  {
   "cell_type": "markdown",
   "metadata": {},
   "source": [
    "2. Find the length of each word in the list, and store these lengths in another list called `lengths`."
   ]
  },
  {
   "cell_type": "code",
   "execution_count": null,
   "metadata": {},
   "outputs": [],
   "source": [
    "lengths = ____\n",
    "words = [\"red\", \"green\", \"blue\"]\n",
    "\n",
    "for word in words:\n",
    "    lengths.____(____)\n",
    "\n",
    "print(lengths)"
   ]
  },
  {
   "cell_type": "markdown",
   "metadata": {},
   "source": [
    "3. Concatenate all words into a single string called `result`."
   ]
  },
  {
   "cell_type": "code",
   "execution_count": null,
   "metadata": {},
   "outputs": [],
   "source": [
    "words = [\"red\", \"green\", \"blue\"]\n",
    "result = ____\n",
    "\n",
    "for ____ in ____:\n",
    "    ____\n",
    "\n",
    "print(result)"
   ]
  },
  {
   "cell_type": "markdown",
   "metadata": {},
   "source": [
    "4. Create an acronym, as a single string, representing the list of words. Each part of the acronym should consist of the first letter of each word, capitalized. For example, your loop should output `\"RGB\"` for the input `[\"red\", \"green\", \"blue\"]`. For this one, write the entire loop yourself!"
   ]
  },
  {
   "cell_type": "code",
   "execution_count": null,
   "metadata": {},
   "outputs": [],
   "source": [
    "words = [\"red\", \"green\", \"blue\"]\n",
    "\n",
    "# YOUR CODE HERE\n"
   ]
  },
  {
   "cell_type": "markdown",
   "metadata": {},
   "source": [
    "## Nested Loops\n",
    "\n",
    "Loops may contain another loop. This allows us to loop through multiple lists and perform calculations. \n",
    "\n",
    "Be careful, though: nested loops can quickly become computationally intensive. Sometimes, there might be a faster way to do what you need to than using a nested loop."
   ]
  },
  {
   "cell_type": "code",
   "execution_count": null,
   "metadata": {},
   "outputs": [],
   "source": [
    "pets = ['cat', 'dog', 'hamster', 'iguana']\n",
    "\n",
    "# Iterate over pets\n",
    "for pet in pets:\n",
    "    # Iterate over each letter in a pet\n",
    "    for letter in pet:\n",
    "        print(letter)"
   ]
  },
  {
   "cell_type": "markdown",
   "metadata": {},
   "source": [
    "## Challenge 4: Aggregation with a `DataFrame`\n",
    "\n",
    "In the `mountains_df` data frame, we're going to loop through a series and aggregate as follows:\n",
    "\n",
    "1. Make a list of the elevations in meters using a loop.\n",
    "2. Use a loop and aggregation to get the sum of the elevations in the mountains.\n",
    "\n",
    "**Bonus**: We can add new columns to our DataFrame using `df['column_name']`. Add the list to the dataframe. "
   ]
  },
  {
   "cell_type": "code",
   "execution_count": null,
   "metadata": {},
   "outputs": [],
   "source": [
    "import pandas as pd\n",
    "\n",
    "mountains_df = pd.DataFrame(\n",
    "    {'mountain': ['Mt. Whitney',\n",
    "                  'Mt. Williamson',\n",
    "                  'White Mountain Peak',\n",
    "                  'North Palisade',\n",
    "                  'Mt. Shasta',\n",
    "                  'Mt. Humphreys'],\n",
    "     'range': ['Sierra Nevada',\n",
    "               'Sierra Nevada',\n",
    "               'White Mountains',\n",
    "               'Sierra Nevada',\n",
    "               'Cascade Range',\n",
    "               'Sierra Nevada'],\n",
    "     'elevation': [14505, 14379, 14252, 14248, 14179, 13992]}\n",
    ")"
   ]
  },
  {
   "cell_type": "code",
   "execution_count": null,
   "metadata": {},
   "outputs": [],
   "source": [
    "# YOUR CODE HERE\n"
   ]
  },
  {
   "cell_type": "markdown",
   "metadata": {},
   "source": [
    "## Best practices with loops\n",
    "\n",
    "1. Loops are great for repeating operations. \n",
    "2. They also add computational complexity to the code (basically makes it take longer to run) so are not ideal for large loops, or many nested loops.\n",
    "3. When possible, limit the size and number of loops in your code."
   ]
  }
 ],
 "metadata": {
  "anaconda-cloud": {},
  "kernelspec": {
   "display_name": "Python 3 (ipykernel)",
   "language": "python",
   "name": "python3"
  },
  "language_info": {
   "codemirror_mode": {
    "name": "ipython",
    "version": 3
   },
   "file_extension": ".py",
   "mimetype": "text/x-python",
   "name": "python",
   "nbconvert_exporter": "python",
   "pygments_lexer": "ipython3",
   "version": "3.8.12"
  }
 },
 "nbformat": 4,
 "nbformat_minor": 4
}
