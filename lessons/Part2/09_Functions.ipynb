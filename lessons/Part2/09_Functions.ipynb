{
 "cells": [
  {
   "cell_type": "markdown",
   "metadata": {},
   "source": [
    "# Functions\n",
    "\n",
    "\n",
    "**Learning Objectives**:\n",
    "\n",
    "- Learn to write custom functions\n",
    "- Use `return` to produce values\n",
    "- Combine basic operations to build functions\n",
    "* * * * *"
   ]
  },
  {
   "cell_type": "markdown",
   "metadata": {},
   "source": [
    "We have already used functions like `len()` , `sum()`, `pd.DataFrame()`, in our code. These are essentially shortcuts that make it so that we don't need to write many lines of code to accomplish certain tasks. For example, without `sum()`, we can calculate the sum without relying on the function and by using a for loop with aggregation. One option is: "
   ]
  },
  {
   "cell_type": "code",
   "execution_count": 1,
   "metadata": {},
   "outputs": [
    {
     "name": "stdout",
     "output_type": "stream",
     "text": [
      "the sum is 16\n"
     ]
    }
   ],
   "source": [
    "list_of_numbers =  [1,3,5,7]\n",
    "\n",
    "#use the accumulator pattern\n",
    "total = 0\n",
    "for s in list_of_numbers:\n",
    "    total = total + s #add the current value to the sum of the values\n",
    "print('the sum is', total)"
   ]
  },
  {
   "cell_type": "markdown",
   "metadata": {},
   "source": [
    "We can turn this code into a function called `my_sum()` with some additional syntax. (Notice how we avoid overwriting the `sum()` function):"
   ]
  },
  {
   "cell_type": "code",
   "execution_count": 2,
   "metadata": {},
   "outputs": [
    {
     "name": "stdout",
     "output_type": "stream",
     "text": [
      "The sum with sum() is: 16 \n",
      " The sum with my_sum() is: 16\n"
     ]
    }
   ],
   "source": [
    "def my_sum(list_of_numbers):\n",
    "    total = 0\n",
    "    for s in list_of_numbers:\n",
    "        total = total + s\n",
    "    return(total)\n",
    "    \n",
    "list_of_numbers =  [1,3,5,7]\n",
    "\n",
    "print(\"The sum with sum() is:\",sum(list_of_numbers), \"\\n The sum with my_sum() is:\", my_sum(list_of_numbers))"
   ]
  },
  {
   "cell_type": "markdown",
   "metadata": {},
   "source": [
    "So functions save us a lot of time, but they aren't black boxes. Rather, we can think of functions as basic building blocks that we expect to use over and over again.\n",
    "\n",
    "Using existing functions from packages, or built-in functions, is generally preferred because it saves time (and effort). For example, we wouldn't write a custom `sum()` function when one already exists. However, when a function doesn't already exist that performs the desired operation, we can write our own custom function.\n",
    "\n",
    "Specifically, a function does three things:\n",
    "   1. They name pieces of code the way variables name strings and numbers.\n",
    "   2. They take arguments, or data that you want to do something on.\n",
    "   3. Using 1 and 2 they let you make your own \"mini-scripts\" or \"tiny commands.\"\n",
    "   4. They return values that can be referred to in further operations.\n",
    "\n",
    "The details are pretty simple, but this is one of those ideas where it's good to get lots of practice!\n",
    "    \n",
    "\n",
    "## Basic function syntax\n",
    "\n",
    "*   Begin the definition of a new function with `def`.\n",
    "*   Followed by the *name* of the function.\n",
    "    *   Must obey the same rules as variable names.\n",
    "*   The *parameters* are defined in parentheses.\n",
    "    *   Empty parentheses if the function doesn't take any inputs.\n",
    "    *   We will discuss this in detail in a moment.\n",
    "*   Then a colon.\n",
    "*   Then an indented block of code.\n",
    "*   The final line should be a `return` statement with the value(s) to be returned from the function\n",
    "\n",
    "**Note:** Arguments and variables created within the function only exist within the function and cannot be referred to unless returned by the function using the `return` statement.\n"
   ]
  },
  {
   "cell_type": "code",
   "execution_count": 3,
   "metadata": {},
   "outputs": [],
   "source": [
    "def feet_to_meters(x):\n",
    "    return(x*.304)"
   ]
  },
  {
   "cell_type": "markdown",
   "metadata": {},
   "source": [
    "Notice how there is no print statement from running the block of code above. This is because defining a function does not run it. You can think of it as assigning a value to a variable. The function needs to be *called* with appropriate arguments to execute the code it contains. \n",
    "\n",
    "We save the result to a variable and print the result. \n"
   ]
  },
  {
   "cell_type": "code",
   "execution_count": 4,
   "metadata": {},
   "outputs": [
    {
     "data": {
      "text/plain": [
       "30.4"
      ]
     },
     "execution_count": 4,
     "metadata": {},
     "output_type": "execute_result"
    }
   ],
   "source": [
    "answer = feet_to_meters(100)\n",
    "answer"
   ]
  },
  {
   "cell_type": "markdown",
   "metadata": {},
   "source": [
    "## Challenge 1: My First function\n",
    "\n",
    "Make a function that converts between temperatures in Celsius and Farenheit\n",
    "\n"
   ]
  },
  {
   "cell_type": "code",
   "execution_count": 40,
   "metadata": {},
   "outputs": [],
   "source": [
    "#your function here"
   ]
  },
  {
   "cell_type": "markdown",
   "metadata": {},
   "source": [
    "## Function arguments\n",
    "\n",
    "This function would be more useful if it were more flexible. For example, if we want to convert any number of feet  to meters, not just 1. \n",
    "\n",
    "These *parameters* are specified when defining a function in the parentheses, separated by commas.\n",
    "*   These become variables when the function is executed.\n",
    "*   Are assigned the arguments in the call (i.e., the values passed to the function).\n",
    "*   We do operations based on the arguments, and return the result"
   ]
  },
  {
   "cell_type": "code",
   "execution_count": 41,
   "metadata": {},
   "outputs": [
    {
     "name": "stdout",
     "output_type": "stream",
     "text": [
      "3.6479999999999997\n",
      "30.4\n"
     ]
    }
   ],
   "source": [
    "def convert_feet_to_meters(feet):\n",
    "    return(feet*.304)\n",
    "\n",
    "print(convert_feet_to_meters(12))\n",
    "\n",
    "print(convert_feet_to_meters(100))"
   ]
  },
  {
   "cell_type": "markdown",
   "metadata": {},
   "source": [
    "We can also include multiple arguments, separated by commas. Order for these arguments matters. For example, in the simple function below what happens when you have different orders?"
   ]
  },
  {
   "cell_type": "code",
   "execution_count": 12,
   "metadata": {},
   "outputs": [
    {
     "name": "stdout",
     "output_type": "stream",
     "text": [
      "0.6666666666666666\n",
      "1.5\n"
     ]
    }
   ],
   "source": [
    "def divide(x,y):\n",
    "    return(x/y)\n",
    "\n",
    "print(divide(4,6))\n",
    "print(divide(6,4))"
   ]
  },
  {
   "cell_type": "markdown",
   "metadata": {},
   "source": [
    "You can also use *keyword arguments*, where each argument is given a name. In this case, the order of the arguments doesn't matter, since each has a name associated with it. For example:"
   ]
  },
  {
   "cell_type": "code",
   "execution_count": 19,
   "metadata": {},
   "outputs": [
    {
     "name": "stdout",
     "output_type": "stream",
     "text": [
      "0.6666666666666666\n",
      "0.6666666666666666\n"
     ]
    }
   ],
   "source": [
    "def divide(x, y):\n",
    "    return(x/y)\n",
    "\n",
    "\n",
    "print(divide(x=4,y=6))\n",
    "print(divide(y=6,x=4))"
   ]
  },
  {
   "cell_type": "markdown",
   "metadata": {},
   "source": [
    "Are the arguments named appropriately? What does x and y stand for? What could be more clear?\n",
    "\n",
    "Generally, it's good practice to both use well-named arguments and use them in the same order. This is easier to read. \n"
   ]
  },
  {
   "cell_type": "markdown",
   "metadata": {},
   "source": [
    "## Challenge 2: Calling by Name\n",
    "\n",
    "What does this short program print?"
   ]
  },
  {
   "cell_type": "code",
   "execution_count": 3,
   "metadata": {},
   "outputs": [
    {
     "name": "stdout",
     "output_type": "stream",
     "text": [
      "2003/2/1\n"
     ]
    }
   ],
   "source": [
    "def print_date(year, month, day):\n",
    "    joined = str(year) + '/' + str(month) + '/' + str(day)\n",
    "    print(joined)\n",
    "\n",
    "print_date(day=1, month=2, year=2003)"
   ]
  },
  {
   "cell_type": "markdown",
   "metadata": {},
   "source": [
    "We can also use keywords to give default arguments. If we modify the argument `y` to default to `10`, the following lines are all equivalent"
   ]
  },
  {
   "cell_type": "code",
   "execution_count": 4,
   "metadata": {},
   "outputs": [
    {
     "name": "stdout",
     "output_type": "stream",
     "text": [
      "0.4\n",
      "0.4\n",
      "0.4\n",
      "0.4\n"
     ]
    }
   ],
   "source": [
    "def divide(x, y=10):\n",
    "    return(x/y)\n",
    "\n",
    "\n",
    "print(divide(x=4,y=10))\n",
    "print(divide(x=4))\n",
    "print(divide(4,10))\n",
    "print(divide(4))"
   ]
  },
  {
   "cell_type": "markdown",
   "metadata": {},
   "source": [
    "## Challenge 3: More Errors!\n",
    "The following code gives an error. Why? \n",
    "\n",
    "**Hint**: Think about what happens inside the function, and how the arguments plug into the function."
   ]
  },
  {
   "cell_type": "code",
   "execution_count": 5,
   "metadata": {},
   "outputs": [
    {
     "ename": "TypeError",
     "evalue": "divide() missing 1 required positional argument: 'x'",
     "output_type": "error",
     "traceback": [
      "\u001b[0;31m---------------------------------------------------------------------------\u001b[0m",
      "\u001b[0;31mTypeError\u001b[0m                                 Traceback (most recent call last)",
      "\u001b[0;32m<ipython-input-5-daa0a5aa2abc>\u001b[0m in \u001b[0;36m<module>\u001b[0;34m\u001b[0m\n\u001b[0;32m----> 1\u001b[0;31m \u001b[0mdivide\u001b[0m\u001b[0;34m(\u001b[0m\u001b[0my\u001b[0m\u001b[0;34m=\u001b[0m\u001b[0;34m'string'\u001b[0m\u001b[0;34m)\u001b[0m\u001b[0;34m\u001b[0m\u001b[0;34m\u001b[0m\u001b[0m\n\u001b[0m",
      "\u001b[0;31mTypeError\u001b[0m: divide() missing 1 required positional argument: 'x'"
     ]
    }
   ],
   "source": [
    "divide(y='string')"
   ]
  },
  {
   "cell_type": "markdown",
   "metadata": {},
   "source": [
    "There's a lot of different permutations of arguments in functions, so keeping them organized "
   ]
  },
  {
   "cell_type": "markdown",
   "metadata": {},
   "source": [
    "## Function writing\n",
    "\n",
    "Function writing is one of the  \n",
    "\n",
    "Here are some guidelines that can help minimize errors and make the process less painful\n",
    "\n",
    "\n",
    "1. Plan\n",
    "    1. What is the overall goal of the function? Is there a function that exists already that does the same thing? \n",
    "    2. What is going to be the output of the function? (what datatype, how many items)\n",
    "    3. What arguments will you need? (What pieces of the function do you need to control?)\n",
    "    4. What are the general steps of the program? This can be written in bullet points or pseudocode\n",
    "2. Write\n",
    "    1. Write the code without the function wrapper\n",
    "    2. Start small. Write small self-contained blocks of code and put the pieces together (you can also consider sub-functions)\n",
    "    3. Test each part of the function as it is added. Especially track the input of the function and how it changes at each step. \n",
    "    4. Wrap the code in the function syntax. \n",
    "3. Test\n",
    "    1. Take the function and test *several* cases\n",
    "    2. Before running test cases, form an expectation of the result. \n",
    "    3. Test the function. Pay attention to both errors and strange results. Make adjustments to account for new cases.\n",
    "    4. Integrate the function with the rest of the code. Are the input arguments the right type? Does the output flow into the rest of the code?\n",
    "    \n",
    "    \n",
    "Let's go through an example of the function development process.\n",
    "\n",
    "Let's say we have a list of filenames from an experiment. Each filename has two parts, a county and a year, separated by an underscore (ex. Alameda_2020.csv) We are interested in parsing these names into to a dataframe with two columns, one containing the county (lowercase) and one with the year. \n",
    "\n",
    "1. Plan\n",
    "    1. Parse a list of strings into two parts, \n",
    "    2. Input: list of strings\n",
    "    3. Output: two lists, one of strings, one of ints\n",
    "    4. Pseudocode can look like this:\n",
    "    \n",
    "    ``` \n",
    "    for file in filelist:\n",
    "            split file into parts\n",
    "            process each part\n",
    "            append to list\n",
    "       make a dataframe\n",
    "       return\n",
    "       \n",
    "    ```\n",
    "\n",
    "2. Write\n",
    "\n",
    "Start with a single file inside the loop. First, I test the splitting function on a single file"
   ]
  },
  {
   "cell_type": "code",
   "execution_count": 5,
   "metadata": {},
   "outputs": [
    {
     "name": "stdout",
     "output_type": "stream",
     "text": [
      "['Marin', '2020']\n"
     ]
    }
   ],
   "source": [
    "data = ['Alameda_2020.csv','Marin_2020.csv','Contra Costa_2020.csv','Alameda_2021.csv','San Francisco_2021.csv']\n",
    "\n",
    "testfile = data[1]\n",
    "\n",
    "fileparts= testfile.split('.')[0].split('_')\n",
    "print(fileparts)\n"
   ]
  },
  {
   "cell_type": "markdown",
   "metadata": {},
   "source": [
    "Once we have the parts parsed out, we can do the next step and process each part appropriately. For the county, we want to make it lowercase, and for the year, we can convert it to an integer."
   ]
  },
  {
   "cell_type": "code",
   "execution_count": 6,
   "metadata": {},
   "outputs": [
    {
     "name": "stdout",
     "output_type": "stream",
     "text": [
      "marin <class 'int'>\n"
     ]
    }
   ],
   "source": [
    "fileparts= testfile.split('.')[0].split('_')\n",
    "county = fileparts[0]\n",
    "year = fileparts[1]\n",
    "\n",
    "county = county.lower()\n",
    "year = int(year)\n",
    "print(county, type(year))"
   ]
  },
  {
   "cell_type": "markdown",
   "metadata": {},
   "source": [
    "The next step is to wrap this bit of code in a for-loop."
   ]
  },
  {
   "cell_type": "code",
   "execution_count": 31,
   "metadata": {},
   "outputs": [
    {
     "name": "stdout",
     "output_type": "stream",
     "text": [
      "['marin', 'marin', 'marin', 'marin', 'marin']\n",
      "[2020, 2020, 2020, 2020, 2020]\n"
     ]
    }
   ],
   "source": [
    "data = ['Alameda_2020.csv','Marin_2020.csv','Contra Costa_2020.csv','Alameda_2021.csv','San Francisco_2021.csv']\n",
    "\n",
    "county_list = []\n",
    "year_list = []\n",
    "for filename in data:\n",
    "    fileparts= testfile.split('.')[0].split('_')\n",
    "    county = fileparts[0]\n",
    "    year = fileparts[1]\n",
    "\n",
    "    county = county.lower()\n",
    "    year = int(year)\n",
    "    county_list.append(county)\n",
    "    year_list.append(year)\n",
    "print(county_list)\n",
    "print(year_list)"
   ]
  },
  {
   "cell_type": "markdown",
   "metadata": {},
   "source": [
    "What happened? How do we fix it? When we run the code on the whole loop, do you notice anything about the other county names? What might we want to change?\n",
    "\n",
    "Once the full code works, we can do the final steps: convert the output to a DataFrame and place everything into a function."
   ]
  },
  {
   "cell_type": "code",
   "execution_count": 37,
   "metadata": {},
   "outputs": [
    {
     "data": {
      "text/html": [
       "<div>\n",
       "<style scoped>\n",
       "    .dataframe tbody tr th:only-of-type {\n",
       "        vertical-align: middle;\n",
       "    }\n",
       "\n",
       "    .dataframe tbody tr th {\n",
       "        vertical-align: top;\n",
       "    }\n",
       "\n",
       "    .dataframe thead th {\n",
       "        text-align: right;\n",
       "    }\n",
       "</style>\n",
       "<table border=\"1\" class=\"dataframe\">\n",
       "  <thead>\n",
       "    <tr style=\"text-align: right;\">\n",
       "      <th></th>\n",
       "      <th>county</th>\n",
       "      <th>year</th>\n",
       "    </tr>\n",
       "  </thead>\n",
       "  <tbody>\n",
       "    <tr>\n",
       "      <th>0</th>\n",
       "      <td>alameda</td>\n",
       "      <td>2020</td>\n",
       "    </tr>\n",
       "    <tr>\n",
       "      <th>1</th>\n",
       "      <td>marin</td>\n",
       "      <td>2020</td>\n",
       "    </tr>\n",
       "    <tr>\n",
       "      <th>2</th>\n",
       "      <td>contracosta</td>\n",
       "      <td>2020</td>\n",
       "    </tr>\n",
       "    <tr>\n",
       "      <th>3</th>\n",
       "      <td>alameda</td>\n",
       "      <td>2021</td>\n",
       "    </tr>\n",
       "    <tr>\n",
       "      <th>4</th>\n",
       "      <td>sanfrancisco</td>\n",
       "      <td>2021</td>\n",
       "    </tr>\n",
       "  </tbody>\n",
       "</table>\n",
       "</div>"
      ],
      "text/plain": [
       "         county  year\n",
       "0       alameda  2020\n",
       "1         marin  2020\n",
       "2   contracosta  2020\n",
       "3       alameda  2021\n",
       "4  sanfrancisco  2021"
      ]
     },
     "execution_count": 37,
     "metadata": {},
     "output_type": "execute_result"
    }
   ],
   "source": [
    "import pandas as pd\n",
    "\n",
    "def parse_files(filelist):\n",
    "    county_list = []\n",
    "    year_list = []\n",
    "    for filename in data:\n",
    "        fileparts= filename.split('.')[0].split('_')\n",
    "        county = fileparts[0]\n",
    "        year = fileparts[1]\n",
    "\n",
    "        county = county.lower().replace(' ','')\n",
    "        year = int(year)\n",
    "        county_list.append(county)\n",
    "        year_list.append(year)\n",
    "    return  (pd.DataFrame({'county':county_list,\n",
    "                  'year':year_list}))\n",
    "    \n",
    "\n",
    "\n",
    "data = ['Alameda_2020.csv','Marin_2020.csv','Contra Costa_2020.csv','Alameda_2021.csv','San Francisco_2021.csv']\n",
    "output = parse_files(data)\n",
    "output"
   ]
  },
  {
   "cell_type": "markdown",
   "metadata": {},
   "source": [
    "## Challenge 4: Advanced Conversion function\n",
    "\n",
    "Take the conversion function above and let's make it more flexible. Let's say we want to convert from feet to other units as well. Add an additional keyword argument `unit` that takes a string as input. Use this argument and if-statements in the function to give the appropriate output. For example `convert_feet(value, unit='meters')` would convert from feet to meters, while `convert_feet(value, unit='inches')` would convert to inches.\n",
    "\n",
    "We can follow these steps:\n",
    "1. Plan your function. \n",
    "2. Write your function. \n",
    "3. Test the function.\n",
    "\n",
    "**Bonus**: What if you wanted to convert several values at once? What if you wanted to be able to convert to multiple units at once? "
   ]
  },
  {
   "cell_type": "code",
   "execution_count": 7,
   "metadata": {},
   "outputs": [],
   "source": [
    "#original conversion function\n",
    "def convert_feet_to_meters(feet):\n",
    "    meters = feet*.304\n",
    "    return(meters)\n",
    "\n",
    "\n",
    "## your code here"
   ]
  },
  {
   "cell_type": "code",
   "execution_count": null,
   "metadata": {},
   "outputs": [],
   "source": []
  }
 ],
 "metadata": {
  "kernelspec": {
   "display_name": "Python 3",
   "language": "python",
   "name": "python3"
  },
  "language_info": {
   "codemirror_mode": {
    "name": "ipython",
    "version": 3
   },
   "file_extension": ".py",
   "mimetype": "text/x-python",
   "name": "python",
   "nbconvert_exporter": "python",
   "pygments_lexer": "ipython3",
   "version": "3.7.6"
  }
 },
 "nbformat": 4,
 "nbformat_minor": 1
}
