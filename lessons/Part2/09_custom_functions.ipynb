{
 "cells": [
  {
   "cell_type": "markdown",
   "metadata": {},
   "source": [
    "# Writing Custom Functions\n",
    "\n",
    "**Learning Objectives**:\n",
    "\n",
    "- Learn to write custom functions.\n",
    "- Use `return` to provide function outputs.\n",
    "- Learn to *modularize* code by creating functions.\n",
    "* * * * *"
   ]
  },
  {
   "cell_type": "markdown",
   "metadata": {},
   "source": [
    "We have already used *built-in* functions like `len()` , `sum()`, `pd.DataFrame()`, in our code. These are essentially shortcuts that make it so that we don't need to write many lines of code to accomplish certain tasks. \n",
    "\n",
    "We didn't technically need these functions to perform their computation. For example, we can calculate the sum without relying on the function by using a for loop with aggregation:"
   ]
  },
  {
   "cell_type": "code",
   "execution_count": null,
   "metadata": {},
   "outputs": [],
   "source": [
    "numbers =  [1, 3, 5, 7]\n",
    "\n",
    "# Accumulate the numbers\n",
    "total = 0\n",
    "for number in numbers:\n",
    "    # Add the current value to the sum of the values\n",
    "    total = total + number\n",
    "print('The sum is', total)\n",
    "print('Using the sum function:',sum(numbers))"
   ]
  },
  {
   "cell_type": "markdown",
   "metadata": {},
   "source": [
    "However, we don't want to have to use this block of code every single time we'd like to add some numbers up. The function is simpler and easier to read.\n",
    "\n",
    "This is the motivation for *modularizing* our code. When we have an operation we expect to perform repeatedly, like summing, it's useful to have a function that is specifically built to do this.\n",
    "\n",
    "The functions we've used so far have been **built-in functions**. Python provided them to us. However, we'll often need to create our own functions. Python has a specific syntax for creating new functions.\n",
    "\n",
    "Let's take a look at a quick example, creating the `my_sum` function that will perform the sum we just did:"
   ]
  },
  {
   "cell_type": "code",
   "execution_count": null,
   "metadata": {},
   "outputs": [],
   "source": [
    "def my_sum(list_of_numbers):\n",
    "    total = 0\n",
    "    for number in numbers:\n",
    "        # Add the current value to the sum of the values\n",
    "        total = total + number\n",
    "    return total"
   ]
  },
  {
   "cell_type": "code",
   "execution_count": null,
   "metadata": {},
   "outputs": [],
   "source": [
    "print(\"The sum with sum() is:\", sum(numbers))\n",
    "print(\"The sum with my_sum() is:\", my_sum(numbers))"
   ]
  },
  {
   "cell_type": "markdown",
   "metadata": {},
   "source": [
    "Functions save us a lot of time, but they aren't black boxes. Rather, we can think of functions as basic building blocks that we expect to use over and over again.\n",
    "\n",
    "Using existing functions from packages, or built-in functions, is generally preferred because it saves time (and effort). For example, we wouldn't write a custom `sum()` function when one already exists. However, when a function doesn't already exist that performs the desired operation, we can write our own custom function.\n",
    "\n",
    "Specifically, a function does three things:\n",
    "\n",
    "1. They name pieces of code the way variables name strings and numbers.\n",
    "2. They accept arguments, or inputs on which you'll operate. Arguments are also called parameters.\n",
    "3. They return values that can be referred to in further operations.\n",
    "\n",
    "The details are pretty simple, but this is one of those ideas where it's good to get lots of practice!"
   ]
  },
  {
   "cell_type": "markdown",
   "metadata": {},
   "source": [
    "## Basic Function Syntax\n",
    "\n",
    "The structure of a function is similar to what we've seen before: keyword, name, colon, and body.\n",
    "\n",
    "*   Functions begin with the keyword `def`.\n",
    "*   This keyword is followed by the function *name*.\n",
    "    *   The name must obey the same rules as variable names.\n",
    "*   The *arguments* or *parameters* are defined in parentheses as variable names.\n",
    "    *   Use empty parentheses if the function doesn't take any inputs.\n",
    "*   A colon indicates the end of the function *signature*.\n",
    "*   An indented block of code denotes the start of the *body*.\n",
    "*   The final line should be a `return` statement with the value(s) to be returned from the function\n",
    "\n",
    "**Note:** Arguments and variables created within the function only exist within the function and cannot be referred to unless returned by the function using the `return` statement."
   ]
  },
  {
   "cell_type": "code",
   "execution_count": null,
   "metadata": {},
   "outputs": [],
   "source": [
    "def feet_to_meters(feet):\n",
    "    return(feet * .304)"
   ]
  },
  {
   "cell_type": "markdown",
   "metadata": {},
   "source": [
    "Notice how there is no print statement from running the block of code above. This is because defining a function does not run it. You can think of it as assigning a value to a variable. The function needs to be *called* with appropriate arguments to execute the code it contains. \n",
    "\n",
    "Let's run this function. We can save the output to a variable and print the result."
   ]
  },
  {
   "cell_type": "code",
   "execution_count": null,
   "metadata": {},
   "outputs": [],
   "source": [
    "meters = feet_to_meters(100)\n",
    "print(meters)"
   ]
  },
  {
   "cell_type": "markdown",
   "metadata": {},
   "source": [
    "## Challenge 1: My First Function\n",
    "\n",
    "Write a function that converts Celsius temperatures to Fahrenheit. The formula for this conversion is:\n",
    "\n",
    "$$F = 1.8 * C + 32$$"
   ]
  },
  {
   "cell_type": "code",
   "execution_count": null,
   "metadata": {},
   "outputs": [],
   "source": [
    "def ___:\n",
    "    ...\n",
    "    return(____)"
   ]
  },
  {
   "cell_type": "markdown",
   "metadata": {},
   "source": [
    "## Function Arguments\n",
    "\n",
    "Function **arguments** or **parameters** are specified when defining a function in the parentheses, separated by commas. \n",
    "\n",
    "These arguments become variables when the function is executed. The variables are assigned the values passed to the function. We do operations based on the arguments, and return the result.\n",
    "\n",
    "Let's look at an example function in which we're performing division:"
   ]
  },
  {
   "cell_type": "code",
   "execution_count": null,
   "metadata": {},
   "outputs": [],
   "source": [
    "def divide(x, y):\n",
    "    return(x / y)\n",
    "\n",
    "print(divide(4, 6))\n",
    "print(divide(6, 4))"
   ]
  },
  {
   "cell_type": "markdown",
   "metadata": {},
   "source": [
    "The order of the arguments matter; we got different results because each argument had a different role (numerator and denominator).\n",
    "\n",
    "You can also pass in **keyword arguments**, where each argument is given a name. In this case, the order of the arguments doesn't matter, since each has a name associated with it. For example:"
   ]
  },
  {
   "cell_type": "code",
   "execution_count": null,
   "metadata": {},
   "outputs": [],
   "source": [
    "print(divide(x=4, y=6))\n",
    "print(divide(y=6, x=4))"
   ]
  },
  {
   "cell_type": "markdown",
   "metadata": {},
   "source": [
    "Are the arguments named appropriately? What does x and y stand for? What could be more clear?\n",
    "\n",
    "Generally, it's good practice to both use well-named arguments and use them in the same order. This is easier to read."
   ]
  },
  {
   "cell_type": "markdown",
   "metadata": {},
   "source": [
    "## Challenge 2: Calling Keyword Arguments\n",
    "\n",
    "Call the following function using the keyword arguments. Specifically, print the date corresponding to January 1, 2003."
   ]
  },
  {
   "cell_type": "code",
   "execution_count": null,
   "metadata": {},
   "outputs": [],
   "source": [
    "def print_date(year, month, day):\n",
    "    joined = str(year) + '/' + str(month) + '/' + str(day)\n",
    "    print(joined)"
   ]
  },
  {
   "cell_type": "markdown",
   "metadata": {},
   "source": [
    "## Default Arguments\n",
    "\n",
    "We can also specify **default arguments** in functions. When we provide a default argument, the function will use that value when the user does not pass in a value. Default arguments are specified in the function signature."
   ]
  },
  {
   "cell_type": "code",
   "execution_count": null,
   "metadata": {},
   "outputs": [],
   "source": [
    "# y has default value equal to 10\n",
    "def divide(x, y=10):\n",
    "    return(x / y)"
   ]
  },
  {
   "cell_type": "code",
   "execution_count": null,
   "metadata": {},
   "outputs": [],
   "source": [
    "# User inputs on both values\n",
    "print(divide(x=4, y=10))\n",
    "# No input on y\n",
    "print(divide(x=4))\n",
    "# Unnamed inputs for both values\n",
    "print(divide(4, 10))\n",
    "# Unnamed input, with no second value passed in\n",
    "print(divide(4))\n",
    "# Unnamed first input, named second input\n",
    "print(divide(4, y=10))"
   ]
  },
  {
   "cell_type": "markdown",
   "metadata": {},
   "source": [
    "## Challenge 3: More Errors!\n",
    "\n",
    "Why do the following lines return errors?\n",
    "\n",
    "**Hint**: Think about what happens inside the function, and how the arguments plug into the function."
   ]
  },
  {
   "cell_type": "code",
   "execution_count": null,
   "metadata": {},
   "outputs": [],
   "source": [
    "divide(y=10, 4)"
   ]
  },
  {
   "cell_type": "code",
   "execution_count": null,
   "metadata": {},
   "outputs": [],
   "source": [
    "divide(4, y='10')"
   ]
  },
  {
   "cell_type": "markdown",
   "metadata": {},
   "source": [
    "There's a lot of different permutations of arguments in functions, so keeping them organized "
   ]
  },
  {
   "cell_type": "markdown",
   "metadata": {},
   "source": [
    "## Principles of Writing Your Own Functions\n",
    "\n",
    "Function writing is one of the most important skills you can develop as a programmer.  \n",
    "\n",
    "Here are some guidelines that can help minimize errors and make the process less painful:\n",
    "\n",
    "1. **Plan**\n",
    "    1. What is the overall goal of the function? Is there a function that exists already that does the same thing? \n",
    "    2. What is going to be the output of the function? (what data type, how many items)?\n",
    "    3. What arguments will you need? What pieces of the function do you need to control?\n",
    "    4. What are the general steps of the program? This can be written in bullet points or \"pseudocode\".\n",
    "2. **Write**\n",
    "    1. Write the code without the function wrapper.\n",
    "    2. Start small. Write small self-contained blocks of code and put the pieces together. You can also consider sub-functions.\n",
    "    3. Test each part of the function as it is added. Track the input of the function and how it changes at each step. \n",
    "    4. Wrap the code in the function syntax.\n",
    "3. **Test**\n",
    "    1. Take the function and test *several* cases.\n",
    "    2. Before running test cases, form an expectation of the result. \n",
    "    3. Test the function. Pay attention to both errors and strange results. Make adjustments to account for new cases.\n",
    "    4. Integrate the function with the rest of the code. Are the input arguments the right type? Does the output flow into the rest of the code?"
   ]
  },
  {
   "cell_type": "markdown",
   "metadata": {},
   "source": [
    "Let's go through an example of the function development process.\n",
    "\n",
    "Let's say we have a list of filenames from an experiment. Each filename has two parts, a county and a year, separated by an underscore (e.g., `Alameda_2020.csv`). We are interested in parsing these names into to a data frame with two columns, one containing the county (lowercase) and one with the year. \n",
    "\n",
    "1. **Plan**\n",
    "    1. Parse a list of strings into two parts.\n",
    "    2. Input: list of strings\n",
    "    3. Output: two lists, one of strings, one of ints\n",
    "    4. The pseudocode might look like this: \n",
    "        ``` \n",
    "        function\n",
    "            for file in filelist:\n",
    "                split file into parts\n",
    "                process each part\n",
    "                append to list\n",
    "            make a dataframe\n",
    "            return\n",
    "        ```\n",
    "\n",
    "2. **Write**\n",
    "\n",
    "Let's start with a single file inside the loop. First, we'll test the splitting component of the function on a single file."
   ]
  },
  {
   "cell_type": "code",
   "execution_count": null,
   "metadata": {},
   "outputs": [],
   "source": [
    "files = ['Alameda_2020.csv',\n",
    "         'Marin_2020.csv',\n",
    "         'Contra Costa_2020.csv',\n",
    "         'Alameda_2021.csv',\n",
    "         'San Francisco_2021.csv']\n",
    "\n",
    "test_file = files[1]"
   ]
  },
  {
   "cell_type": "code",
   "execution_count": null,
   "metadata": {},
   "outputs": [],
   "source": [
    "file_parts = test_file.split('.')[0].split('_')\n",
    "print(file_parts)"
   ]
  },
  {
   "cell_type": "markdown",
   "metadata": {},
   "source": [
    "Once we have the parts parsed out, we can do the next step and process each part appropriately. For the county, we want to make it lowercase, and for the year, we can convert it to an integer."
   ]
  },
  {
   "cell_type": "code",
   "execution_count": null,
   "metadata": {},
   "outputs": [],
   "source": [
    "file_parts = test_file.split('.')[0].split('_')\n",
    "county = file_parts[0]\n",
    "year = file_parts[1]\n",
    "# Lowercase county\n",
    "county = county.lower()\n",
    "# Convert year to int\n",
    "year = int(year)\n",
    "# Check output\n",
    "print(county)\n",
    "print(type(year))"
   ]
  },
  {
   "cell_type": "markdown",
   "metadata": {},
   "source": [
    "The next step is to wrap this bit of code in a for-loop to process all files:"
   ]
  },
  {
   "cell_type": "code",
   "execution_count": null,
   "metadata": {},
   "outputs": [],
   "source": [
    "files = ['Alameda_2020.csv',\n",
    "         'Marin_2020.csv',\n",
    "         'Contra Costa_2020.csv',\n",
    "         'Alameda_2021.csv',\n",
    "         'San Francisco_2021.csv']\n",
    "county_list = []\n",
    "year_list = []\n",
    "\n",
    "# Iterate over files\n",
    "for file in files:\n",
    "    file_parts = test_file.split('.')[0].split('_')\n",
    "    county = file_parts[0]\n",
    "    year = file_parts[1]\n",
    "    # Lowercase county\n",
    "    county = county.lower()\n",
    "    # Convert year to int\n",
    "    year = int(year)\n",
    "    # Store outputs\n",
    "    county_list.append(county)\n",
    "    year_list.append(year)\n",
    "# Check outputs\n",
    "print(county_list)\n",
    "print(year_list)"
   ]
  },
  {
   "cell_type": "markdown",
   "metadata": {},
   "source": [
    "What happened? How do we fix it? When we run the code on the whole loop, do you notice anything about the other county names? What might we want to change?\n",
    "\n",
    "Once the full code works, we can do the final steps: convert the output to a DataFrame and place everything into a function."
   ]
  },
  {
   "cell_type": "code",
   "execution_count": null,
   "metadata": {},
   "outputs": [],
   "source": [
    "import pandas as pd\n",
    "\n",
    "def parse_files(filelist):\n",
    "    county_list = []\n",
    "    year_list = []\n",
    "    for file in files:\n",
    "        file_parts = file.split('.')[0].split('_')\n",
    "        county = file_parts[0]\n",
    "        year = file_parts[1]\n",
    "        # Lowercase county\n",
    "        county = county.lower()\n",
    "        # Convert year to int\n",
    "        year = int(year)\n",
    "        # Store outputs\n",
    "        county_list.append(county)\n",
    "        year_list.append(year)\n",
    "\n",
    "    df = pd.DataFrame({'county': county_list,\n",
    "                       'year': year_list})\n",
    "    return df"
   ]
  },
  {
   "cell_type": "code",
   "execution_count": null,
   "metadata": {},
   "outputs": [],
   "source": [
    "files = ['Alameda_2020.csv',\n",
    "         'Marin_2020.csv',\n",
    "         'Contra Costa_2020.csv',\n",
    "         'Alameda_2021.csv',\n",
    "         'San Francisco_2021.csv']\n",
    "output = parse_files(files)\n",
    "output"
   ]
  },
  {
   "cell_type": "markdown",
   "metadata": {},
   "source": [
    "## Challenge 4: Advanced Conversion Function\n",
    "\n",
    "Let's take our conversion function from before make it more flexible.\n",
    "\n",
    "Let's say we want to convert from feet to other units as well. Change the original conversion function to a more generalized version `convert_from_feet(x,unit='meters')` by adding a keyword argument `unit` that defaults to meters. Use if statements within the body of the function to do the appropriate conversion based on this keyword argument and return the value. Choose two additional units to meters (such as inches, miles, or centimeters), and add them to the conversion function.\n",
    "\n",
    "Follow the steps:\n",
    "\n",
    "1. Plan your function. \n",
    "2. Write your function. \n",
    "3. Test the function.\n",
    "\n",
    "**Bonus**: What if you wanted to convert several values at once? What if you want to convert to several other units at once?"
   ]
  },
  {
   "cell_type": "code",
   "execution_count": null,
   "metadata": {},
   "outputs": [],
   "source": [
    "# Original conversion function\n",
    "def convert_feet_to_meters(feet):\n",
    "    meters = feet * .304\n",
    "    return(meters)"
   ]
  },
  {
   "cell_type": "code",
   "execution_count": null,
   "metadata": {},
   "outputs": [],
   "source": [
    "# YOUR CODE HERE\n"
   ]
  }
 ],
 "metadata": {
  "kernelspec": {
   "display_name": "Python 3 (ipykernel)",
   "language": "python",
   "name": "python3"
  },
  "language_info": {
   "codemirror_mode": {
    "name": "ipython",
    "version": 3
   },
   "file_extension": ".py",
   "mimetype": "text/x-python",
   "name": "python",
   "nbconvert_exporter": "python",
   "pygments_lexer": "ipython3",
   "version": "3.8.12"
  }
 },
 "nbformat": 4,
 "nbformat_minor": 4
}
