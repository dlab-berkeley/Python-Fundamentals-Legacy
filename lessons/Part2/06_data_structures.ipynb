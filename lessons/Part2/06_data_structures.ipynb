{
 "cells": [
  {
   "cell_type": "markdown",
   "metadata": {},
   "source": [
    "# Python Data Structures: Lists, Dictionaries, and Data Frames\n",
    "\n",
    "**Learning Objectives**\n",
    "* Introduce some major data structures in Python: Lists, dictionaries, and data frames.\n",
    "* Practice interacting with and manipulating these data structures.\n",
    "\n",
    "\n",
    "Data structures are objects that organize and store data in a useful way. They're a bedrock of data analysis in programming. We'll cover three of the fundamental data structures in this lesson: lists, dictionaries, and data frames.\n"
   ]
  },
  {
   "cell_type": "markdown",
   "metadata": {},
   "source": [
    "## Lists: Ordered Data Structures\n",
    "\n",
    "The first data structure we consider is a **list**. Lists are a collection of **ordered** items. Lists have a length, and the constituent items can be **indexed** based on their positions.\n",
    "\n",
    "They're most useful when storing a collection of values, when order is important. One nice thing about lists is that they can contain different types of data. For example, the entries of a list can be integers, floats, strings, and even other lists!\n",
    "\n",
    "We specify a list with square brackets: `[]`"
   ]
  },
  {
   "cell_type": "code",
   "execution_count": null,
   "metadata": {},
   "outputs": [],
   "source": [
    "country_list = [\"Afghanistan\", \"Canada\", \"Thailand\", \"Denmark\", \"Japan\"]\n",
    "type(country_list)"
   ]
  },
  {
   "cell_type": "code",
   "execution_count": null,
   "metadata": {},
   "outputs": [],
   "source": [
    "len(country_list)"
   ]
  },
  {
   "cell_type": "markdown",
   "metadata": {},
   "source": [
    "You can index a list using square brackets followng the list name, using the notation `[start:stop]`. Using a colon indicates that you want all entries between the two indices. If one side of the colon is empty, it indicates using one end of the list as the starting or ending points.\n",
    "\n",
    "Python is *zero*-indexed, meaning the first entry has index zero, not one! In addition, the `stop` index indicates 'up to but not including'. So, in `list[start:stop]`, `list[stop]` is not included."
   ]
  },
  {
   "cell_type": "code",
   "execution_count": null,
   "metadata": {},
   "outputs": [],
   "source": [
    "print(country_list[0])\n",
    "print(country_list[1:4])\n",
    "print(country_list[1:])\n",
    "print(country_list[:4])"
   ]
  },
  {
   "cell_type": "markdown",
   "metadata": {},
   "source": [
    "You can also use negative numbers to indicate starting points relative to the last entry in the list:"
   ]
  },
  {
   "cell_type": "code",
   "execution_count": null,
   "metadata": {},
   "outputs": [],
   "source": [
    "print(country_list[-1])\n",
    "print(country_list[-4:-1])\n",
    "print(country_list[-4:])\n",
    "print(country_list[:-1])"
   ]
  },
  {
   "cell_type": "markdown",
   "metadata": {},
   "source": [
    "## Challenge 1: Slicing Lists\n",
    "\n",
    "Using the lists in the next cell:\n",
    "\n",
    "1. What does `thing[start:stop]` do? What is the output?\n",
    "2. Write three different ways to slice the string from 'elephant' to the end."
   ]
  },
  {
   "cell_type": "code",
   "execution_count": null,
   "metadata": {},
   "outputs": [],
   "source": [
    "thing = [1, 3, 8, 'elephant', 'banana', 2]\n",
    "start = 2\n",
    "stop = 5"
   ]
  },
  {
   "cell_type": "markdown",
   "metadata": {},
   "source": [
    "### List Methods\n",
    "\n",
    "As we discussed in Part 1, objects can have methods associated with their data type that are accessed via dot notation (`object.method()`).\n",
    "\n",
    "Methods are functions that operate specifically on a particular data type. Lists have their own methods which perform operations specific to the structure of lists. The most common method is the `append()` method, which adds an item to the end of a list."
   ]
  },
  {
   "cell_type": "code",
   "execution_count": null,
   "metadata": {},
   "outputs": [],
   "source": [
    "print(country_list)"
   ]
  },
  {
   "cell_type": "code",
   "execution_count": null,
   "metadata": {},
   "outputs": [],
   "source": [
    "country_list.append('USA')"
   ]
  },
  {
   "cell_type": "code",
   "execution_count": null,
   "metadata": {},
   "outputs": [],
   "source": [
    "print(country_list)"
   ]
  },
  {
   "cell_type": "markdown",
   "metadata": {},
   "source": [
    "Note that the `append()` method operates **in-place**: it modifies the object it is applied to. This is not always the case in Python - some methods return an object that must be stored in its own variable.\n",
    "\n",
    "There are many other useful list methods. Use the [documentation](https://docs.python.org/3/tutorial/datastructures.html#more-on-lists) to investigate available methods for dealing with lists."
   ]
  },
  {
   "cell_type": "markdown",
   "metadata": {},
   "source": [
    "## Challenge 2: Appending to Lists\n",
    "\n",
    "We've created a list called `thing` in the cell below.\n",
    "\n",
    "1. Append the following values to the list, individually: `'apple'`, `8`, and `9`. Print the ensuing list out.\n",
    "2. Make a new list called `thing2` consisting of the values `'apple'`, `8`, and `9`. Append `thing2` to `thing`. How does the output differ from the output from the previous part?\n",
    "3. Look at the [documentation](https://docs.python.org/3/tutorial/datastructures.html#more-on-lists) for the list method `.extend()`. Is there a way to rewrite your answer to (2) to use extend? How does that compare to the outputs of the previous two parts?\n",
    "4. What is one situation where you would use `append` and one where you would use `extend`?\n",
    "\n",
    "**Hint**: *Iterable* in Python means an object with multiple values that can be iterated through (including lists, tuples, and even strings)."
   ]
  },
  {
   "cell_type": "code",
   "execution_count": null,
   "metadata": {},
   "outputs": [],
   "source": [
    "#1\n",
    "thing = [1, 3, 8, 'elephant', 'banana', 2]\n",
    "\n",
    "# YOUR CODE HERE\n",
    "\n",
    "#2\n",
    "thing = [1, 3, 8, 'elephant', 'banana', 2]\n",
    "thing2 = []\n",
    "\n",
    "\n",
    "#3\n",
    "thing = [1, 3, 8, 'elephant', 'banana', 2]\n",
    "thing2 = []\n"
   ]
  },
  {
   "cell_type": "markdown",
   "metadata": {},
   "source": [
    "## Dictionaries: Key-Value Structures\n",
    "\n",
    "Dictionaries are organized on the principle of key-value pairs. The **keys** can be used to access the **values**. They're most useful when you have unordered data organized in pairs. This occurs, for example, in specifying metadata (data describing other data).\n",
    "\n",
    "Keys can be ints, floats, or strings, and are unordered. Values, however, can be any data type.\n",
    "\n",
    "Dictionaries are specified in Python using curly braces, with colons separating keys and values. Let's take a look at an example dictionary."
   ]
  },
  {
   "cell_type": "code",
   "execution_count": null,
   "metadata": {},
   "outputs": [],
   "source": [
    "example_dict = {\n",
    "    \"name\": \"Forough Farrokhzad\",\n",
    "    \"year of birth\": 1935,\n",
    "    \"year of death\": 1967,\n",
    "    \"place of birth\": \"Iran\",\n",
    "    \"language\": \"Persian\"}\n",
    "\n",
    "example_dict['year of birth']"
   ]
  },
  {
   "cell_type": "markdown",
   "metadata": {},
   "source": [
    "Like lists, dictionaries have their own methods. One of them is the `keys()` method:"
   ]
  },
  {
   "cell_type": "code",
   "execution_count": null,
   "metadata": {},
   "outputs": [],
   "source": [
    "print(example_dict.keys())"
   ]
  },
  {
   "cell_type": "markdown",
   "metadata": {},
   "source": [
    "Remember how we did type conversion? We can do the same thing here, and cast the dictionary keys to a list, which we can then iterate through:"
   ]
  },
  {
   "cell_type": "code",
   "execution_count": null,
   "metadata": {},
   "outputs": [],
   "source": [
    "list(example_dict.keys())"
   ]
  },
  {
   "cell_type": "markdown",
   "metadata": {},
   "source": [
    "## Challenge 3: Creating a Dictionary\n",
    "\n",
    "Create a dictionary `fruits` with the following lists. Use the names of the list for the keys of the dictionary. Print the list of keys of the dictionary."
   ]
  },
  {
   "cell_type": "code",
   "execution_count": null,
   "metadata": {},
   "outputs": [],
   "source": [
    "fruit = ['apple', 'orange', 'mango']\n",
    "length = [3.2, 2.1, 3.1]\n",
    "color = ['red', 'orange', 'yellow']"
   ]
  },
  {
   "cell_type": "markdown",
   "metadata": {},
   "source": [
    "Dictionaries are useful for hierarchical storage of data (and can even be nested!). They are also often used to initialize data frames, a useful data structure for tabular data."
   ]
  },
  {
   "cell_type": "markdown",
   "metadata": {},
   "source": [
    "## Data Frames\n",
    "\n",
    "A common data structure you've likely already encountered is tabular data. Think of an Excel sheet: each column corresponds to a different feature of each datapoint, while rows correspond to different samples.\n",
    "\n",
    "In scientific programming, tabular data is often called a \"data frame\". In Python, there a specialized library called `pandas` which provides tools to create and manipulate data frames.\n",
    "\n",
    "We're going to explore `pandas` more closely in Part 3, but let's try creating a `pandas` `DataFrame` object right now. We'll do this by creating a dictionary:"
   ]
  },
  {
   "cell_type": "code",
   "execution_count": null,
   "metadata": {},
   "outputs": [],
   "source": [
    "fruit = ['apple', 'orange', 'mango', 'strawberry', 'salmonberry', 'thimbleberry']\n",
    "size = [3, 2, 3, 1, 1, 1]\n",
    "color = ['red', 'orange', 'orange', 'red', 'orange', 'red']\n",
    "\n",
    "fruits = {\n",
    "    'fruit': fruit,\n",
    "    'size': size,\n",
    "    'color': color}"
   ]
  },
  {
   "cell_type": "markdown",
   "metadata": {},
   "source": [
    "Next, we import the `pandas` library and pass in the dictionary to the `pd.DataFrame()` function, storing the result in a variable called `df`."
   ]
  },
  {
   "cell_type": "code",
   "execution_count": null,
   "metadata": {},
   "outputs": [],
   "source": [
    "import pandas as pd\n",
    "\n",
    "df = pd.DataFrame(fruits)\n",
    "df"
   ]
  },
  {
   "cell_type": "markdown",
   "metadata": {},
   "source": [
    "The keys became column names and the values became cells in the `DataFrame`. In addition, there is an *index* on the left that keeps track of the row.\n",
    "\n",
    "Objects can also have **attributes**, or variables associated with the datatype. We can get the number of columns and rows with `df.shape`, an attribute of the dataframe. How many rows and columns does this dataframe have? "
   ]
  },
  {
   "cell_type": "code",
   "execution_count": null,
   "metadata": {},
   "outputs": [],
   "source": [
    "df.shape"
   ]
  },
  {
   "cell_type": "markdown",
   "metadata": {},
   "source": [
    "## Challenge 4: Initializing a DataFrame\n",
    "\n",
    "The following code gives an error. Why does it have an error? What are some ways we could fix this?"
   ]
  },
  {
   "cell_type": "code",
   "execution_count": null,
   "metadata": {},
   "outputs": [],
   "source": [
    "fruit = ['apple', 'orange']\n",
    "length = [3.2, 2.1, 3.1]\n",
    "color = ['red', 'orange', 'yellow']\n",
    "\n",
    "fruit_dict = {\n",
    "    'fruit': fruit,\n",
    "    'length': length,\n",
    "    'color': color}\n",
    "\n",
    "df_fruit = pd.DataFrame(fruit_dict)"
   ]
  },
  {
   "cell_type": "markdown",
   "metadata": {},
   "source": [
    "### DataFrame Slicing and Methods\n",
    "\n",
    "We can choose a single column by selecting the name of that column. `pandas` calls this a `pd.Series` object. The act of obtaining a particular subset of a data frame is often referred to as **slicing**. This uses bracket notation to select part of the data."
   ]
  },
  {
   "cell_type": "code",
   "execution_count": null,
   "metadata": {},
   "outputs": [],
   "source": [
    "df"
   ]
  },
  {
   "cell_type": "code",
   "execution_count": null,
   "metadata": {},
   "outputs": [],
   "source": [
    "# Bracket notation to choose a column\n",
    "df['fruit']"
   ]
  },
  {
   "cell_type": "code",
   "execution_count": null,
   "metadata": {},
   "outputs": [],
   "source": [
    "# Specify each dimension of the data frame separately using the loc method\n",
    "df.loc[:, 'fruit'] # Colon selects all rows"
   ]
  },
  {
   "cell_type": "markdown",
   "metadata": {},
   "source": [
    "We can choose a row by using the `loc` method with the first entry: `df.loc[index, :]`."
   ]
  },
  {
   "cell_type": "code",
   "execution_count": null,
   "metadata": {},
   "outputs": [],
   "source": [
    "# Select the first row\n",
    "df.loc[0, :]"
   ]
  },
  {
   "cell_type": "code",
   "execution_count": null,
   "metadata": {},
   "outputs": [],
   "source": [
    "# Select a single cell\n",
    "df.loc[0, 'fruit']"
   ]
  },
  {
   "cell_type": "markdown",
   "metadata": {},
   "source": [
    "`DataFrame`s also have methods, including those for [merging](https://pandas.pydata.org/docs/reference/api/pandas.DataFrame.merge.html?highlight=merge#pandas.DataFrame.merge), [aggregation](https://pandas.pydata.org/docs/reference/api/pandas.DataFrame.groupby.html), [nulls](https://pandas.pydata.org/docs/reference/api/pandas.DataFrame.groupby.html), and others. For example, we can identify the number of unique values in each column by using `nunique()`:"
   ]
  },
  {
   "cell_type": "code",
   "execution_count": null,
   "metadata": {},
   "outputs": [],
   "source": [
    "df.nunique()"
   ]
  },
  {
   "cell_type": "markdown",
   "metadata": {},
   "source": [
    "We can also count how many unique values of each type for a column using `df.value_counts()`:"
   ]
  },
  {
   "cell_type": "code",
   "execution_count": null,
   "metadata": {
    "scrolled": true
   },
   "outputs": [],
   "source": [
    "df.value_counts(['color'])"
   ]
  },
  {
   "cell_type": "markdown",
   "metadata": {},
   "source": [
    "There are many many more methods and operations for Pandas DataFrames. Check out our Data Wrangling with Python workshop for more on DataFrames (and part 3 of this workshop1)"
   ]
  },
  {
   "cell_type": "markdown",
   "metadata": {},
   "source": [
    "## Other Data Structures\n",
    "\n",
    "There are many more data structures in Python that you may run across. A few include:\n",
    "\n",
    "* **tuple**: Similar to a list, but values can't be changed. Tuples are **immutable**.\n",
    "* **set**: An unordered list, which can only contain **unique** values.\n",
    "* **range**: A sequence of numbers, often in an arithmetic sequence. \n",
    "* And many [more](https://docs.python.org/3/library/stdtypes.html#immutable-sequence-types)!\n",
    "\n",
    "\n",
    "We often interact with these more often as the output of functions rather than writing them ourselves, but it's good to be aware of them. "
   ]
  }
 ],
 "metadata": {
  "kernelspec": {
   "display_name": "Python 3 (ipykernel)",
   "language": "python",
   "name": "python3"
  },
  "language_info": {
   "codemirror_mode": {
    "name": "ipython",
    "version": 3
   },
   "file_extension": ".py",
   "mimetype": "text/x-python",
   "name": "python",
   "nbconvert_exporter": "python",
   "pygments_lexer": "ipython3",
   "version": "3.8.12"
  }
 },
 "nbformat": 4,
 "nbformat_minor": 4
}
