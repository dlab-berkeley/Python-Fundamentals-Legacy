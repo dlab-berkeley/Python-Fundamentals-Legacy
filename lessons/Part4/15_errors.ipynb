{
 "cells": [
  {
   "cell_type": "markdown",
   "metadata": {},
   "source": [
    "# Errors and Exceptions\n",
    "\n",
    "**Learning Objectives**:\n",
    "\n",
    "* To read a traceback and determine the following relevant pieces of information:\n",
    "    * The file, function, and line number on which the error occurred.\n",
    "    * The type of the error.\n",
    "    * The error message.\n",
    "* To be able to describe the types of situations in which the following errors occur:\n",
    "    * `SyntaxError`\n",
    "    * `IndentationError`\n",
    "    * `NameError`\n",
    "    * `IndexError`\n",
    "    * `TypeError`\n",
    "    * `IOError`\n",
    "* Debug code containing an error systematically.\n",
    "\n",
    "*****\n",
    "\n",
    "## Every Programmer Encounters Errors\n",
    "\n",
    "We've looked at a lot of errors over the course of this workshop. That is one of the most common parts of programming. All programmers - those who are just beginning, and those who have been programming for years - encounter and struggle with error.\n",
    "\n",
    "* But understanding what the different types of errors are\n",
    "and when you are likely to encounter them can help a lot.\n",
    "* Once you know *why* you get certain types of errors,\n",
    "they become much easier to fix."
   ]
  },
  {
   "cell_type": "code",
   "execution_count": null,
   "metadata": {},
   "outputs": [],
   "source": [
    "def random_function(x, y):\n",
    "    return(x / y)\n",
    "random_function(12, '14')"
   ]
  },
  {
   "cell_type": "markdown",
   "metadata": {},
   "source": [
    "- This particular [traceback](https://github.com/dlab-berkeley/python-intensive/blob/master/Glossary.md#traceback) has two levels. That means the error is in a function called by the program.\n",
    "- You can determine the number of levels by looking for the number of arrows on the left hand side.\n",
    "- The last level is the actual place where the error occurred.\n",
    "- The other level(s) show what function the program executed to get to the next level down.\n",
    "\n",
    "So, in this case, the program:\n",
    "\n",
    "1. First performed a [function call](https://github.com/dlab-berkeley/python-intensive/blob/master/Glossary.md#function-call) to the function `random_function`.\n",
    "\n",
    "2. Inside this function, the program encountered an error on Line 2, when it tried to run the code `return(x / y)`."
   ]
  },
  {
   "cell_type": "markdown",
   "metadata": {},
   "source": [
    "## Long Tracebacks\n",
    "\n",
    "Sometimes, you might see a traceback that is very long -- sometimes they might even be 20 levels deep! This can make it seem like something horrible happened, but really it just means that your program called many functions before it ran into the error. Most of the time, you can just pay attention to the bottom-most level, which is the actual place where the error occurred.\n",
    "\n",
    "So what error did the program actually encounter?"
   ]
  },
  {
   "cell_type": "markdown",
   "metadata": {},
   "source": [
    "## Python Tells Us the Category or [Type of Error](https://github.com/dlab-berkeley/python-intensive/blob/master/Glossary.md#type-of-error) \n",
    "\n",
    "In this case, it is an `TypeError`. Python then prints a more detailed error message. What went wrong?\n",
    "\n",
    "- If you encounter an error and don't know what it means, it is still important to read the traceback closely.\n",
    "- That way, if you fix the error, but encounter a new one, you can tell that the error changed.\n",
    "- Sometimes just knowing *where* the error occurred is enough to fix it, even if you don't entirely understand the message."
   ]
  },
  {
   "cell_type": "markdown",
   "metadata": {},
   "source": [
    "## Challenge 1: Reading Error Messages\n",
    "\n",
    "Read the traceback below, and identify the following pieces of information about it:\n",
    "\n",
    "1.  How many levels does the traceback have?\n",
    "3.  What is the function and line where the error occurred?\n",
    "5.  What is the type of error and error message?\n",
    "7.  What went wrong?"
   ]
  },
  {
   "cell_type": "code",
   "execution_count": null,
   "metadata": {},
   "outputs": [],
   "source": [
    "def split_and_lower(string):\n",
    "    return(string.split(' ').lower())\n",
    "\n",
    "def parse_titles(titles):        \n",
    "    split_and_lower(titles)\n",
    "    \n",
    "parse_titles(['Kafka on the Shore', 'Norwegian Woods'])"
   ]
  },
  {
   "cell_type": "markdown",
   "metadata": {},
   "source": [
    "## Syntax Errors\n",
    "\n",
    "- Syntax is necessary in order to tell Python how to execute the written code.\n",
    "- If Python doesn't know how to read the program, it will just give up and inform you with an error.\n",
    "\n",
    "For example:"
   ]
  },
  {
   "cell_type": "code",
   "execution_count": null,
   "metadata": {
    "attributes": {
     "classes": [
      " {.python"
     ],
     "id": ""
    }
   },
   "outputs": [],
   "source": [
    "def some_function()\n",
    "    msg = \"hello, world!\"\n",
    "    print(msg)\n",
    "     return msg"
   ]
  },
  {
   "cell_type": "markdown",
   "metadata": {},
   "source": [
    "Here, Python tells us that there is a `SyntaxError` on line 1,\n",
    "and even puts a little arrow in the place where there is an issue. In this case the problem is that the function definition is missing a colon at the end.\n",
    "\n",
    "If we fix the problem with the colon, we see that there is *also* an `IndentationError`, which means that the lines in the function definition do not all have the same indentation:"
   ]
  },
  {
   "cell_type": "code",
   "execution_count": null,
   "metadata": {
    "attributes": {
     "classes": [
      " {.python"
     ],
     "id": ""
    }
   },
   "outputs": [],
   "source": [
    "def some_function():\n",
    "    msg = \"hello, world!\"\n",
    "    print(msg)\n",
    "     return msg"
   ]
  },
  {
   "cell_type": "markdown",
   "metadata": {},
   "source": [
    "Both `SyntaxError` and `IndentationError` indicate a problem with the syntax of your program,\n",
    "but an `IndentationError` is more specific:\n",
    "it *always* means that there is a problem with how your code is indented."
   ]
  },
  {
   "cell_type": "markdown",
   "metadata": {},
   "source": [
    "## Tabs and Spaces\n",
    "\n",
    "A quick note on indentation errors: they can sometimes be insidious, especially if you are mixing spaces and tabs. Because they are both [whitespace](https://github.com/dlab-berkeley/python-intensive/blob/master/Glossary.md#whitespace), it is difficult to visually tell the difference. The text editor [SublimeText](https://www.sublimetext.com/) makes it really easy to deal with inconsistent indentation and tabs. The Jupyter notebook actually gives us a bit of a hint, but not all Python editors will do that. In the following example, the first two lines are using a tab for indentation,\n",
    "while the third line uses four spaces:"
   ]
  },
  {
   "cell_type": "code",
   "execution_count": null,
   "metadata": {},
   "outputs": [],
   "source": [
    "def some_function():\n",
    "    msg = \"hello, world!\"\n",
    "    print(msg)\n",
    "\treturn msg"
   ]
  },
  {
   "cell_type": "markdown",
   "metadata": {},
   "source": [
    "## Runtime Errors\n",
    "\n",
    "Runtime errors occur when objects in Python are used in an incorrect way. Python can only determine that the error exists when the code is actually run, unlike syntax errors that can be found before the code is even run. Runtime errors stop the code at the point of the error. Output up to the point of the error is returned, and also ar \n",
    "\n",
    "There are many types of runtime errors. We'll explore a few of them here."
   ]
  },
  {
   "cell_type": "markdown",
   "metadata": {},
   "source": [
    "### Name Errors\n",
    "\n",
    "These occur when Python encounters a name it doesn't recognize. For example:"
   ]
  },
  {
   "cell_type": "code",
   "execution_count": null,
   "metadata": {
    "attributes": {
     "classes": [
      " {.python"
     ],
     "id": ""
    }
   },
   "outputs": [],
   "source": [
    "print(a)"
   ]
  },
  {
   "cell_type": "markdown",
   "metadata": {},
   "source": [
    "Why did you get this error?\n",
    "\n",
    "- This error means that a variable is being referenced but is not defined.\n",
    "\n",
    "How do you fix it? \n",
    "\n",
    "It depends on why you get the error:\n",
    "\n",
    "- You might have meant to use a string -> Add quotes:\n",
    "```\n",
    "print(\"a\")\n",
    "```\n",
    "- You might have referred to a variable that is not defined after this point in the code. -> Define the variable:\n",
    "```\n",
    "a = 13\n",
    "print(a)\n",
    "```\n",
    "- Or you might have referred to the wrong/mis-named variable -> Rename the variable:\n",
    "```\n",
    "ace = 13\n",
    "print(ace)\n",
    "```"
   ]
  },
  {
   "cell_type": "markdown",
   "metadata": {},
   "source": [
    "### Index Errors\n",
    "\n",
    "Index errors deal with containers (like lists and dictionaries) and the items within them. If you try to access an item in a list or a dictionary that does not exist, then you will get an error."
   ]
  },
  {
   "cell_type": "code",
   "execution_count": null,
   "metadata": {
    "attributes": {
     "classes": [
      " {.python"
     ],
     "id": ""
    }
   },
   "outputs": [],
   "source": [
    "letters = ['a', 'b', 'c']\n",
    "\n",
    "for i in range(4):\n",
    "    print(letters[i])"
   ]
  },
  {
   "cell_type": "markdown",
   "metadata": {},
   "source": [
    "Why did you get this error?\n",
    "- You are referring to an item in a list that doesn't exist.\n",
    "\n",
    "How do you fix it? \n",
    "\n",
    "- If you mis-typed the index -> Fix it to refer to the proper item.\n",
    "- If you didn't add the original item to the list -> Add it in."
   ]
  },
  {
   "cell_type": "markdown",
   "metadata": {},
   "source": [
    "### Type and Attribute Errors\n",
    "\n",
    "A similar error occurs when we confuse types; that is, when we try to use a [method](https://github.com/dlab-berkeley/python-intensive/blob/master/Glossary.md#method) or syntax relevant to one type on another type that doesn't like it."
   ]
  },
  {
   "cell_type": "code",
   "execution_count": null,
   "metadata": {
    "scrolled": true
   },
   "outputs": [],
   "source": [
    "a = '2'\n",
    "b = 15\n",
    "\n",
    "b + a"
   ]
  },
  {
   "cell_type": "markdown",
   "metadata": {},
   "source": [
    "Why do you get this error?\n",
    "\n",
    "- In this case, the type of the items to be added were a str and int, which cannot be combined in addition. \n",
    "\n",
    "How do you fix it?\n",
    "\n",
    "- If the intention is to add two numbers -> Convert a to an integer before addition:\n",
    "```\n",
    "int(a) + b\n",
    "```\n",
    "\n",
    "- If the intention is to concatenate two strings -> convert b to a string before concatenation:\n",
    "```\n",
    "a + str(b)\n",
    "```\n",
    "\n",
    "If you try to use a method or attribute that does not exist for a method, you will get an ```AttributeError```:"
   ]
  },
  {
   "cell_type": "code",
   "execution_count": null,
   "metadata": {},
   "outputs": [],
   "source": [
    "3.14.split('.')"
   ]
  },
  {
   "cell_type": "markdown",
   "metadata": {},
   "source": [
    "## File Errors\n",
    "\n",
    "The last type of error we'll cover today are those associated with reading and writing files. If you try to read a file that does not exist, you will recieve an `FileNoteFoundError` telling you so."
   ]
  },
  {
   "cell_type": "code",
   "execution_count": null,
   "metadata": {
    "attributes": {
     "classes": [
      " {.python"
     ],
     "id": ""
    }
   },
   "outputs": [],
   "source": [
    "import pandas as pd\n",
    "file_handle = pd.read_csv('nonexistentfile.txt',sep = '\\t')"
   ]
  },
  {
   "cell_type": "markdown",
   "metadata": {},
   "source": [
    "How do I fix this error?\n",
    "- Make sure the file exists in the location you expect it.\n",
    "- Check that the path is correct: the file is properly named, and no subdirectories are missing.\n",
    "- Try moving the file to an easier to find location, e.g. a subfolder of your working directory.\n",
    "- Try using the absolute filepath."
   ]
  },
  {
   "cell_type": "markdown",
   "metadata": {},
   "source": [
    "## Challenge 2: Dealing with Multiple Errors\n",
    "\n",
    "We are usually not dealing with just one error, but multiple errors.\n",
    "\n",
    "Let's say we are writing a function that takes a list of titles and makes acronyms from them in all caps. \n",
    "\n",
    "1. Read the code below, and (without running it) try to identify what the errors are.\n",
    "2. Run the code and read the error message.\n",
    "3. Fix the error.\n",
    "4. Repeat steps 2 and 3, until you have fixed all the errors.\n",
    "5. Does the code give the intended output? If not, fix it so that it does."
   ]
  },
  {
   "cell_type": "code",
   "execution_count": null,
   "metadata": {},
   "outputs": [],
   "source": [
    "def make_acronyms(titles):\n",
    "    acronym = ''\n",
    "    for title in titles:\n",
    "        for word in t.split(' ')\n",
    "            acronym.append(word[1].upper())\n",
    "    return(acronym)\n",
    "\n",
    "output = make_acronyms(titles)\n",
    "titles = ['Norwegian Woods', 'Kafka on the Shore']"
   ]
  },
  {
   "cell_type": "markdown",
   "metadata": {},
   "source": [
    "## Debugging Strategies\n",
    "\n",
    "### Know What it's Supposed To Do\n",
    "\n",
    "The first step in debugging something is to *know what it's supposed to do*. \"My program doesn't work\" isn't good enough: in order to diagnose and fix problems, we need to be able to tell correct output from incorrect. If we can write a test case for the failing case - i.e., if we can assert that with *these* inputs, the function should produce *that* result - then we're ready to start debugging. If we can't, then we need to figure out how we're going to know when we've fixed things.\n",
    "\n",
    "### Start with a Simplified Case\n",
    "\n",
    "If you're writing a multi-step loop or function, start with one case and get to work. Then ask what you need to do to generalize to many cases.\n",
    "\n",
    "### Divide and Conquer\n",
    "\n",
    "We want to localize the failure to the smallest possible region of code. The smaller the gap between cause and effect, the easier the connection is to find. Many programmers therefore use a **divide and conquer** strategy to find bugs, i.e., if the output of a function is wrong, they check whether things are OK in the middle, then concentrate on either the first or second half, and so on.\n",
    "\n",
    "### Change One Thing at a Time, For a Reason\n",
    "\n",
    "Replacing random chunks of code is unlikely to do much good. (After all, if you got it wrong the first time, you'll probably get it wrong the second and third as well.) Good programmers therefore *change one thing at a time, for a reason*. They are either trying to gather more information (\"is the bug still there if we change the order of the loops?\") or test a fix (\"can we make the bug go away by sorting our data before processing it?\").\n",
    "\n",
    "Every time we make a change, however small, we should re-run our tests immediately, because the more things we change at once, the harder it is to know what's responsible for what.\n",
    "\n",
    "### Outside Resources\n",
    "\n",
    "If you've tried everything you can think of to logically fix the error and still don't understand what Python is trying to tell you, now the real searching begins. Go to Google and copy/paste the error, you're probably not the only one who has run into it!"
   ]
  }
 ],
 "metadata": {
  "kernelspec": {
   "display_name": "Python 3 (ipykernel)",
   "language": "python",
   "name": "python3"
  },
  "language_info": {
   "codemirror_mode": {
    "name": "ipython",
    "version": 3
   },
   "file_extension": ".py",
   "mimetype": "text/x-python",
   "name": "python",
   "nbconvert_exporter": "python",
   "pygments_lexer": "ipython3",
   "version": "3.8.12"
  },
  "toc": {
   "base_numbering": 1,
   "nav_menu": {
    "height": "253px",
    "width": "504px"
   },
   "number_sections": false,
   "sideBar": true,
   "skip_h1_title": false,
   "title_cell": "Table of Contents",
   "title_sidebar": "Contents",
   "toc_cell": false,
   "toc_position": {},
   "toc_section_display": true,
   "toc_window_display": false
  },
  "varInspector": {
   "cols": {
    "lenName": 16,
    "lenType": 16,
    "lenVar": 40
   },
   "kernels_config": {
    "python": {
     "delete_cmd_postfix": "",
     "delete_cmd_prefix": "del ",
     "library": "var_list.py",
     "varRefreshCmd": "print(var_dic_list())"
    },
    "r": {
     "delete_cmd_postfix": ") ",
     "delete_cmd_prefix": "rm(",
     "library": "var_list.r",
     "varRefreshCmd": "cat(var_dic_list()) "
    }
   },
   "types_to_exclude": [
    "module",
    "function",
    "builtin_function_or_method",
    "instance",
    "_Feature"
   ],
   "window_display": false
  }
 },
 "nbformat": 4,
 "nbformat_minor": 4
}
