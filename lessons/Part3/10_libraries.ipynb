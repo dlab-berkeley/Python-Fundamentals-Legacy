{
 "cells": [
  {
   "cell_type": "markdown",
   "metadata": {},
   "source": [
    "# Python Libraries\n",
    "\n",
    "**Learning Objectives**:\n",
    "- Understand the purpose of libraries, and where to find them.\n",
    "- How to install a new library.\n",
    "- Import and use functions from libraries in Python.\n",
    "****\n",
    "\n",
    "A **library** is a collection of functions bundled neatly into a module that can be used by other users. Libraries usually contains classes, functions, and sometimes variables. Libraries are typically developed to serve a unified purpose.\n",
    "\n",
    "We have already been using Python's [standard library](https://docs.python.org/3/library/) - it comes ready and loaded with Python. We've also used `pandas` to work with data frames.\n",
    "\n",
    "Many additional libraries are available from [Anaconda](https://www.anaconda.com) or [PyPI](https://pypi.python.org/pypi) (the Python Package Index)."
   ]
  },
  {
   "cell_type": "markdown",
   "metadata": {},
   "source": [
    "## Installing New Libraries\n",
    "\n",
    "### Option 1: Anaconda Navigator\n",
    "\n",
    "Many popular (and some not-so-popular) libraries are available for installation through the Anaconda Navigator. Let's use the Anaconda Navigator to install a library called `fuzzywuzzy`. \n",
    "\n",
    "To do so, follow these steps:\n",
    "\n",
    "1. Open the Anaconda Navigator application.\n",
    "2. Click the \"Environments\" tab in the left-hand menu.\n",
    "3. Click the drop-down box that, by default, says \"Installed\". Change it to say \"All\".\n",
    "4. Click the \"Channels\" button, which will open up a dialog box. In that dialog box press the \"Add\" button in the top right corner. Type \"conda-forge\" in the new line that appears in the dialog box, then press enter. Finally, press the green \"Update channels\" button in the bottom right-hand corner.\n",
    "5. Use the \"Search Package\" text box to enter `fuzzywuzzy` and press \"Enter\".\n",
    "6. Select the checkbox next to the `fuzzywuzzy` package (library) name that appears in the list below.\n",
    "7. Click the green \"Apply\" button in the bottom right-hand corner. This will open up a dialog box that says \"Install Packages\". It will say \"Solving package specifications\" with a blue progress bar. This may take a few minutes.\n",
    "8. Eventually, it will show a list of packages that would need to be installed. Press the green \"Apply\" button in the \"Install Packages dialog box\" which will install the packages. This may take a few minutes.\n",
    "\n",
    "### Option 2: Installing Using the Command Line\n",
    "\n",
    "Another option is to install a package directly using the command line. On Macs, you would open up the Terminal application. On Windows, open up the Anaconda Prompt application.\n",
    "\n",
    "Once you have this application open, you can use `pip`, a Python package installer, to install new packages from PyPI. Simply run `pip install [PACKAGE_NAME]`, and the package will be installed.\n",
    "\n",
    "### Option 3: Installing within a Jupyter Notebook\n",
    "\n",
    "You can also install packages within a Jupyter Notebook. Create a new cell, and run the command `!pip install [PACKAGE_NAME]`. This should then run the `pip` install in the background."
   ]
  },
  {
   "cell_type": "markdown",
   "metadata": {},
   "source": [
    "## Importing Packages\n",
    "\n",
    "An installed package is not yet available for us to use while running Python. We still have to **import** the package into the current session.\n",
    "\n",
    "Importing is done via the `import` keyword. We simply run `import [PACKAGE_NAME]`, and everything inside the package becomes available to use.\n",
    "\n",
    "Packages are typically organized into modules and submodules. Within these modules and submodules are functions, classes, and variables. All of these components can be accessed with **dot notation**: e.g., `[LIBRARY_NAME].[MODULE_NAME]`. Python uses `.` to mean \"part of\".\n",
    "\n",
    "Let's import the `math` module, which is provided by default as part of the Python distribution. Let's access a variable and function from this module using dot notation:"
   ]
  },
  {
   "cell_type": "code",
   "execution_count": null,
   "metadata": {},
   "outputs": [],
   "source": [
    "import math\n",
    "\n",
    "print('pi is', math.pi)\n",
    "print('cos(pi) is', math.cos(math.pi))"
   ]
  },
  {
   "cell_type": "markdown",
   "metadata": {},
   "source": [
    "## Finding More About a Package's Contents\n",
    "\n",
    "How did we know that `pi` and `cos()` were components of `math`? Usually, packages provide documentation which explain these components. We can access this documentation with the `help` function:"
   ]
  },
  {
   "cell_type": "code",
   "execution_count": null,
   "metadata": {},
   "outputs": [],
   "source": [
    "help(math)"
   ]
  },
  {
   "cell_type": "markdown",
   "metadata": {},
   "source": [
    "You can also view documentation [online](https://docs.python.org/3/library/math.html). \n",
    "\n",
    "Being comfortable sifting through documentation is a **very** important skill!"
   ]
  },
  {
   "cell_type": "markdown",
   "metadata": {},
   "source": [
    "## Challenge 1: When Is Help Available?\n",
    "\n",
    "When a colleague of yours types `help(math)`,\n",
    "Python reports an error:\n",
    "\n",
    "> ~~~\n",
    "> NameError: name 'math' is not defined\n",
    "> ~~~\n",
    "\n",
    "What has your colleague forgotten to do?"
   ]
  },
  {
   "cell_type": "markdown",
   "metadata": {},
   "source": [
    "## Importing Everything\n",
    "\n",
    "We can uses the `*` character to import everything from a library, and then refer to each item by name without needing the prefix."
   ]
  },
  {
   "cell_type": "code",
   "execution_count": null,
   "metadata": {},
   "outputs": [],
   "source": [
    "from math import *\n",
    "print(pi)"
   ]
  },
  {
   "cell_type": "markdown",
   "metadata": {
    "tags": []
   },
   "source": [
    "In general, this is bad practice. Packages can be large, and different packages might have functions sharing the same names. If you imports everything from multiple packages, you might have variable names overwritten, leading to problems down the line!"
   ]
  },
  {
   "cell_type": "markdown",
   "metadata": {},
   "source": [
    "## Importing Specific Components of a Package\n",
    "\n",
    "We generally want to import only what we need from a package. To import a specific component of a package, we can use the `from` keyword. This allows us to import a specific module, function, or variable, and then refer to them directly without the library name as prefix.\n",
    "\n",
    "Specifically, we use the syntax `from [PACKAGE_NAME] import [COMPONENT]`.\n",
    "\n",
    "Let's do this with the `math` module."
   ]
  },
  {
   "cell_type": "code",
   "execution_count": null,
   "metadata": {},
   "outputs": [],
   "source": [
    "from math import cos, pi\n",
    "\n",
    "print('cos(pi) is', cos(pi))"
   ]
  },
  {
   "cell_type": "markdown",
   "metadata": {},
   "source": [
    "## Importing with an Alias\n",
    "\n",
    "Python allows you to import packages or modules with an alias, using the `as` keyword. Specifically, use the syntax `import [PACKAGE] as [ALIAS]` to give a library a new name. You would then refer to items in the library using that shortened name. You've seen this already with `import pandas as pd`."
   ]
  },
  {
   "cell_type": "code",
   "execution_count": null,
   "metadata": {},
   "outputs": [],
   "source": [
    "import math as m\n",
    "\n",
    "print('cos(pi) is', m.cos(m.pi))"
   ]
  },
  {
   "cell_type": "markdown",
   "metadata": {},
   "source": [
    "There are very common abbreviations used for some of the more popular libraries, including:\n",
    "\n",
    "* `pandas` -> `pd`\n",
    "* `numpy` -> `np`\n",
    "* `matplotlib` -> `mpl`.\n",
    "\n",
    "But sometimes aliases can make programs harder to understand, since readers must learn your program's aliases. Be very intentional about using aliases!"
   ]
  },
  {
   "cell_type": "markdown",
   "metadata": {},
   "source": [
    "## Challenge 2: Locating the Right Library\n",
    "\n",
    "You want to select a random value from your data.\n",
    "\n",
    "1. What [standard library](https://docs.python.org/3/library/)    would you most expect to help?\n",
    "2. Which function would you select from that library? Are there alternatives?\n",
    "3. Import the library, and apply the function to the following list."
   ]
  },
  {
   "cell_type": "code",
   "execution_count": null,
   "metadata": {},
   "outputs": [],
   "source": [
    " ids = [1, 2, 3, 4, 5, 6]"
   ]
  },
  {
   "cell_type": "code",
   "execution_count": null,
   "metadata": {},
   "outputs": [],
   "source": [
    "# YOUR CODE HERE\n"
   ]
  }
 ],
 "metadata": {
  "kernelspec": {
   "display_name": "Python 3 (ipykernel)",
   "language": "python",
   "name": "python3"
  },
  "language_info": {
   "codemirror_mode": {
    "name": "ipython",
    "version": 3
   },
   "file_extension": ".py",
   "mimetype": "text/x-python",
   "name": "python",
   "nbconvert_exporter": "python",
   "pygments_lexer": "ipython3",
   "version": "3.8.12"
  },
  "toc": {
   "base_numbering": 1,
   "nav_menu": {},
   "number_sections": false,
   "sideBar": true,
   "skip_h1_title": false,
   "title_cell": "Table of Contents",
   "title_sidebar": "Contents",
   "toc_cell": false,
   "toc_position": {},
   "toc_section_display": true,
   "toc_window_display": false
  },
  "varInspector": {
   "cols": {
    "lenName": 16,
    "lenType": 16,
    "lenVar": 40
   },
   "kernels_config": {
    "python": {
     "delete_cmd_postfix": "",
     "delete_cmd_prefix": "del ",
     "library": "var_list.py",
     "varRefreshCmd": "print(var_dic_list())"
    },
    "r": {
     "delete_cmd_postfix": ") ",
     "delete_cmd_prefix": "rm(",
     "library": "var_list.r",
     "varRefreshCmd": "cat(var_dic_list()) "
    }
   },
   "types_to_exclude": [
    "module",
    "function",
    "builtin_function_or_method",
    "instance",
    "_Feature"
   ],
   "window_display": false
  }
 },
 "nbformat": 4,
 "nbformat_minor": 4
}
