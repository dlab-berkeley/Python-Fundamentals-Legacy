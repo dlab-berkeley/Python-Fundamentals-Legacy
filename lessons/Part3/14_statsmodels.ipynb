{
 "cells": [
  {
   "cell_type": "markdown",
   "metadata": {},
   "source": [
    "# Statistical Analyses with `statsmodels`\n",
    "\n",
    "**Learning Objectives**:\n",
    "- Introduce the `statsmodels` package for statistical analysis.\n",
    "- Calculate a linear regression.\n",
    "- Perform a simple t-test.\n",
    "\n",
    "****\n",
    "\n",
    "`statsmodels` is a package that's useful for statistical analysis in Python. This allows for a lot of statistical models to be developed directly in Python without needing to go to other languages or software. In this section, we will introduce two basic statistical methods available through `statsmodels`. "
   ]
  },
  {
   "cell_type": "code",
   "execution_count": 1,
   "metadata": {},
   "outputs": [
    {
     "name": "stdout",
     "output_type": "stream",
     "text": [
      "Requirement already satisfied: statsmodels in /Users/emilygrabowski/opt/anaconda3/lib/python3.7/site-packages (0.11.0)\r\n",
      "Requirement already satisfied: pandas>=0.21 in /Users/emilygrabowski/opt/anaconda3/lib/python3.7/site-packages (from statsmodels) (1.3.5)\r\n",
      "Requirement already satisfied: patsy>=0.5 in /Users/emilygrabowski/opt/anaconda3/lib/python3.7/site-packages (from statsmodels) (0.5.1)\r\n",
      "Requirement already satisfied: numpy>=1.14 in /Users/emilygrabowski/opt/anaconda3/lib/python3.7/site-packages (from statsmodels) (1.21.5)\r\n",
      "Requirement already satisfied: scipy>=1.0 in /Users/emilygrabowski/opt/anaconda3/lib/python3.7/site-packages (from statsmodels) (1.4.1)\r\n",
      "Requirement already satisfied: python-dateutil>=2.7.3 in /Users/emilygrabowski/opt/anaconda3/lib/python3.7/site-packages (from pandas>=0.21->statsmodels) (2.8.1)\r\n",
      "Requirement already satisfied: pytz>=2017.3 in /Users/emilygrabowski/opt/anaconda3/lib/python3.7/site-packages (from pandas>=0.21->statsmodels) (2019.3)\r\n",
      "Requirement already satisfied: six in /Users/emilygrabowski/opt/anaconda3/lib/python3.7/site-packages (from patsy>=0.5->statsmodels) (1.15.0)\r\n"
     ]
    }
   ],
   "source": [
    "# Install statsmodels if necessary\n",
    "!pip install statsmodels"
   ]
  },
  {
   "cell_type": "code",
   "execution_count": 2,
   "metadata": {},
   "outputs": [],
   "source": [
    "import statsmodels.api as sm\n",
    "import pandas as pd\n",
    "import numpy as np"
   ]
  },
  {
   "cell_type": "code",
   "execution_count": 4,
   "metadata": {},
   "outputs": [],
   "source": [
    "# Load in data and drop null values\n",
    "df = pd.read_csv('penguins.csv').dropna()"
   ]
  },
  {
   "cell_type": "markdown",
   "metadata": {},
   "source": [
    "## Performing a t-test\n",
    "\n",
    "A t-test is a test of the significance for the difference between two distributions.\n",
    "\n",
    "Let's look at the difference between species of penguin. For example, for the Adelie and Chinstrap species, let's see if there's a significant difference in flipper length. \n",
    "\n",
    "We proceed as follows:\n",
    "\n",
    "1. Subset to the appropriate rows and column using `df.loc[]`.\n",
    "2. Run the `ttest_ind`` function on each series."
   ]
  },
  {
   "cell_type": "code",
   "execution_count": 5,
   "metadata": {},
   "outputs": [],
   "source": [
    "adelie = df.loc[df['species'] == 'Adelie', 'flipper_length_mm']\n",
    "chinstrap = df.loc[df['species'] == 'Chinstrap', 'flipper_length_mm']"
   ]
  },
  {
   "cell_type": "code",
   "execution_count": 6,
   "metadata": {},
   "outputs": [
    {
     "data": {
      "text/plain": [
       "(-5.797900789295094, 2.413241410912911e-08, 212.0)"
      ]
     },
     "execution_count": 6,
     "metadata": {},
     "output_type": "execute_result"
    }
   ],
   "source": [
    "res = sm.stats.ttest_ind(adelie, chinstrap)\n",
    "res"
   ]
  },
  {
   "cell_type": "code",
   "execution_count": 7,
   "metadata": {},
   "outputs": [
    {
     "name": "stdout",
     "output_type": "stream",
     "text": [
      "t-score: -5.797900789295094\n",
      "p-value: 2.413241410912911e-08\n",
      "Degrees of Freedom: 212.0\n"
     ]
    }
   ],
   "source": [
    "print('t-score:', res[0])\n",
    "print('p-value:', res[1])\n",
    "print('Degrees of Freedom:', res[2])"
   ]
  },
  {
   "cell_type": "markdown",
   "metadata": {},
   "source": [
    "These and other statistical tests can be found in the [documentation](https://www.statsmodels.org/dev/api.html). "
   ]
  },
  {
   "cell_type": "markdown",
   "metadata": {},
   "source": [
    "## Performing Linear Regression\n",
    "\n",
    "Regression is another useful part of the `statsmodels` package. We will work through an example with Ordinary Least Squares (OLS) regression, using `sm.OLS()`.\n",
    "\n",
    "For the penguins data, let's predict body mass as a function of culmen length, culmen depth, and flipper length. \n",
    "\n",
    "This regression function takes two inputs: \n",
    "- An array $X$ with the input variables (one or more columns). In this case, it will be an array containing culmen length, culmen depth, and flipper length.\n",
    "- An array $y$ with the output variable (single column). In this case, it will be body mass.\n",
    "\n",
    "All variables must be numeric (so that they can be converted to a numpy array within the function). The arrays must also have the same numpy of samples."
   ]
  },
  {
   "cell_type": "code",
   "execution_count": 8,
   "metadata": {},
   "outputs": [],
   "source": [
    "# Set up X and y\n",
    "X = df[['culmen_length_mm', 'culmen_depth_mm', 'flipper_length_mm']]\n",
    "y = df['body_mass_g']"
   ]
  },
  {
   "cell_type": "markdown",
   "metadata": {},
   "source": [
    "The model is set up using `sm.OLS(y, X)` which tells which data to use in the model. The `.fit()` method generates the fitted model, which is then saved as another variable. The fitted model has a `.summary()` method that gives a good summary of each coefficient and overall statistical properties of the model."
   ]
  },
  {
   "cell_type": "code",
   "execution_count": 9,
   "metadata": {},
   "outputs": [
    {
     "data": {
      "text/plain": [
       "<statsmodels.regression.linear_model.RegressionResultsWrapper at 0x7fca3d1c6990>"
      ]
     },
     "execution_count": 9,
     "metadata": {},
     "output_type": "execute_result"
    }
   ],
   "source": [
    "results = sm.OLS(y, X).fit()\n",
    "results"
   ]
  },
  {
   "cell_type": "code",
   "execution_count": 10,
   "metadata": {},
   "outputs": [
    {
     "name": "stdout",
     "output_type": "stream",
     "text": [
      "                                 OLS Regression Results                                \n",
      "=======================================================================================\n",
      "Dep. Variable:            body_mass_g   R-squared (uncentered):                   0.988\n",
      "Model:                            OLS   Adj. R-squared (uncentered):              0.988\n",
      "Method:                 Least Squares   F-statistic:                              9442.\n",
      "Date:                Sat, 30 Apr 2022   Prob (F-statistic):                   3.32e-320\n",
      "Time:                        06:57:33   Log-Likelihood:                         -2522.1\n",
      "No. Observations:                 334   AIC:                                      5050.\n",
      "Df Residuals:                     331   BIC:                                      5062.\n",
      "Df Model:                           3                                                  \n",
      "Covariance Type:            nonrobust                                                  \n",
      "=====================================================================================\n",
      "                        coef    std err          t      P>|t|      [0.025      0.975]\n",
      "-------------------------------------------------------------------------------------\n",
      "culmen_length_mm     19.4629      6.086      3.198      0.002       7.491      31.435\n",
      "culmen_depth_mm    -113.5160      8.966    -12.660      0.000    -131.154     -95.878\n",
      "flipper_length_mm    26.4164      1.513     17.458      0.000      23.440      29.393\n",
      "==============================================================================\n",
      "Omnibus:                        4.750   Durbin-Watson:                   2.475\n",
      "Prob(Omnibus):                  0.093   Jarque-Bera (JB):                4.250\n",
      "Skew:                           0.206   Prob(JB):                        0.119\n",
      "Kurtosis:                       2.632   Cond. No.                         73.6\n",
      "==============================================================================\n",
      "\n",
      "Warnings:\n",
      "[1] Standard Errors assume that the covariance matrix of the errors is correctly specified.\n"
     ]
    }
   ],
   "source": [
    "print(results.summary())"
   ]
  },
  {
   "cell_type": "markdown",
   "metadata": {},
   "source": [
    "## Challenge 1: More `statsmodels`\n",
    "\n",
    "Let's practice with some more `statsmodels` functions.\n",
    "\n",
    "Choose one of the following options (or both!):\n",
    "\n",
    "1. In the penguins dataset, conduct pairwise t-tests for body mass between all three species. Essentially, this means a t-test for Adelie vs Chinstrap, Adelie vs Gentoo, and Chinstrap vs Gentoo. Did you use a loop for this? Why or why not?\n",
    "2. Set up a new linear regression. In this case, normalize each of the columns by subtracting the mean of the column and dividing by the standard deviation. Check your normalization (The mean should be 0 and the standard deviation should be 1 for each of the columns), and re-run the linear regression. What does the model say now?\n",
    "\n",
    "Make notes of what barriers you run into, and remember the general steps of coding!"
   ]
  },
  {
   "cell_type": "code",
   "execution_count": null,
   "metadata": {},
   "outputs": [],
   "source": [
    "# YOUR CODE HERE\n"
   ]
  }
 ],
 "metadata": {
  "kernelspec": {
   "display_name": "Python 3",
   "language": "python",
   "name": "python3"
  },
  "language_info": {
   "codemirror_mode": {
    "name": "ipython",
    "version": 3
   },
   "file_extension": ".py",
   "mimetype": "text/x-python",
   "name": "python",
   "nbconvert_exporter": "python",
   "pygments_lexer": "ipython3",
   "version": "3.7.6"
  }
 },
 "nbformat": 4,
 "nbformat_minor": 4
}
