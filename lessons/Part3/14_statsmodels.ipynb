{
 "cells": [
  {
   "cell_type": "markdown",
   "metadata": {},
   "source": [
    "# Statistical Analyses with `statsmodels`\n",
    "\n",
    "**Learning Objectives**:\n",
    "- Introduce the `statsmodels` package for statistical analysis.\n",
    "- Calculate a linear regression.\n",
    "- Perform a simple t-test.\n",
    "\n",
    "****\n",
    "\n",
    "`statsmodels` is a package that's useful for statistical analysis in Python. This allows for a lot of statistical models to be developed directly in Python without needing to go to other languages or software. In this section, we will introduce two basic statistical methods available through `statsmodels`. "
   ]
  },
  {
   "cell_type": "code",
   "execution_count": null,
   "metadata": {},
   "outputs": [],
   "source": [
    "# Install statsmodels if necessary\n",
    "!pip install statsmodels"
   ]
  },
  {
   "cell_type": "code",
   "execution_count": null,
   "metadata": {},
   "outputs": [],
   "source": [
    "import statsmodels.api as sm\n",
    "import pandas as pd\n",
    "import numpy as np"
   ]
  },
  {
   "cell_type": "code",
   "execution_count": null,
   "metadata": {},
   "outputs": [],
   "source": [
    "# Load in data and drop null values\n",
    "df = pd.read_csv('penguins.csv').dropna()"
   ]
  },
  {
   "cell_type": "markdown",
   "metadata": {},
   "source": [
    "## Performing a t-test\n",
    "\n",
    "A t-test is a test of the significance for the difference between two distributions.\n",
    "\n",
    "Let's look at the difference between species of penguin. For example, for the Adelie and Chinstrap species, let's see if there's a significant difference in flipper length. \n",
    "\n",
    "We proceed as follows:\n",
    "\n",
    "1. Subset to the appropriate rows and column using `df.loc[]`.\n",
    "2. Run the `ttest_ind`` function on each series."
   ]
  },
  {
   "cell_type": "code",
   "execution_count": null,
   "metadata": {},
   "outputs": [],
   "source": [
    "adelie = df.loc[df['species'] == 'Adelie', 'flipper_length_mm']\n",
    "chinstrap = df.loc[df['species'] == 'Chinstrap', 'flipper_length_mm']"
   ]
  },
  {
   "cell_type": "code",
   "execution_count": null,
   "metadata": {},
   "outputs": [],
   "source": [
    "res = sm.stats.ttest_ind(adelie, chinstrap)\n",
    "res"
   ]
  },
  {
   "cell_type": "code",
   "execution_count": null,
   "metadata": {},
   "outputs": [],
   "source": [
    "print('t-score:', res[0])\n",
    "print('p-value:', res[1])\n",
    "print('Degrees of Freedom:', res[2])"
   ]
  },
  {
   "cell_type": "markdown",
   "metadata": {},
   "source": [
    "These and other statistical tests can be found in the [documentation](https://www.statsmodels.org/dev/api.html). "
   ]
  },
  {
   "cell_type": "markdown",
   "metadata": {},
   "source": [
    "## Performing Linear Regression\n",
    "\n",
    "Regression is another useful part of the `statsmodels` package. We will work through an example with Ordinary Least Squares (OLS) regression, using `sm.OLS()`.\n",
    "\n",
    "For the penguins data, let's predict body mass as a function of culmen length, culmen depth, and flipper length. \n",
    "\n",
    "This regression function takes two inputs: \n",
    "- An array $X$ with the input variables (one or more columns). In this case, it will be an array containing culmen length, culmen depth, and flipper length.\n",
    "- An array $y$ with the output variable (single column). In this case, it will be body mass.\n",
    "\n",
    "All variables must be numeric (so that they can be converted to a numpy array within the function). The arrays must also have the same numpy of samples."
   ]
  },
  {
   "cell_type": "code",
   "execution_count": null,
   "metadata": {},
   "outputs": [],
   "source": [
    "# Set up X and y\n",
    "X = df[['culmen_length_mm', 'culmen_depth_mm', 'flipper_length_mm']]\n",
    "y = df['body_mass_g']"
   ]
  },
  {
   "cell_type": "markdown",
   "metadata": {},
   "source": [
    "The model is set up using `sm.OLS(y, X)` which tells which data to use in the model. The `.fit()` method generates the fitted model, which is then saved as another variable. The fitted model has a `.summary()` method that gives a good summary of each coefficient and overall statistical properties of the model."
   ]
  },
  {
   "cell_type": "code",
   "execution_count": null,
   "metadata": {},
   "outputs": [],
   "source": [
    "results = sm.OLS(y, X).fit()\n",
    "results"
   ]
  },
  {
   "cell_type": "code",
   "execution_count": null,
   "metadata": {},
   "outputs": [],
   "source": [
    "print(results.summary())"
   ]
  },
  {
   "cell_type": "markdown",
   "metadata": {},
   "source": [
    "## Challenge 1: More `statsmodels`\n",
    "\n",
    "Let's practice with some more `statsmodels` functions.\n",
    "\n",
    "Choose one of the following options (or both!):\n",
    "\n",
    "1. In the penguins dataset, conduct pairwise t-tests for body mass between all three species. Essentially, this means a t-test for Adelie vs Chinstrap, Adelie vs Gentoo, and Chinstrap vs Gentoo. Did you use a loop for this? Why or why not?\n",
    "2. Set up a new linear regression. In this case, normalize each of the columns by subtracting the mean of the column and dividing by the standard deviation. Check your normalization (The mean should be 0 and the standard deviation should be 1 for each of the columns), and re-run the linear regression. What does the model say now?\n",
    "\n",
    "Make notes of what barriers you run into, and remember the general steps of coding!"
   ]
  },
  {
   "cell_type": "code",
   "execution_count": null,
   "metadata": {},
   "outputs": [],
   "source": [
    "# YOUR CODE HERE\n"
   ]
  }
 ],
 "metadata": {
  "kernelspec": {
   "display_name": "Python 3 (ipykernel)",
   "language": "python",
   "name": "python3"
  },
  "language_info": {
   "codemirror_mode": {
    "name": "ipython",
    "version": 3
   },
   "file_extension": ".py",
   "mimetype": "text/x-python",
   "name": "python",
   "nbconvert_exporter": "python",
   "pygments_lexer": "ipython3",
   "version": "3.8.12"
  }
 },
 "nbformat": 4,
 "nbformat_minor": 4
}
