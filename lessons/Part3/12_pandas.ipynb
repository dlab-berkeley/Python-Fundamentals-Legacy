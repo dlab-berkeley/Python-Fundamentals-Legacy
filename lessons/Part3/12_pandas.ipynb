{
 "cells": [
  {
   "cell_type": "markdown",
   "metadata": {},
   "source": [
    "# Data Analysis with `pandas`\n",
    "\n",
    "The first of the computing libraries we will cover is `pandas`. `pandas` is the most common package used in data analysis, with a focus on data manipulation and processing.\n",
    "\n",
    "We have already worked a bit with data frames, which are the core data type in `pandas`. In this notebook, we will cover some of the basic functionality of `pandas`.\n",
    "\n",
    "To learn more, check out D-Lab's [Python Data Wrangling workshop](https://github.com/dlab-berkeley/Python-Data-Wrangling)."
   ]
  },
  {
   "cell_type": "code",
   "execution_count": null,
   "metadata": {},
   "outputs": [],
   "source": [
    "# pandas is frequently imported with the alias pd\n",
    "import pandas as pd"
   ]
  },
  {
   "cell_type": "markdown",
   "metadata": {},
   "source": [
    "For now, let's use an existing dataset, the [penguins dataset](https://www.kaggle.com/datasets/parulpandey/palmer-archipelago-antarctica-penguin-data?resource=download&select=penguins_size.csv)! The dataset consists of body measurements for three penguin species (Adelie, Chinstrap, Gentoo). We will load in the file and use `df.head()` to look at the first few items.\n",
    "\n",
    "The data has the following columns: \n",
    "\n",
    "- Species (Adelie, Gentoo, Chinstrap)\n",
    "- Island\n",
    "- Culmen Length (mm)\n",
    "- Culmen Depth (mm)\n",
    "- Flipper Length (mm)\n",
    "- Body Mass (g)\n",
    "- Sex (MALE / FEMALE)\n",
    "\n",
    "The culmen is the top part of the penguin's bill!"
   ]
  },
  {
   "cell_type": "code",
   "execution_count": null,
   "metadata": {},
   "outputs": [],
   "source": [
    "penguins = pd.read_csv('penguins.csv')\n",
    "penguins.head()"
   ]
  },
  {
   "cell_type": "markdown",
   "metadata": {},
   "source": [
    "## DataFrame Methods\n",
    "\n",
    "There are many methods for summarizing `pd.DataFrames`:\n",
    "1. `df.describe()`: Summarize the data frame columns.\n",
    "2. `df.value_counts()`: Calculate counts per unique value in a column.\n",
    "3. `df[column'].unique()`:  Unique values in a column.\n",
    "4. `df.isnull().sum()`: Calculate the number of null values.\n",
    "5. `df.dropna()`: Drop all rows with null values."
   ]
  },
  {
   "cell_type": "code",
   "execution_count": null,
   "metadata": {},
   "outputs": [],
   "source": [
    "# Why are only some of the columns visible here?\n",
    "penguins.describe()"
   ]
  },
  {
   "cell_type": "code",
   "execution_count": null,
   "metadata": {},
   "outputs": [],
   "source": [
    "print(penguins['species'].unique())"
   ]
  },
  {
   "cell_type": "code",
   "execution_count": null,
   "metadata": {},
   "outputs": [],
   "source": [
    "print(penguins.value_counts('species'))"
   ]
  },
  {
   "cell_type": "code",
   "execution_count": null,
   "metadata": {},
   "outputs": [],
   "source": [
    "penguins.isnull().sum()"
   ]
  },
  {
   "cell_type": "code",
   "execution_count": null,
   "metadata": {},
   "outputs": [],
   "source": [
    "penguins = penguins.dropna()"
   ]
  },
  {
   "cell_type": "markdown",
   "metadata": {},
   "source": [
    "## Selecting Columns and Rows\n",
    "\n",
    "We can use `.loc[row, column]` to index columns and rows in the DataFrame. A `:` indicates to use *all* columns/rows."
   ]
  },
  {
   "cell_type": "code",
   "execution_count": null,
   "metadata": {},
   "outputs": [],
   "source": [
    "# First row, all columns\n",
    "penguins.loc[0, :]"
   ]
  },
  {
   "cell_type": "code",
   "execution_count": null,
   "metadata": {},
   "outputs": [],
   "source": [
    "# Select the species column, all rows\n",
    "penguins.loc[:, 'species']"
   ]
  },
  {
   "cell_type": "code",
   "execution_count": null,
   "metadata": {},
   "outputs": [],
   "source": [
    "# This is equivalent to directly selecting the column\n",
    "penguins['species']"
   ]
  },
  {
   "cell_type": "code",
   "execution_count": null,
   "metadata": {},
   "outputs": [],
   "source": [
    "# Select the body_mass for the third penguin\n",
    "penguins.loc[2, 'body_mass_g']"
   ]
  },
  {
   "cell_type": "code",
   "execution_count": null,
   "metadata": {},
   "outputs": [],
   "source": [
    "# We can also use Boolean masks to subset our data frame \n",
    "penguins.loc[penguins['sex'] == 'FEMALE', :]"
   ]
  },
  {
   "cell_type": "markdown",
   "metadata": {},
   "source": [
    "## Challenge 1: Subsetting a DataFrame\n",
    "\n",
    "1. Select all Adelie penguins and calculate the mean body mass (**Hint**: use `.mean()`).\n",
    "2. Do the same for Gentoo and Chinstrap penguins."
   ]
  },
  {
   "cell_type": "code",
   "execution_count": null,
   "metadata": {},
   "outputs": [],
   "source": [
    "##your code here"
   ]
  },
  {
   "cell_type": "markdown",
   "metadata": {},
   "source": [
    "## Modifying the DataFrame \n",
    "\n",
    "Sometimes, we want to modify a dataframe. For example, we can create a new column by simply assigning it with bracket notation. This is called **vectorization**, where instead of modifying each item in the series individually with a loop, it is computed all at once. This type of method is faster than looping for repeated computations."
   ]
  },
  {
   "cell_type": "code",
   "execution_count": null,
   "metadata": {},
   "outputs": [],
   "source": [
    "penguins['body_mass_kg'] = penguins['body_mass_g'] / 1000\n",
    "\n",
    "penguins"
   ]
  },
  {
   "cell_type": "markdown",
   "metadata": {},
   "source": [
    "A column can also be modified using bracket notation and methods. For example, we can convert a column to another type.\n",
    "\n",
    "If we convert `body_mass_g` to a string column, then numeric operations will no longer work."
   ]
  },
  {
   "cell_type": "code",
   "execution_count": null,
   "metadata": {},
   "outputs": [],
   "source": [
    "penguins['body_mass_g'] = penguins['body_mass_g'].astype(str)\n",
    "penguins['body_mass_g'] / 1000"
   ]
  },
  {
   "cell_type": "markdown",
   "metadata": {},
   "source": [
    "**Vectorized string functions** can also be applied to columns, using the syntax `df.str.method()`:"
   ]
  },
  {
   "cell_type": "code",
   "execution_count": null,
   "metadata": {},
   "outputs": [],
   "source": [
    "# Make island name lower case\n",
    "penguins['island'].str.lower()"
   ]
  },
  {
   "cell_type": "markdown",
   "metadata": {},
   "source": [
    "## Challenge 2: Column Manipulation\n",
    "\n",
    "1. Calculate the ratio between `culmen length` and `culmen depth` and save it to a new column called `culmen ratio`.\n",
    "2. Convert the `sex` column to a number (0 = FEMALE, 1 = MALE). "
   ]
  },
  {
   "cell_type": "code",
   "execution_count": null,
   "metadata": {},
   "outputs": [],
   "source": [
    "# YOUR CODE HERE\n"
   ]
  },
  {
   "cell_type": "markdown",
   "metadata": {},
   "source": [
    "## Plotting with `pandas`\n",
    "\n",
    "`pandas` also offers some basic plotting functions. In this section, we will cover three basic types of plots: histograms, scatter plots, and box plots. See the [documentation](https://pandas.pydata.org/docs/reference/api/pandas.DataFrame.plot.html) for further information on plotting and plot customization.\n",
    "\n",
    "### Histograms\n",
    "\n",
    "A histogram shows the distribution of a variable using binned values. We can call this using the syntax: `df[column].plot(kind='hist')`.\n",
    "\n",
    "The `bins` keyword argument changes the number of bins in the histogram. A few examples of the bins argument are below. Which plot would you pick?"
   ]
  },
  {
   "cell_type": "code",
   "execution_count": null,
   "metadata": {},
   "outputs": [],
   "source": [
    "print('Plot A: 5 Bins')\n",
    "penguins['body_mass_kg'].plot(kind='hist', title='Histogram of body mass values', bins=5)"
   ]
  },
  {
   "cell_type": "code",
   "execution_count": null,
   "metadata": {},
   "outputs": [],
   "source": [
    "print('Plot B: 10 Bins')\n",
    "penguins['body_mass_kg'].plot(kind='hist', title='Histogram of body mass values', bins=10)"
   ]
  },
  {
   "cell_type": "code",
   "execution_count": null,
   "metadata": {},
   "outputs": [],
   "source": [
    "print('Plot C: 20 bins')\n",
    "penguins['body_mass_kg'].plot(kind='hist', title='Histogram of body mass values', bins=20)"
   ]
  },
  {
   "cell_type": "markdown",
   "metadata": {},
   "source": [
    "### Scatter Plots\n",
    "\n",
    "Scatter plots visualize bivariate relationships. We can create a scatter plot by specifying the columns to use for the `x` and `y` axes:"
   ]
  },
  {
   "cell_type": "code",
   "execution_count": null,
   "metadata": {},
   "outputs": [],
   "source": [
    "penguins.plot(kind='scatter',\n",
    "              x='culmen_length_mm',\n",
    "              y='culmen_depth_mm',\n",
    "              title='Relationship between culmen length and depth')"
   ]
  },
  {
   "cell_type": "markdown",
   "metadata": {},
   "source": [
    "### Bar Plots\n",
    "\n",
    "Bar plots visualize the counts of several different groups. We'll often need to do some preprocessing before we can create the bar plot.\n",
    "\n",
    "For example, if we want to make a bar plot with the number of observations for each species, we summarize those values first, and then plot the result using a bar plot."
   ]
  },
  {
   "cell_type": "code",
   "execution_count": null,
   "metadata": {},
   "outputs": [],
   "source": [
    "penguins.value_counts('species').plot(kind='bar', title='Count of each species')"
   ]
  },
  {
   "cell_type": "markdown",
   "metadata": {},
   "source": [
    "## Challenge 3: Customizing a Plot\n",
    "\n",
    "Most visualizations treat images as \"layers\" on the backend. This allows us to create customizations to plots pretty easily, because each customization would be a new \"layer\".\n",
    "\n",
    "Let's create a scatter plot with multiple parts. Specifically, we want to visualize the culmen depth vs. the culmen length for each of the penguin species separately. We'll use different colors for each species.\n",
    "\n",
    "To do this, we set the first layer equal to the variable `ax`. This represents our plot. Then, in subsequent plots, we include the argument `ax=ax`. This tells `pandas` to send new plots as layers on the original plot.\n",
    "\n",
    "1. Make three different sub-DataFrames, one for each species, using `.loc[]` and a Boolean mask.\n",
    "2. Plot the first layer and set it equal to `ax`.\n",
    "3. Plot subsequent layers. Use a different color for each species (look at the documentation for the name of the color parameter). Some possible colors to use are `'green'`, `'red'`, `'purple'`, `'black'`, etc. \n",
    "4. Add a title and any other modifications to the plot (better x and y labels, for example)."
   ]
  },
  {
   "cell_type": "code",
   "execution_count": null,
   "metadata": {},
   "outputs": [],
   "source": [
    "# YOUR CODE HERE\n",
    "\n",
    "# Subset Data \n",
    "chinstrap = \n",
    "adelie = \n",
    "gentoo = \n",
    "\n",
    "# Create plot\n",
    "ax = # First layer\n",
    "# Plot other layers\n"
   ]
  },
  {
   "cell_type": "markdown",
   "metadata": {},
   "source": [
    "For more on data visualization, check out D-Lab's [Python Data Visualization workshop](https://github.com/dlab-berkeley/Python-Data-Visualization)."
   ]
  }
 ],
 "metadata": {
  "kernelspec": {
   "display_name": "Python 3 (ipykernel)",
   "language": "python",
   "name": "python3"
  },
  "language_info": {
   "codemirror_mode": {
    "name": "ipython",
    "version": 3
   },
   "file_extension": ".py",
   "mimetype": "text/x-python",
   "name": "python",
   "nbconvert_exporter": "python",
   "pygments_lexer": "ipython3",
   "version": "3.8.12"
  }
 },
 "nbformat": 4,
 "nbformat_minor": 4
}
