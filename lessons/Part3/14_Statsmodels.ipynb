{
 "cells": [
  {
   "cell_type": "markdown",
   "metadata": {},
   "source": [
    "# Statsmodels\n",
    "**Learning Objectives**:\n",
    "- Introduce the statsmodels package for statistical analysis\n",
    "- Calculate a linear regression\n",
    "- Perform a simple t-test\n",
    "\n",
    "\n",
    "## Introduction to Statsmodels\n",
    "\n",
    "[Statsmodels](https://www.statsmodels.org/stable/index.html) is a package that's useful for statistical analysis in Python. This allows for a lot of statistical models to be developed directly in Python without needing to go to other languages or software. In this section we will introduce two basic statistical methods available through statsmodels. We will be using the penguin dataset to do so.\n"
   ]
  },
  {
   "cell_type": "code",
   "execution_count": 1,
   "metadata": {},
   "outputs": [],
   "source": [
    "import statsmodels.api as sm\n",
    "import pandas as pd\n",
    "import numpy as np"
   ]
  },
  {
   "cell_type": "code",
   "execution_count": 2,
   "metadata": {},
   "outputs": [],
   "source": [
    "#load in data and drop null values\n",
    "df = pd.read_csv('penguins_size.csv').dropna()\n"
   ]
  },
  {
   "cell_type": "markdown",
   "metadata": {},
   "source": [
    "## T-test\n",
    "\n",
    "A t-test is a test of the significance of a difference between two distributions. Essentially, the t-test takes as input two series of values, and calculates whether the mean of those series are significantly different. This is used often for looking at whether two groups in an analysis are significantly different. \n",
    "\n",
    "Let's look at the difference  in flipper length between species of penguin. For example, for the Adelie and Chinstrap species, let's see if there's a significant difference in between groups. \n",
    "\n",
    "1. Subset to the appropriate rows and column using `df.loc[]`\n",
    "2. Run the `ttest_ind`` function on each series\n",
    "3. What does each value of the result correspond to? What is the p-value?"
   ]
  },
  {
   "cell_type": "code",
   "execution_count": 3,
   "metadata": {},
   "outputs": [
    {
     "name": "stdout",
     "output_type": "stream",
     "text": [
      "t-value: -5.797900789295094\n",
      "p-value: 2.413241410912911e-08\n",
      "DoF: 212.0\n"
     ]
    }
   ],
   "source": [
    "adelie = df.loc[df['species']=='Adelie','flipper_length_mm']\n",
    "chinstrap = df.loc[df['species']=='Chinstrap','flipper_length_mm']\n",
    "\n",
    "\n",
    "\n",
    "res = sm.stats.ttest_ind(adelie,chinstrap)\n",
    "print('t-value:',res[0])\n",
    "print('p-value:',res[1])\n",
    "print('DoF:',res[2])"
   ]
  },
  {
   "cell_type": "markdown",
   "metadata": {},
   "source": [
    "These and other statistical tests can be found in the [documentation](https://www.statsmodels.org/dev/api.html). "
   ]
  },
  {
   "cell_type": "markdown",
   "metadata": {},
   "source": [
    "## Linear Regression\n",
    "\n",
    "Regression is another useful part of the statsmodels package. We will work through an example with OLS (Ordinary Least Squares) regression, using `sm.OLS()`. For the penguins data, let's predict body mass as a function of culmen length/depth and flipper length. \n",
    "\n",
    "This regression function takes two inputs: \n",
    "- An array y with the output variable (single column)\n",
    "- An array X with the input variables (one or more columns)\n",
    "\n",
    "All variables must be numeric (so that they can be converted to a numpy array within the function). The arrays must also be the same number of rows. \n"
   ]
  },
  {
   "cell_type": "code",
   "execution_count": 5,
   "metadata": {},
   "outputs": [],
   "source": [
    "# Set up X and y\n",
    "y = df['body_mass_g']\n",
    "X = df.loc[:,['culmen_length_mm','culmen_depth_mm','flipper_length_mm']]\n",
    "\n"
   ]
  },
  {
   "cell_type": "markdown",
   "metadata": {},
   "source": [
    "The model is set up using `sm.OLS(y,X)` which tells which data to use in the model. `.fit()` generates the fitted model, which is then saved as another variable. The fitted model has a method `.summary()` that gives a good summary of each coefficient and overall statistical properties of the model."
   ]
  },
  {
   "cell_type": "code",
   "execution_count": 7,
   "metadata": {},
   "outputs": [
    {
     "name": "stdout",
     "output_type": "stream",
     "text": [
      "                                 OLS Regression Results                                \n",
      "=======================================================================================\n",
      "Dep. Variable:            body_mass_g   R-squared (uncentered):                   0.988\n",
      "Model:                            OLS   Adj. R-squared (uncentered):              0.988\n",
      "Method:                 Least Squares   F-statistic:                              9442.\n",
      "Date:                Fri, 29 Apr 2022   Prob (F-statistic):                   3.32e-320\n",
      "Time:                        09:52:17   Log-Likelihood:                         -2522.1\n",
      "No. Observations:                 334   AIC:                                      5050.\n",
      "Df Residuals:                     331   BIC:                                      5062.\n",
      "Df Model:                           3                                                  \n",
      "Covariance Type:            nonrobust                                                  \n",
      "=====================================================================================\n",
      "                        coef    std err          t      P>|t|      [0.025      0.975]\n",
      "-------------------------------------------------------------------------------------\n",
      "culmen_length_mm     19.4629      6.086      3.198      0.002       7.491      31.435\n",
      "culmen_depth_mm    -113.5160      8.966    -12.660      0.000    -131.154     -95.878\n",
      "flipper_length_mm    26.4164      1.513     17.458      0.000      23.440      29.393\n",
      "==============================================================================\n",
      "Omnibus:                        4.750   Durbin-Watson:                   2.475\n",
      "Prob(Omnibus):                  0.093   Jarque-Bera (JB):                4.250\n",
      "Skew:                           0.206   Prob(JB):                        0.119\n",
      "Kurtosis:                       2.632   Cond. No.                         73.6\n",
      "==============================================================================\n",
      "\n",
      "Warnings:\n",
      "[1] Standard Errors assume that the covariance matrix of the errors is correctly specified.\n"
     ]
    }
   ],
   "source": [
    "\n",
    "\n",
    "results=sm.OLS(y,X).fit()\n",
    "print(results.summary())"
   ]
  },
  {
   "cell_type": "markdown",
   "metadata": {},
   "source": [
    "## Challenge 1: further statsmodels\n",
    "\n",
    "Let's practice with some more statsmodels functions.\n",
    "\n",
    "Choose one of the following options (or both!): \n",
    "\n",
    "1. In the penguins dataset, conduct pairwise t-tests for body mass between all three species. (Essentially, this means a t-test for Adelie vs Chinstrap, Adelie vs Gentoo, and Chinstrap vs Gentoo). Did you use a loop for this? Why or why not?\n",
    "\n",
    "2. Set up a new linear regression. In this case, normalize each of the columns by subtracting the mean of the column and dividing by the standard deviation. Check your normalization (The mean should be 0 and the std deviation 1 for each of the columns), and re-run the linear regression. What does the model say now?\n",
    "\n",
    "\n",
    "Make notes of what barriers you run into, and remember the general steps of coding!"
   ]
  },
  {
   "cell_type": "code",
   "execution_count": 46,
   "metadata": {},
   "outputs": [],
   "source": [
    "## your model here"
   ]
  }
 ],
 "metadata": {
  "kernelspec": {
   "display_name": "Python 3",
   "language": "python",
   "name": "python3"
  },
  "language_info": {
   "codemirror_mode": {
    "name": "ipython",
    "version": 3
   },
   "file_extension": ".py",
   "mimetype": "text/x-python",
   "name": "python",
   "nbconvert_exporter": "python",
   "pygments_lexer": "ipython3",
   "version": "3.7.6"
  }
 },
 "nbformat": 4,
 "nbformat_minor": 4
}
