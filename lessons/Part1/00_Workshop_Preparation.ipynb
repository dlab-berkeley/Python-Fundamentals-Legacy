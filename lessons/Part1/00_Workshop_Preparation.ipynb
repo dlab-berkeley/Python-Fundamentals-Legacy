{
 "cells": [
  {
   "cell_type": "markdown",
   "metadata": {},
   "source": [
    "Before the workshop, complete the following steps to make sure that you are ready to start with the material for Part 1!\n",
    "\n",
    "# How do I run Python on my machine?\n",
    "\n",
    "There are a few options for running Python: \n",
    "\n",
    "1) **Jupyter Notebook:** All files in this workshop are Jupyter notebooks with the extension `.ipynb`. The key feature of a Jupyter notebook is its organization around *executable cells*. Jupyter notebooks are the most common format you'll encounter with Python programming revolving around data processing and analysis. Jupyter notebooks can be initialized with Anaconda Navigator.\n",
    "\n",
    "2) **Google Colab:** Similar in layout to a Jupyter notebook. The key difference is that Colab is hosted on Google servers rather than being run locally on your machine. Colab notebooks have more support for parallel processing, and don't require a Python distribution on your machine. They're similarly in an `.ipynb` format.\n",
    "\n",
    "3) **Spyder (or another [IDE](https://en.wikipedia.org/wiki/Comparison_of_integrated_development_environments#Python)):** An integrated development environment (IDE) is a software application that provides a host of tools for debugging and development. They'll usually be used for running Python script files with extension `.py`, though newer IDEs are adding functionality for Jupyter notebooks. Spyder comes installed with the Anaconda distribution.\n",
    "\n",
    "4) **Command Line:** It is also possible to run `.py` scripts directly in your terminal or command line (and even write the script in a text editor). This is not used for active development because it lacks the editor and tools of the above methods.\n",
    "\n",
    "For this workshop, we will use the Anaconda distribution of Python and the included Jupyter Notebook application. Before the first workshop, complete the following steps to get the workshop materials ready.\n",
    "\n",
    "## Step 1: Install Anaconda\n",
    "\n",
    "Some machines have Python pre-installed. However, we encourage students to download the Anaconda distribution of Python, which includes all of the software and packages that we will use throughout this workshop. \n",
    "\n",
    "1. Go to the [Anaconda homepage](https://www.anaconda.com/products/individual).\n",
    "2. Download the 64-bit Graphical Installer for your corresponding OS. \n",
    "3. Open the downloaded file and install the program.\n",
    "4. \"Anaconda Navigator\" will now be an application on your computer.\n",
    "\n",
    "## Step 2: Download the Workshop Materials\n",
    "\n",
    "Go to the [GitHub page](https://github.com/dlab-berkeley/python-fundamentals) for the workshop materials. On this page:\n",
    "   \n",
    "1. Click the green \"Code\" button in the top right.\n",
    "2. In the dropdown, click \"Download Zip\".\n",
    "3. Extract the downloaded files someplace familiar (we recommend your Desktop).\n",
    "\n",
    "## Step 3: Open the Jupyter Notebook\n",
    "\n",
    "1. Open the Anaconda Navigator program on your computer.\n",
    "2. Open \"Jupyter Notebook\" from there.\n",
    "3. Navigate to the Python Fundamentals folder. It will likely be called `Python-Fundamentals-main`. Depending on what your home directory is, this most likely mean clicking the \"Desktop\" folder, at which point the folder should be visible.\n",
    "4. Click on `Python-Fundamentals-main`.\n",
    "5. Navigate to `lessons/Part1`.\n",
    "\n",
    "You should then be able to see the files available for Part 1.\n",
    "\n",
    "Let's get programming!"
   ]
  }
 ],
 "metadata": {
  "kernelspec": {
   "display_name": "Python 3 (ipykernel)",
   "language": "python",
   "name": "python3"
  },
  "language_info": {
   "codemirror_mode": {
    "name": "ipython",
    "version": 3
   },
   "file_extension": ".py",
   "mimetype": "text/x-python",
   "name": "python",
   "nbconvert_exporter": "python",
   "pygments_lexer": "ipython3",
   "version": "3.8.12"
  }
 },
 "nbformat": 4,
 "nbformat_minor": 4
}
