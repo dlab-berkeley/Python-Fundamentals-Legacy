{
 "cells": [
  {
   "cell_type": "markdown",
   "id": "eec99dcb-9671-41ae-b63e-1c144472499e",
   "metadata": {},
   "source": [
    "## Challenge 1: Debugging Variable Names\n",
    "\n",
    "The following pieces of code include variable names that cause an error. What's wrong and how would we fix it? Are there any other guidelines that aren't being met with the variable names?"
   ]
  },
  {
   "cell_type": "code",
   "execution_count": null,
   "id": "c3791800-fbfc-4091-ae56-604ce20848d0",
   "metadata": {},
   "outputs": [],
   "source": [
    "# First variable starts with a number\n",
    "1a = 'Washington'\n",
    "b2 = 'Olympia'\n",
    "print('The capital of', a1, 'is', b2)"
   ]
  },
  {
   "cell_type": "code",
   "execution_count": null,
   "id": "8c843f25-e8e9-4279-8133-2a5d00a877be",
   "metadata": {},
   "outputs": [],
   "source": [
    "# Solution\n",
    "a1 = 'Washington'\n",
    "b2 = 'Olympia'\n",
    "print('The capital of', a1, 'is', b2)"
   ]
  },
  {
   "cell_type": "code",
   "execution_count": null,
   "id": "90db82d7-6abc-40ed-a089-1137768cc8a5",
   "metadata": {},
   "outputs": [],
   "source": [
    "# Python is case sensitive\n",
    "A_variable = 22\n",
    "anotherVariable = 42\n",
    "print(a_variable * anotherVariable)"
   ]
  },
  {
   "cell_type": "code",
   "execution_count": null,
   "id": "0904b236-4ab6-4fc8-a1c6-6034f5bcaab1",
   "metadata": {},
   "outputs": [],
   "source": [
    "# Solution\n",
    "a_variable = 22\n",
    "anotherVariable = 42\n",
    "print(a_variable * anotherVariable)"
   ]
  },
  {
   "cell_type": "markdown",
   "id": "4a73a59a-08de-4120-a03b-5d9199c8acac",
   "metadata": {},
   "source": [
    "## Challenge 2: Words to Code\n",
    "\n",
    "Translate the following clause into code and save the result to a variable. \n",
    "\n",
    "Divide 15 by the sum of a and three times b. Multiply the result by 2 and raise it to the 3rd power. What is the result? \n",
    "\n",
    "**Hint**: Order of operations applies in Python (i.e., PEMDAS)."
   ]
  },
  {
   "cell_type": "code",
   "execution_count": null,
   "id": "8fad546f-23ed-442a-bb9e-1a4901a4217a",
   "metadata": {},
   "outputs": [],
   "source": [
    "a = 2\n",
    "b = 3"
   ]
  },
  {
   "cell_type": "code",
   "execution_count": null,
   "id": "a61bc760-bea5-4ec9-9b75-d1a698318ff1",
   "metadata": {},
   "outputs": [],
   "source": [
    "((15 / (a + 3 * b)) * 2)**3"
   ]
  },
  {
   "cell_type": "markdown",
   "id": "3ff912cf-58d0-4667-b30b-26bd2e1db0e7",
   "metadata": {},
   "source": [
    "## Challenge 3: Swapping Values\n",
    "\n",
    "Let's say we have two variables and we want to swap the values for each of them. \n",
    "\n",
    "Does the following method accomplish the goal? What is the value of first and last at the end of the cell? `"
   ]
  },
  {
   "cell_type": "code",
   "execution_count": null,
   "id": "1926e851-4ca4-4b29-9dd9-7a9012870b8d",
   "metadata": {},
   "outputs": [],
   "source": [
    "first = 'a'\n",
    "last = 'z'\n",
    "\n",
    "first = last\n",
    "last = first\n",
    "\n",
    "print(first)\n",
    "print(last)"
   ]
  },
  {
   "cell_type": "code",
   "execution_count": null,
   "id": "e9938648-a837-4a63-be5b-80e68e91cafa",
   "metadata": {},
   "outputs": [],
   "source": [
    "first = 'a'\n",
    "last = 'z'\n",
    "\n",
    "# YOUR CODE HERE\n",
    "temp = first\n",
    "first = last\n",
    "last = temp\n",
    "\n",
    "print(first)\n",
    "print(last)"
   ]
  }
 ],
 "metadata": {
  "kernelspec": {
   "display_name": "Python 3 (ipykernel)",
   "language": "python",
   "name": "python3"
  },
  "language_info": {
   "codemirror_mode": {
    "name": "ipython",
    "version": 3
   },
   "file_extension": ".py",
   "mimetype": "text/x-python",
   "name": "python",
   "nbconvert_exporter": "python",
   "pygments_lexer": "ipython3",
   "version": "3.8.12"
  }
 },
 "nbformat": 4,
 "nbformat_minor": 5
}
