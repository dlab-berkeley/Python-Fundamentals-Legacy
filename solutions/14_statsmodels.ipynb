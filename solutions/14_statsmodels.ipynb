{
 "cells": [
  {
   "cell_type": "code",
   "execution_count": 17,
   "metadata": {},
   "outputs": [],
   "source": [
    "import pandas as pd\n",
    "import statsmodels.api as sm\n",
    "import numpy as np\n",
    "df = pd.read_csv('penguins.csv').dropna()"
   ]
  },
  {
   "cell_type": "markdown",
   "metadata": {},
   "source": [
    "## Challenge 1: More `statsmodels`\n",
    "\n",
    "Let's practice with some more `statsmodels` functions.\n",
    "\n",
    "Choose one of the following options (or both!):\n",
    "\n",
    "1. In the penguins dataset, conduct pairwise t-tests for body mass between all three species. Essentially, this means a t-test for Adelie vs Chinstrap, Adelie vs Gentoo, and Chinstrap vs Gentoo. Did you use a loop for this? Why or why not?\n",
    "2. Set up a new linear regression. In this case, normalize each of the columns by subtracting the mean of the column and dividing by the standard deviation. Check your normalization (The mean should be 0 and the standard deviation should be 1 for each of the columns), and re-run the linear regression. What does the model say now?\n",
    "\n",
    "Make notes of what barriers you run into, and remember the general steps of coding!"
   ]
  },
  {
   "cell_type": "code",
   "execution_count": 18,
   "metadata": {},
   "outputs": [],
   "source": [
    "#1. \n",
    "res = []\n",
    "species = ['adelie','gentoo','chinstrap']\n",
    "for ix1 in range(len(species)):\n",
    "    for ix2 in range(ix1+1,len(species)):\n",
    "        res.append(sm.stats.ttest_ind(df.loc[df['species'].str.lower() == species[ix1], 'flipper_length_mm'],\n",
    "                                      df.loc[df['species'].str.lower() == species[ix2], 'flipper_length_mm']))\n"
   ]
  },
  {
   "cell_type": "code",
   "execution_count": 19,
   "metadata": {},
   "outputs": [
    {
     "data": {
      "text/plain": [
       "[(-33.67736800017011, 1.492072905156102e-97, 264.0),\n",
       " (-5.797900789295094, 2.413241410912911e-08, 212.0),\n",
       " (20.834315327873732, 1.6250173863776565e-50, 186.0)]"
      ]
     },
     "execution_count": 19,
     "metadata": {},
     "output_type": "execute_result"
    }
   ],
   "source": [
    "res"
   ]
  },
  {
   "cell_type": "code",
   "execution_count": 20,
   "metadata": {},
   "outputs": [],
   "source": [
    "X = df[['culmen_length_mm', 'culmen_depth_mm', 'flipper_length_mm']]\n",
    "y = df['body_mass_g']"
   ]
  },
  {
   "cell_type": "code",
   "execution_count": 23,
   "metadata": {},
   "outputs": [
    {
     "name": "stdout",
     "output_type": "stream",
     "text": [
      "5.092400220735748e-16 1.0000000000000002\n"
     ]
    },
    {
     "name": "stderr",
     "output_type": "stream",
     "text": [
      "/Users/emilygrabowski/opt/anaconda3/lib/python3.7/site-packages/ipykernel_launcher.py:2: SettingWithCopyWarning: \n",
      "A value is trying to be set on a copy of a slice from a DataFrame.\n",
      "Try using .loc[row_indexer,col_indexer] = value instead\n",
      "\n",
      "See the caveats in the documentation: https://pandas.pydata.org/pandas-docs/stable/user_guide/indexing.html#returning-a-view-versus-a-copy\n",
      "  \n",
      "/Users/emilygrabowski/opt/anaconda3/lib/python3.7/site-packages/ipykernel_launcher.py:3: SettingWithCopyWarning: \n",
      "A value is trying to be set on a copy of a slice from a DataFrame.\n",
      "Try using .loc[row_indexer,col_indexer] = value instead\n",
      "\n",
      "See the caveats in the documentation: https://pandas.pydata.org/pandas-docs/stable/user_guide/indexing.html#returning-a-view-versus-a-copy\n",
      "  This is separate from the ipykernel package so we can avoid doing imports until\n",
      "/Users/emilygrabowski/opt/anaconda3/lib/python3.7/site-packages/ipykernel_launcher.py:4: SettingWithCopyWarning: \n",
      "A value is trying to be set on a copy of a slice from a DataFrame.\n",
      "Try using .loc[row_indexer,col_indexer] = value instead\n",
      "\n",
      "See the caveats in the documentation: https://pandas.pydata.org/pandas-docs/stable/user_guide/indexing.html#returning-a-view-versus-a-copy\n",
      "  after removing the cwd from sys.path.\n"
     ]
    }
   ],
   "source": [
    "#normalize\n",
    "X['culmen_length_mm'] = (X['culmen_length_mm']-np.mean(X['culmen_length_mm']))/(np.std(X['culmen_length_mm']))\n",
    "X['culmen_depth_mm'] = (X['culmen_depth_mm']-np.mean(X['culmen_depth_mm']))/(np.std(X['culmen_depth_mm']))\n",
    "X['flipper_length_mm'] = (X['flipper_length_mm']-np.mean(X['flipper_length_mm']))/(np.std(X['flipper_length_mm']))\n",
    "\n",
    "y = (y-np.mean(y))/(np.std(y))\n",
    "\n",
    "print(np.mean(y),np.std(y))"
   ]
  },
  {
   "cell_type": "code",
   "execution_count": 22,
   "metadata": {},
   "outputs": [
    {
     "name": "stdout",
     "output_type": "stream",
     "text": [
      "                                 OLS Regression Results                                \n",
      "=======================================================================================\n",
      "Dep. Variable:            body_mass_g   R-squared (uncentered):                   0.764\n",
      "Model:                            OLS   Adj. R-squared (uncentered):              0.762\n",
      "Method:                 Least Squares   F-statistic:                              357.9\n",
      "Date:                Sat, 30 Apr 2022   Prob (F-statistic):                   1.63e-103\n",
      "Time:                        07:08:51   Log-Likelihood:                         -232.54\n",
      "No. Observations:                 334   AIC:                                      471.1\n",
      "Df Residuals:                     331   BIC:                                      482.5\n",
      "Df Model:                           3                                                  \n",
      "Covariance Type:            nonrobust                                                  \n",
      "=====================================================================================\n",
      "                        coef    std err          t      P>|t|      [0.025      0.975]\n",
      "-------------------------------------------------------------------------------------\n",
      "culmen_length_mm      0.0229      0.036      0.631      0.529      -0.048       0.094\n",
      "culmen_depth_mm       0.0435      0.034      1.292      0.197      -0.023       0.110\n",
      "flipper_length_mm     0.8835      0.043     20.411      0.000       0.798       0.969\n",
      "==============================================================================\n",
      "Omnibus:                        5.722   Durbin-Watson:                   1.976\n",
      "Prob(Omnibus):                  0.057   Jarque-Bera (JB):                5.589\n",
      "Skew:                           0.315   Prob(JB):                       0.0612\n",
      "Kurtosis:                       3.076   Cond. No.                         2.92\n",
      "==============================================================================\n",
      "\n",
      "Warnings:\n",
      "[1] Standard Errors assume that the covariance matrix of the errors is correctly specified.\n"
     ]
    }
   ],
   "source": [
    "results = sm.OLS(y, X).fit()\n",
    "print(results.summary())"
   ]
  },
  {
   "cell_type": "code",
   "execution_count": null,
   "metadata": {},
   "outputs": [],
   "source": []
  }
 ],
 "metadata": {
  "kernelspec": {
   "display_name": "Python 3",
   "language": "python",
   "name": "python3"
  },
  "language_info": {
   "codemirror_mode": {
    "name": "ipython",
    "version": 3
   },
   "file_extension": ".py",
   "mimetype": "text/x-python",
   "name": "python",
   "nbconvert_exporter": "python",
   "pygments_lexer": "ipython3",
   "version": "3.7.6"
  }
 },
 "nbformat": 4,
 "nbformat_minor": 4
}
