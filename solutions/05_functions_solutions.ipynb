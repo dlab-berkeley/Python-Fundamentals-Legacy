{
 "cells": [
  {
   "cell_type": "markdown",
   "id": "4d4f4b7a-b1eb-4d00-af88-001e37a54bf6",
   "metadata": {},
   "source": [
    "## Challenge 1: Errors in Nested Functions\n",
    "\n",
    "The following code gives an error. What type of error is it? How can we fix it?"
   ]
  },
  {
   "cell_type": "code",
   "execution_count": null,
   "id": "1b71ed2a-e93f-42ba-adbd-38787dfcd791",
   "metadata": {},
   "outputs": [],
   "source": [
    "# Syntax error: we need an extra parenthesis\n",
    "print(max(len('hi'), len('hello'))"
   ]
  },
  {
   "cell_type": "code",
   "execution_count": null,
   "id": "3d559e8d-eaf6-43d3-be15-c40fe5af148d",
   "metadata": {},
   "outputs": [],
   "source": [
    "print(max(len('hi'), len('hello')))"
   ]
  },
  {
   "cell_type": "markdown",
   "id": "68e31a39-be38-4eb1-8519-e2ef779b7d51",
   "metadata": {},
   "source": [
    "## Challenge 2: Modular Division\n",
    "\n",
    "`divmod()` is another built-in Python function that returns two values: (1) the value when you divide `a` by `b`, and (2) the remainder.  Use the command `?divmod` for more information.\n",
    "\n",
    "Let's say we want to divide 16 by 5 using this function. \n",
    "\n",
    "1. What do you predict the outputs to be?\n",
    "2. Run the following line of code. Do the results match your expectations? If not, why?\n",
    "3. If necessary, modify the code."
   ]
  },
  {
   "cell_type": "code",
   "execution_count": null,
   "id": "33cc6bf1-07b6-4488-9059-f70b574935f1",
   "metadata": {},
   "outputs": [],
   "source": [
    "divmod(5, 16)"
   ]
  },
  {
   "cell_type": "code",
   "execution_count": null,
   "id": "7240f5f3-1b47-4433-aa96-7e815c142095",
   "metadata": {},
   "outputs": [],
   "source": [
    "# We need to switch the order to get 16 divided by 5\n",
    "divmod(16, 5)"
   ]
  },
  {
   "cell_type": "markdown",
   "id": "5c7834fa-fb64-4cc2-ae86-a582c0c4082b",
   "metadata": {},
   "source": [
    "## Challenge 3: Nested Functions\n",
    "\n",
    "1. Predict what each of the `print` statements in the program below will print.\n",
    "2. Does `max(len(rich), poor)` run or produce an error message?\n",
    "   If it runs, does its result make any sense?"
   ]
  },
  {
   "cell_type": "code",
   "execution_count": null,
   "id": "534c52aa-859f-4d3e-93d6-0a5b72131c20",
   "metadata": {},
   "outputs": [],
   "source": [
    "rich = \"gold\"\n",
    "poor = \"tin\"\n",
    "# Max returns the latest alphabetical entry when applied to strings\n",
    "print(max(rich, poor))\n",
    "# Max is telling us the length of the longest string\n",
    "print(max(len(rich), len(poor)))"
   ]
  }
 ],
 "metadata": {
  "kernelspec": {
   "display_name": "Python 3 (ipykernel)",
   "language": "python",
   "name": "python3"
  },
  "language_info": {
   "codemirror_mode": {
    "name": "ipython",
    "version": 3
   },
   "file_extension": ".py",
   "mimetype": "text/x-python",
   "name": "python",
   "nbconvert_exporter": "python",
   "pygments_lexer": "ipython3",
   "version": "3.8.12"
  }
 },
 "nbformat": 4,
 "nbformat_minor": 5
}
