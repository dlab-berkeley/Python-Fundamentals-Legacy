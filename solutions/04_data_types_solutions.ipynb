{
 "cells": [
  {
   "cell_type": "markdown",
   "id": "b073764e-b932-4efb-913e-763a8c1c8202",
   "metadata": {},
   "source": [
    "## Challenge 1: String to float\n",
    "\n",
    "Try converting `pi` to a float type."
   ]
  },
  {
   "cell_type": "code",
   "execution_count": null,
   "id": "f6c6f9e4-8e86-4dd9-bb79-b39c8a4ce1ab",
   "metadata": {},
   "outputs": [],
   "source": [
    "pi = '3.14'\n",
    "float(pi)"
   ]
  },
  {
   "cell_type": "markdown",
   "id": "bb6f7be4-7dee-4d16-9746-fa5ba7a60369",
   "metadata": {},
   "source": [
    "## Challenge 2: String Methods\n",
    "\n",
    "Use `str.split?` to read the documentation for `str.split()`. Use `str.split()` on the following sentences. What happens? What does `sep=` do? Try using `sep='.'`. \n",
    "\n",
    "**Bonus**: What is the type of the output?"
   ]
  },
  {
   "cell_type": "code",
   "execution_count": null,
   "id": "18b1b084-4a81-42f0-9266-053bed6e49da",
   "metadata": {},
   "outputs": [],
   "source": [
    "str.split?\n",
    "sentence1 = 'There is a giraffe. There is an elephant.'\n",
    "sentence2 = 'They are playing chess.'\n",
    "sentence3 = 'The elephant is winning. However, the giraffe can make a comeback.'"
   ]
  },
  {
   "cell_type": "code",
   "execution_count": null,
   "id": "57edbc69-d0e3-4b0c-9fc8-86417b1e68cf",
   "metadata": {},
   "outputs": [],
   "source": [
    "str.split(sentence1)"
   ]
  },
  {
   "cell_type": "code",
   "execution_count": null,
   "id": "06f90410-0236-4d9a-ab5e-004c5b912371",
   "metadata": {},
   "outputs": [],
   "source": [
    "str.split(sentence2)"
   ]
  },
  {
   "cell_type": "code",
   "execution_count": null,
   "id": "ea7ff5b8-a869-4822-a256-224e954c3e9d",
   "metadata": {},
   "outputs": [],
   "source": [
    "str.split(sentence3)"
   ]
  },
  {
   "cell_type": "code",
   "execution_count": null,
   "id": "fbf7e92a-b638-4b20-b09b-289fc18df5d6",
   "metadata": {},
   "outputs": [],
   "source": [
    "str.split(sentence1, sep='.')"
   ]
  },
  {
   "cell_type": "code",
   "execution_count": null,
   "id": "d26a2943-547f-4b68-bf2e-6163cd7178f8",
   "metadata": {},
   "outputs": [],
   "source": [
    "str.split(sentence2, sep='.')"
   ]
  },
  {
   "cell_type": "code",
   "execution_count": null,
   "id": "a41ae7e6-f1e7-41bc-abc0-1880c3184e1c",
   "metadata": {},
   "outputs": [],
   "source": [
    "str.split(sentence3, sep='.')"
   ]
  }
 ],
 "metadata": {
  "kernelspec": {
   "display_name": "Python 3 (ipykernel)",
   "language": "python",
   "name": "python3"
  },
  "language_info": {
   "codemirror_mode": {
    "name": "ipython",
    "version": 3
   },
   "file_extension": ".py",
   "mimetype": "text/x-python",
   "name": "python",
   "nbconvert_exporter": "python",
   "pygments_lexer": "ipython3",
   "version": "3.8.12"
  }
 },
 "nbformat": 4,
 "nbformat_minor": 5
}
