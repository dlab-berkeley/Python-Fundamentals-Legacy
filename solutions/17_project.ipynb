{
 "cells": [
  {
   "cell_type": "markdown",
   "metadata": {},
   "source": [
    "# Airline Tweets Analysis\n",
    "\n",
    "\n",
    "In this section, we will go through an example analysis of tweets about airlines. We will cover topics in loading data, manipulating data frames, and statistical analysis/ visualization."
   ]
  },
  {
   "cell_type": "markdown",
   "metadata": {},
   "source": [
    "## Introducing the Dataset\n",
    "\n",
    "- The dataset is from the [Airline tweets sentiment dataset](https://www.kaggle.com/datasets/crowdflower/twitter-airline-sentiment?resource=download), which uses tweets that tag one of several major airlines. The dataset also includes information about the tweet location and time, the airline mentioned, and the sentiment of the tweet.\n"
   ]
  },
  {
   "cell_type": "code",
   "execution_count": 40,
   "metadata": {},
   "outputs": [],
   "source": [
    "import numpy as np\n",
    "import pandas as pd\n",
    "import os\n",
    "import statsmodels.api as sm\n"
   ]
  },
  {
   "cell_type": "markdown",
   "metadata": {},
   "source": [
    "## 1. Import data:\n",
    "\n",
    "Skills to include: \n",
    "- import multiple files in a directory, (with some simple parsing funtions)\n",
    "- combine them into a single dataframe (pd.concat)\n",
    "- write a function called parse_files\n",
    "\n",
    "##  1.1: Load in a single file \n",
    "First, let's load in a single file and take a look at it. \n",
    "\n",
    "1. Read in the 'Delta.csv' file. What is the relative filepath for the function?\n",
    "2. How many rows are there? How many columns?\n",
    "3. Which columns seem most informative? Are there any extra or redundant columns? \n",
    "4. Where is airline represented in the csv file?\n",
    "\n"
   ]
  },
  {
   "cell_type": "code",
   "execution_count": 7,
   "metadata": {
    "scrolled": true
   },
   "outputs": [],
   "source": [
    "## solution\n",
    "single_airline = pd.read_csv('airline_data/Delta.csv')\n"
   ]
  },
  {
   "cell_type": "markdown",
   "metadata": {},
   "source": [
    "It turns out that the airline column is not present in any column, but is in the title of the csv file. Let's extract that information and add it to the dataframe in a column called `airline`. Make sure that it is lower case, and remove the file extension."
   ]
  },
  {
   "cell_type": "code",
   "execution_count": 8,
   "metadata": {},
   "outputs": [],
   "source": [
    "## solution\n",
    "name = 'airline_data/Delta.csv'.split('.')[0].lower()\n",
    "single_airline['airline'] = name"
   ]
  },
  {
   "cell_type": "markdown",
   "metadata": {},
   "source": [
    "Now let's make a function `process_file(filepath)` that loads in a file with a filepath and returns the dataframe with the airline column added."
   ]
  },
  {
   "cell_type": "code",
   "execution_count": 9,
   "metadata": {},
   "outputs": [],
   "source": [
    "## solution\n",
    "def process_file(filepath):\n",
    "    df= pd.read_csv(filepath)\n",
    "    df['airline'] = filepath.split('/')[1].split('.')[0].lower()\n",
    "    \n",
    "    return(df)\n"
   ]
  },
  {
   "cell_type": "markdown",
   "metadata": {},
   "source": [
    "Here's another filepath: `'data/US-Airways.csv'` What will be in the airline column in the output? \n"
   ]
  },
  {
   "cell_type": "code",
   "execution_count": 11,
   "metadata": {},
   "outputs": [
    {
     "data": {
      "text/html": [
       "<div>\n",
       "<style scoped>\n",
       "    .dataframe tbody tr th:only-of-type {\n",
       "        vertical-align: middle;\n",
       "    }\n",
       "\n",
       "    .dataframe tbody tr th {\n",
       "        vertical-align: top;\n",
       "    }\n",
       "\n",
       "    .dataframe thead th {\n",
       "        text-align: right;\n",
       "    }\n",
       "</style>\n",
       "<table border=\"1\" class=\"dataframe\">\n",
       "  <thead>\n",
       "    <tr style=\"text-align: right;\">\n",
       "      <th></th>\n",
       "      <th>Unnamed: 0</th>\n",
       "      <th>tweet_id</th>\n",
       "      <th>airline_sentiment</th>\n",
       "      <th>airline_sentiment_confidence</th>\n",
       "      <th>negativereason</th>\n",
       "      <th>negativereason_confidence</th>\n",
       "      <th>airline_sentiment_gold</th>\n",
       "      <th>name</th>\n",
       "      <th>negativereason_gold</th>\n",
       "      <th>retweet_count</th>\n",
       "      <th>text</th>\n",
       "      <th>tweet_coord</th>\n",
       "      <th>tweet_created</th>\n",
       "      <th>tweet_location</th>\n",
       "      <th>user_timezone</th>\n",
       "      <th>airline</th>\n",
       "    </tr>\n",
       "  </thead>\n",
       "  <tbody>\n",
       "    <tr>\n",
       "      <th>0</th>\n",
       "      <td>8966</td>\n",
       "      <td>570310600460525568</td>\n",
       "      <td>negative</td>\n",
       "      <td>0.6292</td>\n",
       "      <td>Flight Booking Problems</td>\n",
       "      <td>0.3146</td>\n",
       "      <td>NaN</td>\n",
       "      <td>jhazelnut</td>\n",
       "      <td>NaN</td>\n",
       "      <td>0</td>\n",
       "      <td>@USAirways  is there a better time to call? My...</td>\n",
       "      <td>NaN</td>\n",
       "      <td>2015-02-24 11:53:37 -0800</td>\n",
       "      <td>NaN</td>\n",
       "      <td>NaN</td>\n",
       "      <td>us-airways</td>\n",
       "    </tr>\n",
       "    <tr>\n",
       "      <th>1</th>\n",
       "      <td>8967</td>\n",
       "      <td>570310144459972608</td>\n",
       "      <td>negative</td>\n",
       "      <td>1.0000</td>\n",
       "      <td>Customer Service Issue</td>\n",
       "      <td>1.0000</td>\n",
       "      <td>NaN</td>\n",
       "      <td>GAKotsch</td>\n",
       "      <td>NaN</td>\n",
       "      <td>0</td>\n",
       "      <td>@USAirways and when will one of these agents b...</td>\n",
       "      <td>NaN</td>\n",
       "      <td>2015-02-24 11:51:48 -0800</td>\n",
       "      <td>NaN</td>\n",
       "      <td>Atlantic Time (Canada)</td>\n",
       "      <td>us-airways</td>\n",
       "    </tr>\n",
       "    <tr>\n",
       "      <th>2</th>\n",
       "      <td>8968</td>\n",
       "      <td>570309340952993796</td>\n",
       "      <td>neutral</td>\n",
       "      <td>1.0000</td>\n",
       "      <td>NaN</td>\n",
       "      <td>NaN</td>\n",
       "      <td>NaN</td>\n",
       "      <td>DebbiMcGinnis</td>\n",
       "      <td>NaN</td>\n",
       "      <td>0</td>\n",
       "      <td>@USAirways is a DM possible if you aren't foll...</td>\n",
       "      <td>NaN</td>\n",
       "      <td>2015-02-24 11:48:37 -0800</td>\n",
       "      <td>Missourah</td>\n",
       "      <td>Hawaii</td>\n",
       "      <td>us-airways</td>\n",
       "    </tr>\n",
       "    <tr>\n",
       "      <th>3</th>\n",
       "      <td>8969</td>\n",
       "      <td>570309000279023616</td>\n",
       "      <td>neutral</td>\n",
       "      <td>1.0000</td>\n",
       "      <td>NaN</td>\n",
       "      <td>NaN</td>\n",
       "      <td>NaN</td>\n",
       "      <td>AshleyKAtherton</td>\n",
       "      <td>NaN</td>\n",
       "      <td>0</td>\n",
       "      <td>@USAirways Fortunately you have staff like Lyn...</td>\n",
       "      <td>NaN</td>\n",
       "      <td>2015-02-24 11:47:16 -0800</td>\n",
       "      <td>NaN</td>\n",
       "      <td>Central Time (US &amp; Canada)</td>\n",
       "      <td>us-airways</td>\n",
       "    </tr>\n",
       "    <tr>\n",
       "      <th>4</th>\n",
       "      <td>8970</td>\n",
       "      <td>570308799950692353</td>\n",
       "      <td>negative</td>\n",
       "      <td>1.0000</td>\n",
       "      <td>Customer Service Issue</td>\n",
       "      <td>0.6452</td>\n",
       "      <td>NaN</td>\n",
       "      <td>retardedlarry</td>\n",
       "      <td>NaN</td>\n",
       "      <td>0</td>\n",
       "      <td>@USAirways just hung up on me again.  Another ...</td>\n",
       "      <td>NaN</td>\n",
       "      <td>2015-02-24 11:46:28 -0800</td>\n",
       "      <td>NaN</td>\n",
       "      <td>NaN</td>\n",
       "      <td>us-airways</td>\n",
       "    </tr>\n",
       "    <tr>\n",
       "      <th>...</th>\n",
       "      <td>...</td>\n",
       "      <td>...</td>\n",
       "      <td>...</td>\n",
       "      <td>...</td>\n",
       "      <td>...</td>\n",
       "      <td>...</td>\n",
       "      <td>...</td>\n",
       "      <td>...</td>\n",
       "      <td>...</td>\n",
       "      <td>...</td>\n",
       "      <td>...</td>\n",
       "      <td>...</td>\n",
       "      <td>...</td>\n",
       "      <td>...</td>\n",
       "      <td>...</td>\n",
       "      <td>...</td>\n",
       "    </tr>\n",
       "    <tr>\n",
       "      <th>2908</th>\n",
       "      <td>11874</td>\n",
       "      <td>567710245053407232</td>\n",
       "      <td>negative</td>\n",
       "      <td>1.0000</td>\n",
       "      <td>Customer Service Issue</td>\n",
       "      <td>0.6838</td>\n",
       "      <td>NaN</td>\n",
       "      <td>CharNewsJunkie</td>\n",
       "      <td>NaN</td>\n",
       "      <td>0</td>\n",
       "      <td>@USAirways I have been on hold with your Gold ...</td>\n",
       "      <td>NaN</td>\n",
       "      <td>2015-02-17 07:40:44 -0800</td>\n",
       "      <td>Charlotte, North Carolina</td>\n",
       "      <td>Eastern Time (US &amp; Canada)</td>\n",
       "      <td>us-airways</td>\n",
       "    </tr>\n",
       "    <tr>\n",
       "      <th>2909</th>\n",
       "      <td>11875</td>\n",
       "      <td>567698031081160704</td>\n",
       "      <td>negative</td>\n",
       "      <td>1.0000</td>\n",
       "      <td>Customer Service Issue</td>\n",
       "      <td>0.6963</td>\n",
       "      <td>NaN</td>\n",
       "      <td>MarkKersten</td>\n",
       "      <td>NaN</td>\n",
       "      <td>0</td>\n",
       "      <td>.@USAirways we have no choice but to pay anoth...</td>\n",
       "      <td>NaN</td>\n",
       "      <td>2015-02-17 06:52:12 -0800</td>\n",
       "      <td>London, UK</td>\n",
       "      <td>Quito</td>\n",
       "      <td>us-airways</td>\n",
       "    </tr>\n",
       "    <tr>\n",
       "      <th>2910</th>\n",
       "      <td>11876</td>\n",
       "      <td>567679487383699456</td>\n",
       "      <td>negative</td>\n",
       "      <td>1.0000</td>\n",
       "      <td>Customer Service Issue</td>\n",
       "      <td>0.7188</td>\n",
       "      <td>NaN</td>\n",
       "      <td>DonnyYardas</td>\n",
       "      <td>NaN</td>\n",
       "      <td>0</td>\n",
       "      <td>@USAirways reservations had me on hold for 2 h...</td>\n",
       "      <td>NaN</td>\n",
       "      <td>2015-02-17 05:38:31 -0800</td>\n",
       "      <td>Somewhere Creating</td>\n",
       "      <td>Eastern Time (US &amp; Canada)</td>\n",
       "      <td>us-airways</td>\n",
       "    </tr>\n",
       "    <tr>\n",
       "      <th>2911</th>\n",
       "      <td>11877</td>\n",
       "      <td>567670985403285504</td>\n",
       "      <td>negative</td>\n",
       "      <td>1.0000</td>\n",
       "      <td>Customer Service Issue</td>\n",
       "      <td>1.0000</td>\n",
       "      <td>NaN</td>\n",
       "      <td>sevnthstar</td>\n",
       "      <td>NaN</td>\n",
       "      <td>0</td>\n",
       "      <td>@USAirways @AmericanAir How r u supposed to ch...</td>\n",
       "      <td>NaN</td>\n",
       "      <td>2015-02-17 05:04:44 -0800</td>\n",
       "      <td>often underwater</td>\n",
       "      <td>Pacific Time (US &amp; Canada)</td>\n",
       "      <td>us-airways</td>\n",
       "    </tr>\n",
       "    <tr>\n",
       "      <th>2912</th>\n",
       "      <td>11878</td>\n",
       "      <td>567643252753694721</td>\n",
       "      <td>neutral</td>\n",
       "      <td>1.0000</td>\n",
       "      <td>NaN</td>\n",
       "      <td>NaN</td>\n",
       "      <td>NaN</td>\n",
       "      <td>ashenfaced</td>\n",
       "      <td>NaN</td>\n",
       "      <td>0</td>\n",
       "      <td>@USAirways how's us 1797 looking today?</td>\n",
       "      <td>NaN</td>\n",
       "      <td>2015-02-17 03:14:32 -0800</td>\n",
       "      <td>Brighton</td>\n",
       "      <td>NaN</td>\n",
       "      <td>us-airways</td>\n",
       "    </tr>\n",
       "  </tbody>\n",
       "</table>\n",
       "<p>2913 rows × 16 columns</p>\n",
       "</div>"
      ],
      "text/plain": [
       "      Unnamed: 0            tweet_id airline_sentiment  \\\n",
       "0           8966  570310600460525568          negative   \n",
       "1           8967  570310144459972608          negative   \n",
       "2           8968  570309340952993796           neutral   \n",
       "3           8969  570309000279023616           neutral   \n",
       "4           8970  570308799950692353          negative   \n",
       "...          ...                 ...               ...   \n",
       "2908       11874  567710245053407232          negative   \n",
       "2909       11875  567698031081160704          negative   \n",
       "2910       11876  567679487383699456          negative   \n",
       "2911       11877  567670985403285504          negative   \n",
       "2912       11878  567643252753694721           neutral   \n",
       "\n",
       "      airline_sentiment_confidence           negativereason  \\\n",
       "0                           0.6292  Flight Booking Problems   \n",
       "1                           1.0000   Customer Service Issue   \n",
       "2                           1.0000                      NaN   \n",
       "3                           1.0000                      NaN   \n",
       "4                           1.0000   Customer Service Issue   \n",
       "...                            ...                      ...   \n",
       "2908                        1.0000   Customer Service Issue   \n",
       "2909                        1.0000   Customer Service Issue   \n",
       "2910                        1.0000   Customer Service Issue   \n",
       "2911                        1.0000   Customer Service Issue   \n",
       "2912                        1.0000                      NaN   \n",
       "\n",
       "      negativereason_confidence airline_sentiment_gold             name  \\\n",
       "0                        0.3146                    NaN        jhazelnut   \n",
       "1                        1.0000                    NaN         GAKotsch   \n",
       "2                           NaN                    NaN    DebbiMcGinnis   \n",
       "3                           NaN                    NaN  AshleyKAtherton   \n",
       "4                        0.6452                    NaN    retardedlarry   \n",
       "...                         ...                    ...              ...   \n",
       "2908                     0.6838                    NaN   CharNewsJunkie   \n",
       "2909                     0.6963                    NaN      MarkKersten   \n",
       "2910                     0.7188                    NaN      DonnyYardas   \n",
       "2911                     1.0000                    NaN       sevnthstar   \n",
       "2912                        NaN                    NaN       ashenfaced   \n",
       "\n",
       "     negativereason_gold  retweet_count  \\\n",
       "0                    NaN              0   \n",
       "1                    NaN              0   \n",
       "2                    NaN              0   \n",
       "3                    NaN              0   \n",
       "4                    NaN              0   \n",
       "...                  ...            ...   \n",
       "2908                 NaN              0   \n",
       "2909                 NaN              0   \n",
       "2910                 NaN              0   \n",
       "2911                 NaN              0   \n",
       "2912                 NaN              0   \n",
       "\n",
       "                                                   text tweet_coord  \\\n",
       "0     @USAirways  is there a better time to call? My...         NaN   \n",
       "1     @USAirways and when will one of these agents b...         NaN   \n",
       "2     @USAirways is a DM possible if you aren't foll...         NaN   \n",
       "3     @USAirways Fortunately you have staff like Lyn...         NaN   \n",
       "4     @USAirways just hung up on me again.  Another ...         NaN   \n",
       "...                                                 ...         ...   \n",
       "2908  @USAirways I have been on hold with your Gold ...         NaN   \n",
       "2909  .@USAirways we have no choice but to pay anoth...         NaN   \n",
       "2910  @USAirways reservations had me on hold for 2 h...         NaN   \n",
       "2911  @USAirways @AmericanAir How r u supposed to ch...         NaN   \n",
       "2912            @USAirways how's us 1797 looking today?         NaN   \n",
       "\n",
       "                  tweet_created             tweet_location  \\\n",
       "0     2015-02-24 11:53:37 -0800                        NaN   \n",
       "1     2015-02-24 11:51:48 -0800                        NaN   \n",
       "2     2015-02-24 11:48:37 -0800                  Missourah   \n",
       "3     2015-02-24 11:47:16 -0800                        NaN   \n",
       "4     2015-02-24 11:46:28 -0800                        NaN   \n",
       "...                         ...                        ...   \n",
       "2908  2015-02-17 07:40:44 -0800  Charlotte, North Carolina   \n",
       "2909  2015-02-17 06:52:12 -0800                 London, UK   \n",
       "2910  2015-02-17 05:38:31 -0800         Somewhere Creating   \n",
       "2911  2015-02-17 05:04:44 -0800           often underwater   \n",
       "2912  2015-02-17 03:14:32 -0800                   Brighton   \n",
       "\n",
       "                   user_timezone     airline  \n",
       "0                            NaN  us-airways  \n",
       "1         Atlantic Time (Canada)  us-airways  \n",
       "2                         Hawaii  us-airways  \n",
       "3     Central Time (US & Canada)  us-airways  \n",
       "4                            NaN  us-airways  \n",
       "...                          ...         ...  \n",
       "2908  Eastern Time (US & Canada)  us-airways  \n",
       "2909                       Quito  us-airways  \n",
       "2910  Eastern Time (US & Canada)  us-airways  \n",
       "2911  Pacific Time (US & Canada)  us-airways  \n",
       "2912                         NaN  us-airways  \n",
       "\n",
       "[2913 rows x 16 columns]"
      ]
     },
     "execution_count": 11,
     "metadata": {},
     "output_type": "execute_result"
    }
   ],
   "source": [
    "process_file('airline_data/US-Airways.csv')"
   ]
  },
  {
   "cell_type": "markdown",
   "metadata": {},
   "source": [
    "Let's modify our function to make sure that multi-word airlines have a space rather than a hyphen between words."
   ]
  },
  {
   "cell_type": "code",
   "execution_count": 12,
   "metadata": {},
   "outputs": [],
   "source": [
    "## solution\n",
    "def process_file(filepath):\n",
    "    df= pd.read_csv(filepath)\n",
    "    df['airline'] = filepath.split('/')[1].split('.')[0].lower().replace('-',' ')\n",
    "    \n",
    "    return(df)\n"
   ]
  },
  {
   "cell_type": "markdown",
   "metadata": {},
   "source": [
    "## 1.2 Load in multiple files\n",
    "\n",
    "Now that we have a function, let's iterate through all of files in the directory. First we will check that the directory has all the same files we expect.\n"
   ]
  },
  {
   "cell_type": "code",
   "execution_count": 17,
   "metadata": {
    "scrolled": true
   },
   "outputs": [
    {
     "name": "stdout",
     "output_type": "stream",
     "text": [
      "Delta.csv\n",
      "United.csv\n",
      "Southwest.csv\n",
      "US-Airways.csv\n",
      "Virgin-America.csv\n",
      "American.csv\n"
     ]
    }
   ],
   "source": [
    "## solution\n",
    "directory = 'airline_data'\n",
    "for file in os.listdir(directory):\n",
    "    print(file)"
   ]
  },
  {
   "cell_type": "markdown",
   "metadata": {},
   "source": [
    "We notice that there is a .txt file in the directory, which isn't a pandas dataframe. This will cause an error in the dataframe processing, so let's use an if statement to filter out the .rtf extension. Modify your code from the cell above."
   ]
  },
  {
   "cell_type": "code",
   "execution_count": 15,
   "metadata": {
    "scrolled": false
   },
   "outputs": [
    {
     "name": "stdout",
     "output_type": "stream",
     "text": [
      "Delta.csv\n",
      "United.csv\n",
      "Southwest.csv\n",
      "US-Airways.csv\n",
      "Virgin-America.csv\n",
      "American.csv\n"
     ]
    }
   ],
   "source": [
    "## solution\n",
    "directory = 'airline_data'\n",
    "for file in os.listdir(directory):\n",
    "    if file.split('.')[1]=='csv':\n",
    "        print(file)"
   ]
  },
  {
   "cell_type": "markdown",
   "metadata": {},
   "source": [
    "Now we have all of the right files to process. Let's build a script that processes each file using the function from above and accumulates it into a list of dataframes. As the first step, I substitute in the `process_file` function from above. That results in the error below. What is the error? How do we resolve it?\n"
   ]
  },
  {
   "cell_type": "code",
   "execution_count": 16,
   "metadata": {},
   "outputs": [
    {
     "ename": "FileNotFoundError",
     "evalue": "[Errno 2] No such file or directory: 'Delta.csv'",
     "output_type": "error",
     "traceback": [
      "\u001b[0;31m---------------------------------------------------------------------------\u001b[0m",
      "\u001b[0;31mFileNotFoundError\u001b[0m                         Traceback (most recent call last)",
      "\u001b[0;32m<ipython-input-16-1b98e6bdc81d>\u001b[0m in \u001b[0;36m<module>\u001b[0;34m\u001b[0m\n\u001b[1;32m      2\u001b[0m \u001b[0;32mfor\u001b[0m \u001b[0mfile\u001b[0m \u001b[0;32min\u001b[0m \u001b[0mos\u001b[0m\u001b[0;34m.\u001b[0m\u001b[0mlistdir\u001b[0m\u001b[0;34m(\u001b[0m\u001b[0mdirectory\u001b[0m\u001b[0;34m)\u001b[0m\u001b[0;34m:\u001b[0m\u001b[0;34m\u001b[0m\u001b[0;34m\u001b[0m\u001b[0m\n\u001b[1;32m      3\u001b[0m     \u001b[0;32mif\u001b[0m \u001b[0mfile\u001b[0m\u001b[0;34m.\u001b[0m\u001b[0msplit\u001b[0m\u001b[0;34m(\u001b[0m\u001b[0;34m'.'\u001b[0m\u001b[0;34m)\u001b[0m\u001b[0;34m[\u001b[0m\u001b[0;36m1\u001b[0m\u001b[0;34m]\u001b[0m\u001b[0;34m==\u001b[0m\u001b[0;34m'csv'\u001b[0m\u001b[0;34m:\u001b[0m\u001b[0;34m\u001b[0m\u001b[0;34m\u001b[0m\u001b[0m\n\u001b[0;32m----> 4\u001b[0;31m         \u001b[0mprocess_file\u001b[0m\u001b[0;34m(\u001b[0m\u001b[0mfile\u001b[0m\u001b[0;34m)\u001b[0m\u001b[0;34m\u001b[0m\u001b[0;34m\u001b[0m\u001b[0m\n\u001b[0m",
      "\u001b[0;32m<ipython-input-12-52a964d23aa5>\u001b[0m in \u001b[0;36mprocess_file\u001b[0;34m(filepath)\u001b[0m\n\u001b[1;32m      1\u001b[0m \u001b[0;31m## solution\u001b[0m\u001b[0;34m\u001b[0m\u001b[0;34m\u001b[0m\u001b[0;34m\u001b[0m\u001b[0m\n\u001b[1;32m      2\u001b[0m \u001b[0;32mdef\u001b[0m \u001b[0mprocess_file\u001b[0m\u001b[0;34m(\u001b[0m\u001b[0mfilepath\u001b[0m\u001b[0;34m)\u001b[0m\u001b[0;34m:\u001b[0m\u001b[0;34m\u001b[0m\u001b[0;34m\u001b[0m\u001b[0m\n\u001b[0;32m----> 3\u001b[0;31m     \u001b[0mdf\u001b[0m\u001b[0;34m=\u001b[0m \u001b[0mpd\u001b[0m\u001b[0;34m.\u001b[0m\u001b[0mread_csv\u001b[0m\u001b[0;34m(\u001b[0m\u001b[0mfilepath\u001b[0m\u001b[0;34m)\u001b[0m\u001b[0;34m\u001b[0m\u001b[0;34m\u001b[0m\u001b[0m\n\u001b[0m\u001b[1;32m      4\u001b[0m     \u001b[0mdf\u001b[0m\u001b[0;34m[\u001b[0m\u001b[0;34m'airline'\u001b[0m\u001b[0;34m]\u001b[0m \u001b[0;34m=\u001b[0m \u001b[0mfilepath\u001b[0m\u001b[0;34m.\u001b[0m\u001b[0msplit\u001b[0m\u001b[0;34m(\u001b[0m\u001b[0;34m'/'\u001b[0m\u001b[0;34m)\u001b[0m\u001b[0;34m[\u001b[0m\u001b[0;36m1\u001b[0m\u001b[0;34m]\u001b[0m\u001b[0;34m.\u001b[0m\u001b[0msplit\u001b[0m\u001b[0;34m(\u001b[0m\u001b[0;34m'.'\u001b[0m\u001b[0;34m)\u001b[0m\u001b[0;34m[\u001b[0m\u001b[0;36m0\u001b[0m\u001b[0;34m]\u001b[0m\u001b[0;34m.\u001b[0m\u001b[0mlower\u001b[0m\u001b[0;34m(\u001b[0m\u001b[0;34m)\u001b[0m\u001b[0;34m.\u001b[0m\u001b[0mreplace\u001b[0m\u001b[0;34m(\u001b[0m\u001b[0;34m'-'\u001b[0m\u001b[0;34m,\u001b[0m\u001b[0;34m' '\u001b[0m\u001b[0;34m)\u001b[0m\u001b[0;34m\u001b[0m\u001b[0;34m\u001b[0m\u001b[0m\n\u001b[1;32m      5\u001b[0m \u001b[0;34m\u001b[0m\u001b[0m\n",
      "\u001b[0;32m~/opt/anaconda3/lib/python3.7/site-packages/pandas/util/_decorators.py\u001b[0m in \u001b[0;36mwrapper\u001b[0;34m(*args, **kwargs)\u001b[0m\n\u001b[1;32m    309\u001b[0m                     \u001b[0mstacklevel\u001b[0m\u001b[0;34m=\u001b[0m\u001b[0mstacklevel\u001b[0m\u001b[0;34m,\u001b[0m\u001b[0;34m\u001b[0m\u001b[0;34m\u001b[0m\u001b[0m\n\u001b[1;32m    310\u001b[0m                 )\n\u001b[0;32m--> 311\u001b[0;31m             \u001b[0;32mreturn\u001b[0m \u001b[0mfunc\u001b[0m\u001b[0;34m(\u001b[0m\u001b[0;34m*\u001b[0m\u001b[0margs\u001b[0m\u001b[0;34m,\u001b[0m \u001b[0;34m**\u001b[0m\u001b[0mkwargs\u001b[0m\u001b[0;34m)\u001b[0m\u001b[0;34m\u001b[0m\u001b[0;34m\u001b[0m\u001b[0m\n\u001b[0m\u001b[1;32m    312\u001b[0m \u001b[0;34m\u001b[0m\u001b[0m\n\u001b[1;32m    313\u001b[0m         \u001b[0;32mreturn\u001b[0m \u001b[0mwrapper\u001b[0m\u001b[0;34m\u001b[0m\u001b[0;34m\u001b[0m\u001b[0m\n",
      "\u001b[0;32m~/opt/anaconda3/lib/python3.7/site-packages/pandas/io/parsers/readers.py\u001b[0m in \u001b[0;36mread_csv\u001b[0;34m(filepath_or_buffer, sep, delimiter, header, names, index_col, usecols, squeeze, prefix, mangle_dupe_cols, dtype, engine, converters, true_values, false_values, skipinitialspace, skiprows, skipfooter, nrows, na_values, keep_default_na, na_filter, verbose, skip_blank_lines, parse_dates, infer_datetime_format, keep_date_col, date_parser, dayfirst, cache_dates, iterator, chunksize, compression, thousands, decimal, lineterminator, quotechar, quoting, doublequote, escapechar, comment, encoding, encoding_errors, dialect, error_bad_lines, warn_bad_lines, on_bad_lines, delim_whitespace, low_memory, memory_map, float_precision, storage_options)\u001b[0m\n\u001b[1;32m    584\u001b[0m     \u001b[0mkwds\u001b[0m\u001b[0;34m.\u001b[0m\u001b[0mupdate\u001b[0m\u001b[0;34m(\u001b[0m\u001b[0mkwds_defaults\u001b[0m\u001b[0;34m)\u001b[0m\u001b[0;34m\u001b[0m\u001b[0;34m\u001b[0m\u001b[0m\n\u001b[1;32m    585\u001b[0m \u001b[0;34m\u001b[0m\u001b[0m\n\u001b[0;32m--> 586\u001b[0;31m     \u001b[0;32mreturn\u001b[0m \u001b[0m_read\u001b[0m\u001b[0;34m(\u001b[0m\u001b[0mfilepath_or_buffer\u001b[0m\u001b[0;34m,\u001b[0m \u001b[0mkwds\u001b[0m\u001b[0;34m)\u001b[0m\u001b[0;34m\u001b[0m\u001b[0;34m\u001b[0m\u001b[0m\n\u001b[0m\u001b[1;32m    587\u001b[0m \u001b[0;34m\u001b[0m\u001b[0m\n\u001b[1;32m    588\u001b[0m \u001b[0;34m\u001b[0m\u001b[0m\n",
      "\u001b[0;32m~/opt/anaconda3/lib/python3.7/site-packages/pandas/io/parsers/readers.py\u001b[0m in \u001b[0;36m_read\u001b[0;34m(filepath_or_buffer, kwds)\u001b[0m\n\u001b[1;32m    480\u001b[0m \u001b[0;34m\u001b[0m\u001b[0m\n\u001b[1;32m    481\u001b[0m     \u001b[0;31m# Create the parser.\u001b[0m\u001b[0;34m\u001b[0m\u001b[0;34m\u001b[0m\u001b[0;34m\u001b[0m\u001b[0m\n\u001b[0;32m--> 482\u001b[0;31m     \u001b[0mparser\u001b[0m \u001b[0;34m=\u001b[0m \u001b[0mTextFileReader\u001b[0m\u001b[0;34m(\u001b[0m\u001b[0mfilepath_or_buffer\u001b[0m\u001b[0;34m,\u001b[0m \u001b[0;34m**\u001b[0m\u001b[0mkwds\u001b[0m\u001b[0;34m)\u001b[0m\u001b[0;34m\u001b[0m\u001b[0;34m\u001b[0m\u001b[0m\n\u001b[0m\u001b[1;32m    483\u001b[0m \u001b[0;34m\u001b[0m\u001b[0m\n\u001b[1;32m    484\u001b[0m     \u001b[0;32mif\u001b[0m \u001b[0mchunksize\u001b[0m \u001b[0;32mor\u001b[0m \u001b[0miterator\u001b[0m\u001b[0;34m:\u001b[0m\u001b[0;34m\u001b[0m\u001b[0;34m\u001b[0m\u001b[0m\n",
      "\u001b[0;32m~/opt/anaconda3/lib/python3.7/site-packages/pandas/io/parsers/readers.py\u001b[0m in \u001b[0;36m__init__\u001b[0;34m(self, f, engine, **kwds)\u001b[0m\n\u001b[1;32m    809\u001b[0m             \u001b[0mself\u001b[0m\u001b[0;34m.\u001b[0m\u001b[0moptions\u001b[0m\u001b[0;34m[\u001b[0m\u001b[0;34m\"has_index_names\"\u001b[0m\u001b[0;34m]\u001b[0m \u001b[0;34m=\u001b[0m \u001b[0mkwds\u001b[0m\u001b[0;34m[\u001b[0m\u001b[0;34m\"has_index_names\"\u001b[0m\u001b[0;34m]\u001b[0m\u001b[0;34m\u001b[0m\u001b[0;34m\u001b[0m\u001b[0m\n\u001b[1;32m    810\u001b[0m \u001b[0;34m\u001b[0m\u001b[0m\n\u001b[0;32m--> 811\u001b[0;31m         \u001b[0mself\u001b[0m\u001b[0;34m.\u001b[0m\u001b[0m_engine\u001b[0m \u001b[0;34m=\u001b[0m \u001b[0mself\u001b[0m\u001b[0;34m.\u001b[0m\u001b[0m_make_engine\u001b[0m\u001b[0;34m(\u001b[0m\u001b[0mself\u001b[0m\u001b[0;34m.\u001b[0m\u001b[0mengine\u001b[0m\u001b[0;34m)\u001b[0m\u001b[0;34m\u001b[0m\u001b[0;34m\u001b[0m\u001b[0m\n\u001b[0m\u001b[1;32m    812\u001b[0m \u001b[0;34m\u001b[0m\u001b[0m\n\u001b[1;32m    813\u001b[0m     \u001b[0;32mdef\u001b[0m \u001b[0mclose\u001b[0m\u001b[0;34m(\u001b[0m\u001b[0mself\u001b[0m\u001b[0;34m)\u001b[0m\u001b[0;34m:\u001b[0m\u001b[0;34m\u001b[0m\u001b[0;34m\u001b[0m\u001b[0m\n",
      "\u001b[0;32m~/opt/anaconda3/lib/python3.7/site-packages/pandas/io/parsers/readers.py\u001b[0m in \u001b[0;36m_make_engine\u001b[0;34m(self, engine)\u001b[0m\n\u001b[1;32m   1038\u001b[0m             )\n\u001b[1;32m   1039\u001b[0m         \u001b[0;31m# error: Too many arguments for \"ParserBase\"\u001b[0m\u001b[0;34m\u001b[0m\u001b[0;34m\u001b[0m\u001b[0;34m\u001b[0m\u001b[0m\n\u001b[0;32m-> 1040\u001b[0;31m         \u001b[0;32mreturn\u001b[0m \u001b[0mmapping\u001b[0m\u001b[0;34m[\u001b[0m\u001b[0mengine\u001b[0m\u001b[0;34m]\u001b[0m\u001b[0;34m(\u001b[0m\u001b[0mself\u001b[0m\u001b[0;34m.\u001b[0m\u001b[0mf\u001b[0m\u001b[0;34m,\u001b[0m \u001b[0;34m**\u001b[0m\u001b[0mself\u001b[0m\u001b[0;34m.\u001b[0m\u001b[0moptions\u001b[0m\u001b[0;34m)\u001b[0m  \u001b[0;31m# type: ignore[call-arg]\u001b[0m\u001b[0;34m\u001b[0m\u001b[0;34m\u001b[0m\u001b[0m\n\u001b[0m\u001b[1;32m   1041\u001b[0m \u001b[0;34m\u001b[0m\u001b[0m\n\u001b[1;32m   1042\u001b[0m     \u001b[0;32mdef\u001b[0m \u001b[0m_failover_to_python\u001b[0m\u001b[0;34m(\u001b[0m\u001b[0mself\u001b[0m\u001b[0;34m)\u001b[0m\u001b[0;34m:\u001b[0m\u001b[0;34m\u001b[0m\u001b[0;34m\u001b[0m\u001b[0m\n",
      "\u001b[0;32m~/opt/anaconda3/lib/python3.7/site-packages/pandas/io/parsers/c_parser_wrapper.py\u001b[0m in \u001b[0;36m__init__\u001b[0;34m(self, src, **kwds)\u001b[0m\n\u001b[1;32m     49\u001b[0m \u001b[0;34m\u001b[0m\u001b[0m\n\u001b[1;32m     50\u001b[0m         \u001b[0;31m# open handles\u001b[0m\u001b[0;34m\u001b[0m\u001b[0;34m\u001b[0m\u001b[0;34m\u001b[0m\u001b[0m\n\u001b[0;32m---> 51\u001b[0;31m         \u001b[0mself\u001b[0m\u001b[0;34m.\u001b[0m\u001b[0m_open_handles\u001b[0m\u001b[0;34m(\u001b[0m\u001b[0msrc\u001b[0m\u001b[0;34m,\u001b[0m \u001b[0mkwds\u001b[0m\u001b[0;34m)\u001b[0m\u001b[0;34m\u001b[0m\u001b[0;34m\u001b[0m\u001b[0m\n\u001b[0m\u001b[1;32m     52\u001b[0m         \u001b[0;32massert\u001b[0m \u001b[0mself\u001b[0m\u001b[0;34m.\u001b[0m\u001b[0mhandles\u001b[0m \u001b[0;32mis\u001b[0m \u001b[0;32mnot\u001b[0m \u001b[0;32mNone\u001b[0m\u001b[0;34m\u001b[0m\u001b[0;34m\u001b[0m\u001b[0m\n\u001b[1;32m     53\u001b[0m \u001b[0;34m\u001b[0m\u001b[0m\n",
      "\u001b[0;32m~/opt/anaconda3/lib/python3.7/site-packages/pandas/io/parsers/base_parser.py\u001b[0m in \u001b[0;36m_open_handles\u001b[0;34m(self, src, kwds)\u001b[0m\n\u001b[1;32m    227\u001b[0m             \u001b[0mmemory_map\u001b[0m\u001b[0;34m=\u001b[0m\u001b[0mkwds\u001b[0m\u001b[0;34m.\u001b[0m\u001b[0mget\u001b[0m\u001b[0;34m(\u001b[0m\u001b[0;34m\"memory_map\"\u001b[0m\u001b[0;34m,\u001b[0m \u001b[0;32mFalse\u001b[0m\u001b[0;34m)\u001b[0m\u001b[0;34m,\u001b[0m\u001b[0;34m\u001b[0m\u001b[0;34m\u001b[0m\u001b[0m\n\u001b[1;32m    228\u001b[0m             \u001b[0mstorage_options\u001b[0m\u001b[0;34m=\u001b[0m\u001b[0mkwds\u001b[0m\u001b[0;34m.\u001b[0m\u001b[0mget\u001b[0m\u001b[0;34m(\u001b[0m\u001b[0;34m\"storage_options\"\u001b[0m\u001b[0;34m,\u001b[0m \u001b[0;32mNone\u001b[0m\u001b[0;34m)\u001b[0m\u001b[0;34m,\u001b[0m\u001b[0;34m\u001b[0m\u001b[0;34m\u001b[0m\u001b[0m\n\u001b[0;32m--> 229\u001b[0;31m             \u001b[0merrors\u001b[0m\u001b[0;34m=\u001b[0m\u001b[0mkwds\u001b[0m\u001b[0;34m.\u001b[0m\u001b[0mget\u001b[0m\u001b[0;34m(\u001b[0m\u001b[0;34m\"encoding_errors\"\u001b[0m\u001b[0;34m,\u001b[0m \u001b[0;34m\"strict\"\u001b[0m\u001b[0;34m)\u001b[0m\u001b[0;34m,\u001b[0m\u001b[0;34m\u001b[0m\u001b[0;34m\u001b[0m\u001b[0m\n\u001b[0m\u001b[1;32m    230\u001b[0m         )\n\u001b[1;32m    231\u001b[0m \u001b[0;34m\u001b[0m\u001b[0m\n",
      "\u001b[0;32m~/opt/anaconda3/lib/python3.7/site-packages/pandas/io/common.py\u001b[0m in \u001b[0;36mget_handle\u001b[0;34m(path_or_buf, mode, encoding, compression, memory_map, is_text, errors, storage_options)\u001b[0m\n\u001b[1;32m    705\u001b[0m                 \u001b[0mencoding\u001b[0m\u001b[0;34m=\u001b[0m\u001b[0mioargs\u001b[0m\u001b[0;34m.\u001b[0m\u001b[0mencoding\u001b[0m\u001b[0;34m,\u001b[0m\u001b[0;34m\u001b[0m\u001b[0;34m\u001b[0m\u001b[0m\n\u001b[1;32m    706\u001b[0m                 \u001b[0merrors\u001b[0m\u001b[0;34m=\u001b[0m\u001b[0merrors\u001b[0m\u001b[0;34m,\u001b[0m\u001b[0;34m\u001b[0m\u001b[0;34m\u001b[0m\u001b[0m\n\u001b[0;32m--> 707\u001b[0;31m                 \u001b[0mnewline\u001b[0m\u001b[0;34m=\u001b[0m\u001b[0;34m\"\"\u001b[0m\u001b[0;34m,\u001b[0m\u001b[0;34m\u001b[0m\u001b[0;34m\u001b[0m\u001b[0m\n\u001b[0m\u001b[1;32m    708\u001b[0m             )\n\u001b[1;32m    709\u001b[0m         \u001b[0;32melse\u001b[0m\u001b[0;34m:\u001b[0m\u001b[0;34m\u001b[0m\u001b[0;34m\u001b[0m\u001b[0m\n",
      "\u001b[0;31mFileNotFoundError\u001b[0m: [Errno 2] No such file or directory: 'Delta.csv'"
     ]
    }
   ],
   "source": [
    "directory = 'airline_data'\n",
    "for file in os.listdir(directory):\n",
    "    if file.split('.')[1]=='csv':\n",
    "        process_file(file)"
   ]
  },
  {
   "cell_type": "markdown",
   "metadata": {},
   "source": [
    "Look up the function `os.path.join()` (and recall our File i/o notebook). How can this help dynamically make the filepath? What might be the advantage of this method over string concatenation? \n",
    "\n",
    "Update our loop to resolve the error from above.\n"
   ]
  },
  {
   "cell_type": "code",
   "execution_count": 24,
   "metadata": {},
   "outputs": [],
   "source": [
    "## solution\n",
    "\n",
    "directory = 'airline_data'\n",
    "for file in os.listdir(directory):\n",
    "    if file.split('.')[1]=='csv':\n",
    "        process_file(os.path.join(directory,file))"
   ]
  },
  {
   "cell_type": "markdown",
   "metadata": {},
   "source": [
    "Finally, let's aggregate these into a list and concatenate them into a whole dataframe."
   ]
  },
  {
   "cell_type": "code",
   "execution_count": 28,
   "metadata": {},
   "outputs": [],
   "source": [
    "## solution\n",
    "\n",
    "dflist = []\n",
    "directory = 'airline_data'\n",
    "for file in os.listdir(directory):\n",
    "    if file.split('.')[1]=='csv':\n",
    "        dflist.append(process_file(os.path.join(directory,file)))\n",
    "        \n",
    "df = pd.concat(dflist)\n",
    "    "
   ]
  },
  {
   "cell_type": "markdown",
   "metadata": {},
   "source": [
    "Finally, let's take a look at the final data frame.\n",
    "\n",
    "1. How many rows and columns are there in the total dataframe?\n",
    "2. How many unique airlines are in the dataset?\n",
    "3. How many numeric columns are there in the dataset?"
   ]
  },
  {
   "cell_type": "code",
   "execution_count": 29,
   "metadata": {},
   "outputs": [
    {
     "data": {
      "text/html": [
       "<div>\n",
       "<style scoped>\n",
       "    .dataframe tbody tr th:only-of-type {\n",
       "        vertical-align: middle;\n",
       "    }\n",
       "\n",
       "    .dataframe tbody tr th {\n",
       "        vertical-align: top;\n",
       "    }\n",
       "\n",
       "    .dataframe thead th {\n",
       "        text-align: right;\n",
       "    }\n",
       "</style>\n",
       "<table border=\"1\" class=\"dataframe\">\n",
       "  <thead>\n",
       "    <tr style=\"text-align: right;\">\n",
       "      <th></th>\n",
       "      <th>Unnamed: 0</th>\n",
       "      <th>tweet_id</th>\n",
       "      <th>airline_sentiment</th>\n",
       "      <th>airline_sentiment_confidence</th>\n",
       "      <th>negativereason</th>\n",
       "      <th>negativereason_confidence</th>\n",
       "      <th>airline_sentiment_gold</th>\n",
       "      <th>name</th>\n",
       "      <th>negativereason_gold</th>\n",
       "      <th>retweet_count</th>\n",
       "      <th>text</th>\n",
       "      <th>tweet_coord</th>\n",
       "      <th>tweet_created</th>\n",
       "      <th>tweet_location</th>\n",
       "      <th>user_timezone</th>\n",
       "      <th>airline</th>\n",
       "    </tr>\n",
       "  </thead>\n",
       "  <tbody>\n",
       "    <tr>\n",
       "      <th>0</th>\n",
       "      <td>6746</td>\n",
       "      <td>570309345281486848</td>\n",
       "      <td>positive</td>\n",
       "      <td>0.6469</td>\n",
       "      <td>NaN</td>\n",
       "      <td>NaN</td>\n",
       "      <td>NaN</td>\n",
       "      <td>jaxbra</td>\n",
       "      <td>NaN</td>\n",
       "      <td>0</td>\n",
       "      <td>@JetBlue Yesterday on my way from EWR to FLL j...</td>\n",
       "      <td>NaN</td>\n",
       "      <td>2015-02-24 11:48:38 -0800</td>\n",
       "      <td>east brunswick, nj</td>\n",
       "      <td>Atlantic Time (Canada)</td>\n",
       "      <td>delta</td>\n",
       "    </tr>\n",
       "    <tr>\n",
       "      <th>1</th>\n",
       "      <td>6747</td>\n",
       "      <td>570309308937842688</td>\n",
       "      <td>neutral</td>\n",
       "      <td>0.6869</td>\n",
       "      <td>NaN</td>\n",
       "      <td>NaN</td>\n",
       "      <td>NaN</td>\n",
       "      <td>Oneladyyouadore</td>\n",
       "      <td>NaN</td>\n",
       "      <td>0</td>\n",
       "      <td>@JetBlue I hope so because I fly very often an...</td>\n",
       "      <td>NaN</td>\n",
       "      <td>2015-02-24 11:48:29 -0800</td>\n",
       "      <td>Georgia</td>\n",
       "      <td>Quito</td>\n",
       "      <td>delta</td>\n",
       "    </tr>\n",
       "    <tr>\n",
       "      <th>2</th>\n",
       "      <td>6748</td>\n",
       "      <td>570308513181904901</td>\n",
       "      <td>neutral</td>\n",
       "      <td>1.0000</td>\n",
       "      <td>NaN</td>\n",
       "      <td>NaN</td>\n",
       "      <td>NaN</td>\n",
       "      <td>Oneladyyouadore</td>\n",
       "      <td>NaN</td>\n",
       "      <td>0</td>\n",
       "      <td>@JetBlue flight 1041 to Savannah, GA</td>\n",
       "      <td>NaN</td>\n",
       "      <td>2015-02-24 11:45:20 -0800</td>\n",
       "      <td>Georgia</td>\n",
       "      <td>Quito</td>\n",
       "      <td>delta</td>\n",
       "    </tr>\n",
       "    <tr>\n",
       "      <th>3</th>\n",
       "      <td>6749</td>\n",
       "      <td>570307820962373632</td>\n",
       "      <td>negative</td>\n",
       "      <td>1.0000</td>\n",
       "      <td>Flight Attendant Complaints</td>\n",
       "      <td>0.6522</td>\n",
       "      <td>NaN</td>\n",
       "      <td>Oneladyyouadore</td>\n",
       "      <td>NaN</td>\n",
       "      <td>0</td>\n",
       "      <td>@JetBlue They weren't on any flight, they just...</td>\n",
       "      <td>NaN</td>\n",
       "      <td>2015-02-24 11:42:34 -0800</td>\n",
       "      <td>Georgia</td>\n",
       "      <td>Quito</td>\n",
       "      <td>delta</td>\n",
       "    </tr>\n",
       "    <tr>\n",
       "      <th>4</th>\n",
       "      <td>6750</td>\n",
       "      <td>570305363859406848</td>\n",
       "      <td>negative</td>\n",
       "      <td>1.0000</td>\n",
       "      <td>Bad Flight</td>\n",
       "      <td>1.0000</td>\n",
       "      <td>NaN</td>\n",
       "      <td>Oneladyyouadore</td>\n",
       "      <td>NaN</td>\n",
       "      <td>0</td>\n",
       "      <td>@JetBlue everyone is here but our pilots are n...</td>\n",
       "      <td>NaN</td>\n",
       "      <td>2015-02-24 11:32:49 -0800</td>\n",
       "      <td>Georgia</td>\n",
       "      <td>Quito</td>\n",
       "      <td>delta</td>\n",
       "    </tr>\n",
       "  </tbody>\n",
       "</table>\n",
       "</div>"
      ],
      "text/plain": [
       "   Unnamed: 0            tweet_id airline_sentiment  \\\n",
       "0        6746  570309345281486848          positive   \n",
       "1        6747  570309308937842688           neutral   \n",
       "2        6748  570308513181904901           neutral   \n",
       "3        6749  570307820962373632          negative   \n",
       "4        6750  570305363859406848          negative   \n",
       "\n",
       "   airline_sentiment_confidence               negativereason  \\\n",
       "0                        0.6469                          NaN   \n",
       "1                        0.6869                          NaN   \n",
       "2                        1.0000                          NaN   \n",
       "3                        1.0000  Flight Attendant Complaints   \n",
       "4                        1.0000                   Bad Flight   \n",
       "\n",
       "   negativereason_confidence airline_sentiment_gold             name  \\\n",
       "0                        NaN                    NaN           jaxbra   \n",
       "1                        NaN                    NaN  Oneladyyouadore   \n",
       "2                        NaN                    NaN  Oneladyyouadore   \n",
       "3                     0.6522                    NaN  Oneladyyouadore   \n",
       "4                     1.0000                    NaN  Oneladyyouadore   \n",
       "\n",
       "  negativereason_gold  retweet_count  \\\n",
       "0                 NaN              0   \n",
       "1                 NaN              0   \n",
       "2                 NaN              0   \n",
       "3                 NaN              0   \n",
       "4                 NaN              0   \n",
       "\n",
       "                                                text tweet_coord  \\\n",
       "0  @JetBlue Yesterday on my way from EWR to FLL j...         NaN   \n",
       "1  @JetBlue I hope so because I fly very often an...         NaN   \n",
       "2               @JetBlue flight 1041 to Savannah, GA         NaN   \n",
       "3  @JetBlue They weren't on any flight, they just...         NaN   \n",
       "4  @JetBlue everyone is here but our pilots are n...         NaN   \n",
       "\n",
       "               tweet_created      tweet_location           user_timezone  \\\n",
       "0  2015-02-24 11:48:38 -0800  east brunswick, nj  Atlantic Time (Canada)   \n",
       "1  2015-02-24 11:48:29 -0800             Georgia                   Quito   \n",
       "2  2015-02-24 11:45:20 -0800             Georgia                   Quito   \n",
       "3  2015-02-24 11:42:34 -0800             Georgia                   Quito   \n",
       "4  2015-02-24 11:32:49 -0800             Georgia                   Quito   \n",
       "\n",
       "  airline  \n",
       "0   delta  \n",
       "1   delta  \n",
       "2   delta  \n",
       "3   delta  \n",
       "4   delta  "
      ]
     },
     "execution_count": 29,
     "metadata": {},
     "output_type": "execute_result"
    }
   ],
   "source": [
    "## solution\n",
    "df.shape\n",
    "\n",
    "df['airline'].nunique()\n",
    "\n",
    "df.head()"
   ]
  },
  {
   "cell_type": "markdown",
   "metadata": {},
   "source": [
    "## 2. Data processing\n",
    "\n",
    "\n",
    "## 2.1 Nulls\n",
    "\n",
    "First, let's summarize the null values in the dataset. First, let's look at which columns have null values in them. Which columns have null values? What are some ways that we could deal with them?\n",
    "\n",
    "**Hint**: `pd.isnull()` may be a good place to start. "
   ]
  },
  {
   "cell_type": "code",
   "execution_count": 30,
   "metadata": {
    "scrolled": true
   },
   "outputs": [
    {
     "data": {
      "text/plain": [
       "Unnamed: 0                          0\n",
       "tweet_id                            0\n",
       "airline_sentiment                   0\n",
       "airline_sentiment_confidence        0\n",
       "negativereason                   5462\n",
       "negativereason_confidence        4118\n",
       "airline_sentiment_gold          14600\n",
       "name                                0\n",
       "negativereason_gold             14608\n",
       "retweet_count                       0\n",
       "text                                0\n",
       "tweet_coord                     13621\n",
       "tweet_created                       0\n",
       "tweet_location                   4733\n",
       "user_timezone                    4820\n",
       "airline                             0\n",
       "dtype: int64"
      ]
     },
     "execution_count": 30,
     "metadata": {},
     "output_type": "execute_result"
    }
   ],
   "source": [
    "##solution\n",
    "df.isnull().sum()"
   ]
  },
  {
   "cell_type": "markdown",
   "metadata": {},
   "source": [
    "We won't be using any of the columns with null values in the analysis, so we don't need to drop any rows from this dataset. \n",
    "\n",
    "Let's drop the columns: `tweet_id`, `airline_sentiment_confidence`,`negativereason_confidence`,\n",
    "`airline_sentiment_gold`,`airline_sentiment_gold`,`tweet_coord`,\n",
    "`tweet_location`,`user_timezone`\n",
    "\n",
    "This will make the dataset more manageable for further analysis."
   ]
  },
  {
   "cell_type": "code",
   "execution_count": 31,
   "metadata": {},
   "outputs": [],
   "source": [
    "##solution\n",
    "columns_to_drop = ['Unnamed: 0','tweet_coord','tweet_id','user_timezone',\n",
    "         'tweet_created','tweet_location','negativereason_gold',\n",
    "        'airline_sentiment_gold']\n",
    "df.drop(columns_to_drop,axis=1,inplace=True)"
   ]
  },
  {
   "cell_type": "markdown",
   "metadata": {},
   "source": [
    "## 2.2 Feature extraction\n",
    "\n",
    "Now let's do some basic preprocessing on the data. First, let's look at the first few rows of the dataframe. \n"
   ]
  },
  {
   "cell_type": "code",
   "execution_count": 32,
   "metadata": {},
   "outputs": [
    {
     "data": {
      "text/html": [
       "<div>\n",
       "<style scoped>\n",
       "    .dataframe tbody tr th:only-of-type {\n",
       "        vertical-align: middle;\n",
       "    }\n",
       "\n",
       "    .dataframe tbody tr th {\n",
       "        vertical-align: top;\n",
       "    }\n",
       "\n",
       "    .dataframe thead th {\n",
       "        text-align: right;\n",
       "    }\n",
       "</style>\n",
       "<table border=\"1\" class=\"dataframe\">\n",
       "  <thead>\n",
       "    <tr style=\"text-align: right;\">\n",
       "      <th></th>\n",
       "      <th>airline_sentiment</th>\n",
       "      <th>airline_sentiment_confidence</th>\n",
       "      <th>negativereason</th>\n",
       "      <th>negativereason_confidence</th>\n",
       "      <th>name</th>\n",
       "      <th>retweet_count</th>\n",
       "      <th>text</th>\n",
       "      <th>airline</th>\n",
       "    </tr>\n",
       "  </thead>\n",
       "  <tbody>\n",
       "    <tr>\n",
       "      <th>0</th>\n",
       "      <td>positive</td>\n",
       "      <td>0.6469</td>\n",
       "      <td>NaN</td>\n",
       "      <td>NaN</td>\n",
       "      <td>jaxbra</td>\n",
       "      <td>0</td>\n",
       "      <td>@JetBlue Yesterday on my way from EWR to FLL j...</td>\n",
       "      <td>delta</td>\n",
       "    </tr>\n",
       "    <tr>\n",
       "      <th>1</th>\n",
       "      <td>neutral</td>\n",
       "      <td>0.6869</td>\n",
       "      <td>NaN</td>\n",
       "      <td>NaN</td>\n",
       "      <td>Oneladyyouadore</td>\n",
       "      <td>0</td>\n",
       "      <td>@JetBlue I hope so because I fly very often an...</td>\n",
       "      <td>delta</td>\n",
       "    </tr>\n",
       "    <tr>\n",
       "      <th>2</th>\n",
       "      <td>neutral</td>\n",
       "      <td>1.0000</td>\n",
       "      <td>NaN</td>\n",
       "      <td>NaN</td>\n",
       "      <td>Oneladyyouadore</td>\n",
       "      <td>0</td>\n",
       "      <td>@JetBlue flight 1041 to Savannah, GA</td>\n",
       "      <td>delta</td>\n",
       "    </tr>\n",
       "  </tbody>\n",
       "</table>\n",
       "</div>"
      ],
      "text/plain": [
       "  airline_sentiment  airline_sentiment_confidence negativereason  \\\n",
       "0          positive                        0.6469            NaN   \n",
       "1           neutral                        0.6869            NaN   \n",
       "2           neutral                        1.0000            NaN   \n",
       "\n",
       "   negativereason_confidence             name  retweet_count  \\\n",
       "0                        NaN           jaxbra              0   \n",
       "1                        NaN  Oneladyyouadore              0   \n",
       "2                        NaN  Oneladyyouadore              0   \n",
       "\n",
       "                                                text airline  \n",
       "0  @JetBlue Yesterday on my way from EWR to FLL j...   delta  \n",
       "1  @JetBlue I hope so because I fly very often an...   delta  \n",
       "2               @JetBlue flight 1041 to Savannah, GA   delta  "
      ]
     },
     "execution_count": 32,
     "metadata": {},
     "output_type": "execute_result"
    }
   ],
   "source": [
    "df.head(3)"
   ]
  },
  {
   "cell_type": "markdown",
   "metadata": {},
   "source": [
    "Let's do a couple of simple feature extraction on the text data, including the number of words. Let's make four new columns:\n",
    "1. `word_count`: number of words in each tweet\n",
    "2. `hashtags` : count the number of '#' symbols\n",
    "3. `mentions` : count number of '@' symbols\n",
    "4. one other text feature (your choice): for example number of capital words, links, or punctuation like '!', '?', etc. \n"
   ]
  },
  {
   "cell_type": "code",
   "execution_count": 33,
   "metadata": {},
   "outputs": [],
   "source": [
    "\n",
    "df['word_count'] = df['text'].str.split(' ').str.len()\n",
    "\n",
    "df['hashtags'] = df['text'].str.count('#')\n",
    "\n",
    "df['mentions'] = df['text'].str.count('@')\n",
    "\n",
    "\n",
    "# final one your choice"
   ]
  },
  {
   "cell_type": "markdown",
   "metadata": {},
   "source": [
    "Next steps in text preprocessing would often use tokenization or vectorization on tweets, to convert the words themselves to numerical data for preprocessing. If you are interested, check out the Python Text Analysis workshop! \n"
   ]
  },
  {
   "cell_type": "markdown",
   "metadata": {},
   "source": [
    "## 2.3 Subset tweets\n",
    "\n",
    "How many sentiment types are there in the dataframe? \n",
    "\n",
    "For our exploratory analysis, let's start by looking just at postive/negative tweets.\n",
    "\n",
    "1. Subset the dataframe\n",
    "2. What proportion of the tweets have a positive sentiment?\n",
    "\n",
    "\n",
    "What is the condition that we would use to subset the dataframe? Subset the dataframe for non-neutral tweets and save it to a dataframe called `pos_neg_df`"
   ]
  },
  {
   "cell_type": "code",
   "execution_count": 34,
   "metadata": {},
   "outputs": [],
   "source": [
    "##solution\n",
    "\n",
    "df['airline_sentiment'].unique()\n",
    "pos_neg_df = df.loc[(df['airline_sentiment']!= 'neutral'),:]"
   ]
  },
  {
   "cell_type": "markdown",
   "metadata": {},
   "source": [
    "The `airline_sentiment` column has the terms `positive` and `negative` in it. Let's change them to a numerical column, where 1 = positive, and 0 = negative."
   ]
  },
  {
   "cell_type": "code",
   "execution_count": 35,
   "metadata": {},
   "outputs": [
    {
     "name": "stderr",
     "output_type": "stream",
     "text": [
      "/Users/emilygrabowski/opt/anaconda3/lib/python3.7/site-packages/pandas/core/indexing.py:1817: SettingWithCopyWarning: \n",
      "A value is trying to be set on a copy of a slice from a DataFrame.\n",
      "Try using .loc[row_indexer,col_indexer] = value instead\n",
      "\n",
      "See the caveats in the documentation: https://pandas.pydata.org/pandas-docs/stable/user_guide/indexing.html#returning-a-view-versus-a-copy\n",
      "  self._setitem_single_column(loc, value, pi)\n"
     ]
    }
   ],
   "source": [
    "## solution\n",
    "pos_neg_df.loc[pos_neg_df['airline_sentiment']=='positive','airline_sentiment'] = 1\n",
    "pos_neg_df.loc[pos_neg_df['airline_sentiment']=='negative','airline_sentiment'] = 0"
   ]
  },
  {
   "cell_type": "markdown",
   "metadata": {},
   "source": [
    "# 3 Exploratory analysis\n",
    "\n",
    "##  3.1 Most common users, most frequent airlines\n",
    "\n",
    "Let's look at the users tweeting at the airlines. \n",
    "\n",
    "1. How many unique users are there in the dataset? \n",
    "2. Who tweeted the most about airlines in this dataset? (**Hint**: consider df.value_counts())\n",
    "3. Choose one of the users with the top five most tweets. Which airline are they tweeting about?\n",
    "\n",
    "**Hint**: Users are recorded in the `name` column\n"
   ]
  },
  {
   "cell_type": "code",
   "execution_count": 41,
   "metadata": {
    "scrolled": true
   },
   "outputs": [
    {
     "data": {
      "text/plain": [
       "'american'"
      ]
     },
     "execution_count": 41,
     "metadata": {},
     "output_type": "execute_result"
    }
   ],
   "source": [
    "## solution\n",
    "\n",
    "pos_neg_df['name'].unique()\n",
    "users = pos_neg_df.value_counts('name')\n",
    "pos_neg_df.loc[pos_neg_df['name'] == 'otisday','airline'].values[0]"
   ]
  },
  {
   "cell_type": "markdown",
   "metadata": {},
   "source": [
    "This format doesn't give a great idea of the overall distribution of the data. Let's plot this data in a histogram using `pd.plot`. How would I add a title and x-axis label to the plot?"
   ]
  },
  {
   "cell_type": "code",
   "execution_count": 42,
   "metadata": {
    "scrolled": true
   },
   "outputs": [
    {
     "data": {
      "text/plain": [
       "<AxesSubplot:ylabel='Frequency'>"
      ]
     },
     "execution_count": 42,
     "metadata": {},
     "output_type": "execute_result"
    },
    {
     "data": {
      "image/png": "[encoded data removed]",
      "text/plain": [
       "<Figure size 432x288 with 1 Axes>"
      ]
     },
     "metadata": {
      "needs_background": "light"
     },
     "output_type": "display_data"
    }
   ],
   "source": [
    "## solution\n",
    "users.plot(kind='hist')"
   ]
  },
  {
   "cell_type": "markdown",
   "metadata": {},
   "source": [
    "##  3.2 Most common negative reasons for tweets\n",
    "\n",
    "Now let's look at the `negativereasons` column. This column summarizes what topic the user is tweeting about for negative tweets. \n",
    "\n",
    "1. How many tweets are about each reason? Sort these from lowest frequency to highest frequency. Which reason is the most common, and which is the least?\n",
    "2. Make a bar plot from the frequency counts. Add a title and a y-label. \n",
    "\n",
    "**Bonus**: Add additional customizations to the plot\n"
   ]
  },
  {
   "cell_type": "code",
   "execution_count": 43,
   "metadata": {},
   "outputs": [
    {
     "data": {
      "text/plain": [
       "<AxesSubplot:xlabel='negativereason'>"
      ]
     },
     "execution_count": 43,
     "metadata": {},
     "output_type": "execute_result"
    },
    {
     "data": {
      "image/png": "[encoded data removed]",
      "text/plain": [
       "<Figure size 432x288 with 1 Axes>"
      ]
     },
     "metadata": {
      "needs_background": "light"
     },
     "output_type": "display_data"
    }
   ],
   "source": [
    "## Solution\n",
    "\n",
    "reasons = pos_neg_df.value_counts('negativereason')\n",
    "reasons.plot(kind = 'bar')\n"
   ]
  },
  {
   "cell_type": "markdown",
   "metadata": {},
   "source": [
    "## 3.3 Are negative tweets longer than positive tweets?\n",
    "\n",
    "Let's take a look at the negative and positive tweets. We are interested in the question of whether negative tweets are longer than positive tweets. Let's test this with a t-test.\n",
    "\n",
    "1. Subset the data into positive and negative tweets\n",
    "2. Select the `word_count` column\n",
    "3. Calculate the mean word count for each column. Which mean is higher?\n",
    "3. Use a t-test to compare the two sets of values from (2). What is the p-value of the result? \n",
    "4. Plot a histogram layer for both positive and negative tweet word counts. Choose an appropriate value for `bins`. What do you notice about the distribution?\n",
    "\n",
    "**Hint**: Refer to the statsmodels notebook from Day 3 for an example!"
   ]
  },
  {
   "cell_type": "code",
   "execution_count": 45,
   "metadata": {},
   "outputs": [
    {
     "data": {
      "text/plain": [
       "<AxesSubplot:ylabel='Frequency'>"
      ]
     },
     "execution_count": 45,
     "metadata": {},
     "output_type": "execute_result"
    },
    {
     "data": {
      "image/png": "[encoded data removed]",
      "text/plain": [
       "<Figure size 432x288 with 1 Axes>"
      ]
     },
     "metadata": {
      "needs_background": "light"
     },
     "output_type": "display_data"
    }
   ],
   "source": [
    "##solution\n",
    "res = sm.stats.ttest_ind(pos_neg_df.loc[pos_neg_df['airline_sentiment']==0,'word_count'],\n",
    "                         pos_neg_df.loc[pos_neg_df['airline_sentiment']==1,'word_count'])\n",
    "res\n",
    "\n",
    "pos_neg_df.loc[pos_neg_df['airline_sentiment']==0,'word_count'].plot(kind='hist')\n",
    "pos_neg_df.loc[pos_neg_df['airline_sentiment']==1,'word_count'].plot(kind='hist')"
   ]
  },
  {
   "cell_type": "markdown",
   "metadata": {},
   "source": [
    "## 3.4 Linear regression of tweet length"
   ]
  },
  {
   "cell_type": "markdown",
   "metadata": {},
   "source": [
    "Let's use a linear regression to look at other predictors of tweet length. \n",
    "Steps:\n",
    "1. Select the numeric columns and save it as `X` from the dataframe (except wordcount)\n",
    "2. Select word_count column and save as `y`\n",
    "3. Set up a linear regression and fit it to the data\n",
    "4. Interpret the model summary\n",
    "\n",
    "\n",
    "**Bonus**: How many lines of code did it take? Can you shorten it?"
   ]
  },
  {
   "cell_type": "code",
   "execution_count": 48,
   "metadata": {
    "scrolled": true
   },
   "outputs": [
    {
     "data": {
      "text/html": [
       "<table class=\"simpletable\">\n",
       "<caption>OLS Regression Results</caption>\n",
       "<tr>\n",
       "  <th>Dep. Variable:</th>            <td>y</td>        <th>  R-squared (uncentered):</th>      <td>   0.889</td> \n",
       "</tr>\n",
       "<tr>\n",
       "  <th>Model:</th>                   <td>OLS</td>       <th>  Adj. R-squared (uncentered):</th> <td>   0.889</td> \n",
       "</tr>\n",
       "<tr>\n",
       "  <th>Method:</th>             <td>Least Squares</td>  <th>  F-statistic:       </th>          <td>1.850e+04</td>\n",
       "</tr>\n",
       "<tr>\n",
       "  <th>Date:</th>             <td>Sat, 30 Apr 2022</td> <th>  Prob (F-statistic):</th>           <td>  0.00</td>  \n",
       "</tr>\n",
       "<tr>\n",
       "  <th>Time:</th>                 <td>07:54:27</td>     <th>  Log-Likelihood:    </th>          <td> -38157.</td> \n",
       "</tr>\n",
       "<tr>\n",
       "  <th>No. Observations:</th>      <td> 11541</td>      <th>  AIC:               </th>          <td>7.632e+04</td>\n",
       "</tr>\n",
       "<tr>\n",
       "  <th>Df Residuals:</th>          <td> 11536</td>      <th>  BIC:               </th>          <td>7.636e+04</td>\n",
       "</tr>\n",
       "<tr>\n",
       "  <th>Df Model:</th>              <td>     5</td>      <th>                     </th>              <td> </td>    \n",
       "</tr>\n",
       "<tr>\n",
       "  <th>Covariance Type:</th>      <td>nonrobust</td>    <th>                     </th>              <td> </td>    \n",
       "</tr>\n",
       "</table>\n",
       "<table class=\"simpletable\">\n",
       "<tr>\n",
       "   <td></td>     <th>coef</th>     <th>std err</th>      <th>t</th>      <th>P>|t|</th>  <th>[0.025</th>    <th>0.975]</th>  \n",
       "</tr>\n",
       "<tr>\n",
       "  <th>x1</th> <td>   -4.3082</td> <td>    0.151</td> <td>  -28.486</td> <td> 0.000</td> <td>   -4.605</td> <td>   -4.012</td>\n",
       "</tr>\n",
       "<tr>\n",
       "  <th>x2</th> <td>   17.4968</td> <td>    0.183</td> <td>   95.719</td> <td> 0.000</td> <td>   17.138</td> <td>   17.855</td>\n",
       "</tr>\n",
       "<tr>\n",
       "  <th>x3</th> <td>    0.1355</td> <td>    0.080</td> <td>    1.692</td> <td> 0.091</td> <td>   -0.022</td> <td>    0.292</td>\n",
       "</tr>\n",
       "<tr>\n",
       "  <th>x4</th> <td>   -0.0080</td> <td>    0.093</td> <td>   -0.085</td> <td> 0.932</td> <td>   -0.191</td> <td>    0.175</td>\n",
       "</tr>\n",
       "<tr>\n",
       "  <th>x5</th> <td>    2.7815</td> <td>    0.145</td> <td>   19.242</td> <td> 0.000</td> <td>    2.498</td> <td>    3.065</td>\n",
       "</tr>\n",
       "</table>\n",
       "<table class=\"simpletable\">\n",
       "<tr>\n",
       "  <th>Omnibus:</th>       <td>109.500</td> <th>  Durbin-Watson:     </th> <td>   1.969</td>\n",
       "</tr>\n",
       "<tr>\n",
       "  <th>Prob(Omnibus):</th> <td> 0.000</td>  <th>  Jarque-Bera (JB):  </th> <td> 108.136</td>\n",
       "</tr>\n",
       "<tr>\n",
       "  <th>Skew:</th>          <td>-0.218</td>  <th>  Prob(JB):          </th> <td>3.30e-24</td>\n",
       "</tr>\n",
       "<tr>\n",
       "  <th>Kurtosis:</th>      <td> 2.815</td>  <th>  Cond. No.          </th> <td>    5.68</td>\n",
       "</tr>\n",
       "</table><br/><br/>Warnings:<br/>[1] Standard Errors assume that the covariance matrix of the errors is correctly specified."
      ],
      "text/plain": [
       "<class 'statsmodels.iolib.summary.Summary'>\n",
       "\"\"\"\n",
       "                                 OLS Regression Results                                \n",
       "=======================================================================================\n",
       "Dep. Variable:                      y   R-squared (uncentered):                   0.889\n",
       "Model:                            OLS   Adj. R-squared (uncentered):              0.889\n",
       "Method:                 Least Squares   F-statistic:                          1.850e+04\n",
       "Date:                Sat, 30 Apr 2022   Prob (F-statistic):                        0.00\n",
       "Time:                        07:54:27   Log-Likelihood:                         -38157.\n",
       "No. Observations:               11541   AIC:                                  7.632e+04\n",
       "Df Residuals:                   11536   BIC:                                  7.636e+04\n",
       "Df Model:                           5                                                  \n",
       "Covariance Type:            nonrobust                                                  \n",
       "==============================================================================\n",
       "                 coef    std err          t      P>|t|      [0.025      0.975]\n",
       "------------------------------------------------------------------------------\n",
       "x1            -4.3082      0.151    -28.486      0.000      -4.605      -4.012\n",
       "x2            17.4968      0.183     95.719      0.000      17.138      17.855\n",
       "x3             0.1355      0.080      1.692      0.091      -0.022       0.292\n",
       "x4            -0.0080      0.093     -0.085      0.932      -0.191       0.175\n",
       "x5             2.7815      0.145     19.242      0.000       2.498       3.065\n",
       "==============================================================================\n",
       "Omnibus:                      109.500   Durbin-Watson:                   1.969\n",
       "Prob(Omnibus):                  0.000   Jarque-Bera (JB):              108.136\n",
       "Skew:                          -0.218   Prob(JB):                     3.30e-24\n",
       "Kurtosis:                       2.815   Cond. No.                         5.68\n",
       "==============================================================================\n",
       "\n",
       "Warnings:\n",
       "[1] Standard Errors assume that the covariance matrix of the errors is correctly specified.\n",
       "\"\"\""
      ]
     },
     "execution_count": 48,
     "metadata": {},
     "output_type": "execute_result"
    }
   ],
   "source": [
    "## solution\n",
    "X = np.array(pos_neg_df[['airline_sentiment','airline_sentiment_confidence','retweet_count','hashtags','mentions']],dtype=float)\n",
    "\n",
    "y = np.array(pos_neg_df['word_count'],dtype=float)\n",
    "\n",
    "model=sm.OLS(y,X).fit()\n",
    "\n",
    "model.summary()"
   ]
  },
  {
   "cell_type": "markdown",
   "metadata": {},
   "source": [
    "## Next Steps\n",
    "\n",
    "This notebook took us through importing multiple csv files, data manipulation, and some basic visualizations and analysis of data. If you were working on this dataset, what would you potentially do next? It could be either an analysis, a new feature to include, a visualization that might help represent the data, etc."
   ]
  }
 ],
 "metadata": {
  "kernelspec": {
   "display_name": "Python 3",
   "language": "python",
   "name": "python3"
  },
  "language_info": {
   "codemirror_mode": {
    "name": "ipython",
    "version": 3
   },
   "file_extension": ".py",
   "mimetype": "text/x-python",
   "name": "python",
   "nbconvert_exporter": "python",
   "pygments_lexer": "ipython3",
   "version": "3.7.6"
  }
 },
 "nbformat": 4,
 "nbformat_minor": 4
}
